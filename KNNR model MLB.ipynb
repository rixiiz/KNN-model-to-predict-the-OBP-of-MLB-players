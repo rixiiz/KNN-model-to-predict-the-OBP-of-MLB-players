{
 "cells": [
  {
   "cell_type": "markdown",
   "id": "33455fce-a15a-46c6-a642-3d42c8f99ae2",
   "metadata": {},
   "source": [
    "Importing necessary libraries"
   ]
  },
  {
   "cell_type": "code",
   "execution_count": 254,
   "id": "b6c67685-b23f-4843-b1f4-14b59ee561bf",
   "metadata": {},
   "outputs": [],
   "source": [
    "import pandas as pd\n",
    "import numpy as np\n",
    "import matplotlib.pyplot as plt\n",
    "import plotly.graph_objs as go\n",
    "import plotly.express as px\n",
    "import itertools\n",
    "\n",
    "from collections import Counter\n",
    "from matplotlib.colors import ListedColormap\n",
    "from sklearn.model_selection import KFold\n",
    "from sklearn.model_selection import train_test_split\n",
    "from sklearn.preprocessing import StandardScaler\n",
    "from sklearn.neighbors import KNeighborsRegressor\n",
    "from sklearn.metrics import confusion_matrix\n",
    "from sklearn.metrics import f1_score\n",
    "from sklearn.metrics import accuracy_score\n",
    "from sklearn.metrics import mean_squared_error\n",
    "%matplotlib inline"
   ]
  },
  {
   "cell_type": "markdown",
   "id": "0c17a67d-11c5-49d7-b00b-f30c3afbcb2e",
   "metadata": {},
   "source": [
    "Loading the csv filed using pandas"
   ]
  },
  {
   "cell_type": "code",
   "execution_count": 257,
   "id": "7ef6ec8b-de62-4db6-ae8f-44b31eda21ab",
   "metadata": {},
   "outputs": [],
   "source": [
    "# Load the april OBP CSV\n",
    "april_stats = pd.read_csv(r'C:\\College\\1 IB\\EE\\april.csv', encoding='cp861', sep=';')\n",
    "\n",
    "# Load the end-of-season OBP CSV\n",
    "end_season_stats = pd.read_csv(r'C:\\College\\1 IB\\EE\\Fullseason.csv', encoding='cp861', sep=';')"
   ]
  },
  {
   "cell_type": "markdown",
   "id": "c2ae3656-3f72-478b-aec6-05c8b0db2e72",
   "metadata": {},
   "source": [
    "Checking for name duplicates and remove them"
   ]
  },
  {
   "cell_type": "code",
   "execution_count": 260,
   "id": "91aa621f-6009-4568-be96-3af170c759a8",
   "metadata": {},
   "outputs": [],
   "source": [
    "april_stats = april_stats.drop_duplicates(subset=['Name'])\n",
    "end_season_stats = end_season_stats.drop_duplicates(subset=['Name'])"
   ]
  },
  {
   "cell_type": "markdown",
   "id": "80a26b47-1b97-45e0-808e-9861de6e140e",
   "metadata": {},
   "source": [
    "Finding the names that april_stats and end_season_stats share"
   ]
  },
  {
   "cell_type": "code",
   "execution_count": 263,
   "id": "a1029137-1faa-4755-985c-e22caa6480c2",
   "metadata": {},
   "outputs": [],
   "source": [
    "common_players = set(april_stats['Name']).intersection(set(end_season_stats['Name']))"
   ]
  },
  {
   "cell_type": "markdown",
   "id": "81ac1bce-d6be-43e9-9c07-2d40ade0b6b8",
   "metadata": {},
   "source": [
    "Filter new datasets with only names that appear in both april_stats and end_season_stats"
   ]
  },
  {
   "cell_type": "code",
   "execution_count": 266,
   "id": "ac06d6b2-9512-45de-9816-9dfde2df39f9",
   "metadata": {},
   "outputs": [],
   "source": [
    "# Filter both DataFrames to only include the common players\n",
    "april_stats_filtered = april_stats[april_stats['Name'].isin(common_players)]\n",
    "end_season_stats_filtered = end_season_stats[end_season_stats['Name'].isin(common_players)]"
   ]
  },
  {
   "cell_type": "markdown",
   "id": "42c461ba-d77c-47be-bd8f-2809e3fdeb49",
   "metadata": {},
   "source": [
    "Check the lengths of the filtered datasets"
   ]
  },
  {
   "cell_type": "code",
   "execution_count": 269,
   "id": "d132f963-96bd-4505-91e2-492acf5dc96d",
   "metadata": {},
   "outputs": [],
   "source": [
    "assert len(april_stats_filtered) == len(end_season_stats_filtered), \"The number of PlayerIDs still do not match after filtering.\""
   ]
  },
  {
   "cell_type": "markdown",
   "id": "c6e872ed-5b7f-4f48-a29c-16d2da4a7641",
   "metadata": {},
   "source": [
    "Select the columns to merge from both datasets to form the final merged dataset"
   ]
  },
  {
   "cell_type": "code",
   "execution_count": 272,
   "id": "3c5a7020-9673-4efb-860a-b774e83add28",
   "metadata": {},
   "outputs": [],
   "source": [
    "selected_columns_april = ['Name', 'Team', 'G', 'PA', 'HR', 'R', 'RBI', 'SB', 'BB%', 'K%', 'ISO', 'BABIP', 'AVG', 'SLG', 'wOBA', 'wRC+', 'BsR', 'Off', 'Def', 'WAR']\n",
    "april_stats_selected = april_stats_filtered[selected_columns_april]\n",
    "end_season_stats_selected = end_season_stats_filtered[['Name', 'OBP']]"
   ]
  },
  {
   "cell_type": "markdown",
   "id": "31b99d7a-998f-42a1-8e4c-eb955e2b8d14",
   "metadata": {},
   "source": [
    "Merging the datasets on players' names"
   ]
  },
  {
   "cell_type": "code",
   "execution_count": 275,
   "id": "e5c29658-f1f3-4ec1-8b8c-52635aeef418",
   "metadata": {},
   "outputs": [],
   "source": [
    "merged_stats = pd.merge(april_stats_selected, end_season_stats_selected, on='Name')"
   ]
  },
  {
   "cell_type": "markdown",
   "id": "4e30ee09-16f5-45da-a5b7-1791e34c1c9d",
   "metadata": {},
   "source": [
    "Distribution analysis"
   ]
  },
  {
   "cell_type": "markdown",
   "id": "c20598ea-8984-450d-ba5b-3d40892f600d",
   "metadata": {},
   "source": [
    "Histogram of OBP"
   ]
  },
  {
   "cell_type": "code",
   "execution_count": 279,
   "id": "09e9ac12-89bb-48ac-8458-950d0f365b09",
   "metadata": {},
   "outputs": [
    {
     "data": {
      "application/vnd.plotly.v1+json": {
       "config": {
        "plotlyServerURL": "https://plot.ly"
       },
       "data": [
        {
         "alignmentgroup": "True",
         "bingroup": "x",
         "hovertemplate": "OBP=%{x}<br>count=%{y}<extra></extra>",
         "legendgroup": "",
         "marker": {
          "color": "#636efa",
          "pattern": {
           "shape": ""
          }
         },
         "name": "",
         "nbinsx": 20,
         "offsetgroup": "",
         "orientation": "v",
         "showlegend": false,
         "type": "histogram",
         "x": [
          0.33,
          0.365,
          0.315,
          0.367,
          0.416,
          0.333,
          0.329,
          0.344,
          0.372,
          0.267,
          0.353,
          0.364,
          0.317,
          0.35,
          0.41,
          0.356,
          0.335,
          0.346,
          0.327,
          0.353,
          0.393,
          0.363,
          0.339,
          0.362,
          0.325,
          0.333,
          0.363,
          0.303,
          0.328,
          0.305,
          0.373,
          0.305,
          0.348,
          0.328,
          0.339,
          0.33,
          0.329,
          0.389,
          0.31,
          0.353,
          0.325,
          0.319,
          0.41,
          0.328,
          0.289,
          0.324,
          0.334,
          0.328,
          0.339,
          0.306,
          0.318,
          0.356,
          0.315,
          0.336,
          0.301,
          0.367,
          0.307,
          0.324,
          0.374,
          0.346,
          0.36,
          0.412,
          0.314,
          0.297,
          0.369,
          0.345,
          0.352,
          0.33,
          0.309,
          0.328,
          0.34,
          0.41,
          0.352,
          0.345,
          0.254,
          0.283,
          0.333,
          0.294,
          0.363,
          0.304,
          0.318,
          0.324,
          0.364,
          0.39,
          0.315,
          0.311,
          0.38,
          0.307,
          0.278,
          0.321,
          0.318,
          0.286,
          0.353,
          0.338,
          0.407,
          0.291,
          0.316,
          0.406,
          0.333,
          0.293,
          0.297,
          0.322,
          0.321,
          0.309,
          0.322,
          0.359,
          0.271,
          0.408,
          0.312,
          0.304,
          0.34,
          0.319,
          0.301,
          0.358,
          0.296,
          0.36,
          0.351,
          0.357,
          0.315,
          0.302,
          0.309,
          0.367,
          0.327,
          0.339,
          0.258,
          0.302,
          0.295,
          0.315,
          0.31,
          0.303,
          0.332,
          0.268,
          0.347,
          0.283,
          0.336,
          0.283,
          0.257,
          0.325,
          0.306,
          0.327,
          0.306,
          0.3,
          0.317,
          0.309,
          0.336,
          0.358,
          0.323,
          0.319,
          0.329,
          0.321,
          0.319,
          0.301,
          0.335,
          0.314,
          0.28,
          0.326,
          0.309,
          0.322,
          0.349,
          0.281,
          0.296,
          0.292,
          0.314,
          0.285,
          0.282,
          0.3,
          0.344,
          0.275,
          0.308,
          0.378,
          0.317,
          0.304,
          0.369,
          0.338,
          0.275,
          0.343,
          0.31,
          0.32,
          0.293,
          0.304,
          0.333,
          0.263,
          0.266,
          0.273,
          0.355,
          0.305,
          0.297,
          0.31,
          0.348,
          0.311,
          0.322,
          0.234,
          0.311,
          0.349,
          0.257,
          0.315,
          0.327,
          0.348,
          0.305,
          0.267,
          0.37,
          0.324,
          0.303,
          0.309,
          0.276,
          0.297,
          0.316,
          0.267,
          0.385,
          0.334,
          0.328,
          0.37,
          0.319,
          0.34,
          0.321,
          0.285,
          0.355,
          0.339,
          0.312,
          0.343,
          0.361,
          0.375,
          0.23,
          0.272,
          0.342,
          0.248,
          0.372,
          0.268,
          0.263,
          0.292,
          0.296,
          0.288,
          0.31,
          0.351,
          0.274,
          0.286,
          0.259,
          0.381,
          0.308,
          0.289,
          0.35,
          0.315,
          0.329,
          0.158,
          0.286,
          0.317,
          0.246,
          0.267,
          0.295,
          0.232,
          0.328,
          0.369,
          0.277,
          0.339,
          0.338,
          0.236,
          0.335,
          0.333,
          0.357,
          0.317,
          0.333,
          0.328,
          0.25,
          0.311,
          0.326,
          0.296,
          0.322,
          0.31,
          0.28,
          0.281,
          0.247,
          0.327,
          0.305,
          0.312,
          0.308,
          0.309,
          0.305,
          0.307,
          0,
          0.365,
          0,
          0,
          0,
          0,
          0,
          0,
          0,
          0,
          0,
          0,
          0,
          0,
          0,
          0,
          0,
          0,
          0,
          0,
          0,
          0,
          0,
          0,
          0,
          0,
          0,
          0,
          0,
          0,
          0,
          0,
          0,
          0,
          0,
          0,
          0,
          0,
          0,
          0,
          0,
          0,
          0,
          0,
          0,
          0,
          0,
          0,
          0,
          0,
          0,
          0,
          0,
          0,
          0,
          0,
          0,
          0,
          0,
          0,
          0,
          0,
          0,
          0,
          0,
          0,
          0,
          0,
          0,
          0,
          0,
          0,
          0,
          0,
          0,
          0,
          0,
          0,
          0,
          0,
          0,
          0,
          0,
          0,
          0,
          0,
          0,
          0,
          0,
          0,
          0,
          0,
          0,
          0,
          0,
          0,
          0,
          0,
          0,
          0,
          0,
          0,
          0,
          0,
          0,
          0,
          0,
          0,
          0,
          0,
          0,
          0,
          0,
          0,
          0,
          0,
          0,
          0,
          0,
          0,
          0,
          0,
          0,
          0,
          0,
          0,
          0,
          0,
          0,
          0,
          0,
          0,
          0,
          0,
          0,
          0,
          0,
          0,
          0,
          0,
          0,
          0,
          0,
          0,
          0,
          0,
          0,
          0,
          0,
          0,
          0,
          0,
          0,
          0,
          0,
          0,
          0,
          0,
          0,
          0,
          0,
          0,
          0,
          0,
          0.279,
          0,
          0,
          0,
          0,
          0,
          0,
          0,
          0,
          0,
          0,
          0,
          0,
          0,
          0,
          0,
          0,
          0,
          0,
          0,
          0,
          0,
          0,
          0,
          0,
          0,
          0,
          0,
          0,
          0,
          0,
          0,
          0,
          0,
          0,
          0,
          0,
          0,
          0,
          0,
          0,
          0,
          0,
          0,
          0,
          0,
          0,
          0,
          0,
          0,
          0,
          0,
          0,
          0,
          0,
          0,
          0,
          0,
          0,
          0,
          0,
          0,
          0,
          0,
          0,
          0,
          0,
          0,
          0,
          0,
          0,
          0,
          0,
          0,
          0,
          0,
          0,
          0,
          0,
          0,
          0,
          0,
          0,
          0,
          0,
          0,
          0,
          0,
          0,
          0,
          0,
          0,
          0,
          0,
          0,
          0,
          0,
          0,
          0,
          0,
          0,
          0,
          0,
          0,
          0,
          0,
          0,
          0,
          0,
          0,
          0,
          0,
          0,
          0,
          0,
          0,
          0,
          0,
          0,
          0,
          0,
          0,
          0,
          0,
          0,
          0,
          0,
          0,
          0,
          0,
          0,
          0,
          0,
          0,
          0,
          0,
          0,
          0,
          0,
          0,
          0,
          0,
          0,
          0,
          0,
          0,
          0,
          0,
          0,
          0,
          0,
          0,
          0,
          0,
          0,
          0,
          0,
          0,
          0,
          0,
          0,
          0,
          0,
          0,
          0,
          0,
          0,
          0,
          0,
          0,
          0,
          0,
          0,
          0,
          0,
          0,
          0,
          0,
          0,
          0,
          0,
          0,
          0,
          0,
          0,
          0,
          0,
          0,
          0,
          0,
          0,
          0,
          0,
          0,
          0,
          0,
          0,
          0,
          0,
          0,
          0,
          0,
          0,
          0,
          0,
          0,
          0,
          0,
          0,
          0,
          0,
          0,
          0,
          0,
          0,
          0,
          0,
          0,
          0,
          0,
          0,
          0,
          0,
          0,
          0,
          0,
          0,
          0,
          0,
          0,
          0,
          0,
          0,
          0,
          0,
          0,
          0,
          0,
          0,
          0,
          0,
          0,
          0,
          0,
          0,
          0,
          0,
          0,
          0,
          0,
          0,
          0,
          0,
          0,
          0,
          0,
          0,
          0,
          0,
          0,
          0,
          0,
          0,
          0,
          0,
          0,
          0,
          0,
          0,
          0,
          0,
          0,
          0,
          0,
          0,
          0,
          0,
          0,
          0,
          0,
          0,
          0,
          0,
          0,
          0,
          0,
          0,
          0,
          0,
          0,
          0,
          0,
          0,
          0,
          0,
          0,
          0,
          0,
          0,
          0,
          0,
          0,
          0,
          0,
          0,
          0,
          0,
          0,
          0,
          0,
          0,
          0,
          0,
          0,
          0,
          0,
          0,
          0,
          0,
          0,
          0,
          0,
          0,
          0,
          0,
          0,
          0,
          0,
          0,
          0,
          0,
          0,
          0,
          0,
          0,
          0,
          0,
          0,
          0,
          0,
          0,
          0.283,
          0.273,
          0.264,
          0.308,
          0.186,
          0.268,
          0.233,
          0.308,
          0.278,
          0.667,
          0.288,
          0.365,
          0.283,
          0.231,
          0.206,
          0.295,
          0.269,
          0.284,
          0.152,
          0.383,
          0.29,
          0.317,
          0.347,
          0.356,
          0.111,
          0.339,
          0.235,
          0.267,
          0.292,
          0.2,
          0.345,
          0.288,
          0.29,
          0.339,
          0.259,
          0.34,
          0.312,
          0.349,
          0.299,
          0.343,
          0.304,
          0.308,
          0.331,
          0.321,
          0.312,
          0.32,
          0.331,
          0.196,
          0.249,
          0.278,
          0.341,
          0.337,
          0.275,
          0.2,
          0.304,
          0.285,
          0.287,
          0.363,
          0.3,
          0.326,
          0.318,
          0.154,
          0.241,
          0.3,
          0.263,
          0.304,
          0.248,
          0.229,
          0.235,
          0.285,
          0.261,
          0.188,
          0.313,
          0.233,
          0.235,
          0.268,
          0.333,
          0.322,
          0.125,
          0.111,
          0.273,
          0.244,
          0.25,
          0.3,
          0.354,
          0.37,
          0.258,
          0.241,
          0,
          0.295,
          0.256,
          0.204,
          0.304,
          0.304,
          0.053,
          0.325,
          0.293,
          0.317,
          0.247,
          0.304,
          0.237,
          0.244,
          0.325,
          0.315,
          0.356,
          0.312,
          0.325,
          0.286,
          0.091,
          0.274,
          0.282,
          0.269,
          0.315,
          0.299,
          0.306,
          0.288,
          0.301,
          0.321,
          0.211,
          0.31,
          0.299,
          0.302,
          0.263,
          0.238,
          0.13,
          0.26,
          0.263,
          0.29,
          0.311,
          0.305,
          0.192,
          0.309,
          0.22,
          0.306,
          0.257,
          0.231,
          0.288,
          0.328,
          0.364,
          0.365,
          0.288,
          0.313,
          0.239,
          0.278,
          0.2,
          0.275,
          0.335,
          0.318,
          0.275,
          0.316,
          0.369,
          0.253,
          0.257,
          0.304,
          0.216,
          0.258,
          0.29,
          0.313,
          0.256,
          0.34,
          0.327,
          0.153,
          0.215,
          0.231,
          0.367,
          0.284,
          0.326,
          0.224,
          0.256,
          0.208,
          0.353,
          0.322,
          0.125,
          0.303,
          0.185,
          0.277,
          0.321,
          0.213,
          0.295,
          0.346,
          0.296,
          0.274,
          0.28,
          0.239,
          0.294
         ],
         "xaxis": "x",
         "yaxis": "y"
        }
       ],
       "layout": {
        "autosize": true,
        "barmode": "relative",
        "legend": {
         "tracegroupgap": 0
        },
        "template": {
         "data": {
          "bar": [
           {
            "error_x": {
             "color": "#2a3f5f"
            },
            "error_y": {
             "color": "#2a3f5f"
            },
            "marker": {
             "line": {
              "color": "#E5ECF6",
              "width": 0.5
             },
             "pattern": {
              "fillmode": "overlay",
              "size": 10,
              "solidity": 0.2
             }
            },
            "type": "bar"
           }
          ],
          "barpolar": [
           {
            "marker": {
             "line": {
              "color": "#E5ECF6",
              "width": 0.5
             },
             "pattern": {
              "fillmode": "overlay",
              "size": 10,
              "solidity": 0.2
             }
            },
            "type": "barpolar"
           }
          ],
          "carpet": [
           {
            "aaxis": {
             "endlinecolor": "#2a3f5f",
             "gridcolor": "white",
             "linecolor": "white",
             "minorgridcolor": "white",
             "startlinecolor": "#2a3f5f"
            },
            "baxis": {
             "endlinecolor": "#2a3f5f",
             "gridcolor": "white",
             "linecolor": "white",
             "minorgridcolor": "white",
             "startlinecolor": "#2a3f5f"
            },
            "type": "carpet"
           }
          ],
          "choropleth": [
           {
            "colorbar": {
             "outlinewidth": 0,
             "ticks": ""
            },
            "type": "choropleth"
           }
          ],
          "contour": [
           {
            "colorbar": {
             "outlinewidth": 0,
             "ticks": ""
            },
            "colorscale": [
             [
              0,
              "#0d0887"
             ],
             [
              0.1111111111111111,
              "#46039f"
             ],
             [
              0.2222222222222222,
              "#7201a8"
             ],
             [
              0.3333333333333333,
              "#9c179e"
             ],
             [
              0.4444444444444444,
              "#bd3786"
             ],
             [
              0.5555555555555556,
              "#d8576b"
             ],
             [
              0.6666666666666666,
              "#ed7953"
             ],
             [
              0.7777777777777778,
              "#fb9f3a"
             ],
             [
              0.8888888888888888,
              "#fdca26"
             ],
             [
              1,
              "#f0f921"
             ]
            ],
            "type": "contour"
           }
          ],
          "contourcarpet": [
           {
            "colorbar": {
             "outlinewidth": 0,
             "ticks": ""
            },
            "type": "contourcarpet"
           }
          ],
          "heatmap": [
           {
            "colorbar": {
             "outlinewidth": 0,
             "ticks": ""
            },
            "colorscale": [
             [
              0,
              "#0d0887"
             ],
             [
              0.1111111111111111,
              "#46039f"
             ],
             [
              0.2222222222222222,
              "#7201a8"
             ],
             [
              0.3333333333333333,
              "#9c179e"
             ],
             [
              0.4444444444444444,
              "#bd3786"
             ],
             [
              0.5555555555555556,
              "#d8576b"
             ],
             [
              0.6666666666666666,
              "#ed7953"
             ],
             [
              0.7777777777777778,
              "#fb9f3a"
             ],
             [
              0.8888888888888888,
              "#fdca26"
             ],
             [
              1,
              "#f0f921"
             ]
            ],
            "type": "heatmap"
           }
          ],
          "heatmapgl": [
           {
            "colorbar": {
             "outlinewidth": 0,
             "ticks": ""
            },
            "colorscale": [
             [
              0,
              "#0d0887"
             ],
             [
              0.1111111111111111,
              "#46039f"
             ],
             [
              0.2222222222222222,
              "#7201a8"
             ],
             [
              0.3333333333333333,
              "#9c179e"
             ],
             [
              0.4444444444444444,
              "#bd3786"
             ],
             [
              0.5555555555555556,
              "#d8576b"
             ],
             [
              0.6666666666666666,
              "#ed7953"
             ],
             [
              0.7777777777777778,
              "#fb9f3a"
             ],
             [
              0.8888888888888888,
              "#fdca26"
             ],
             [
              1,
              "#f0f921"
             ]
            ],
            "type": "heatmapgl"
           }
          ],
          "histogram": [
           {
            "marker": {
             "pattern": {
              "fillmode": "overlay",
              "size": 10,
              "solidity": 0.2
             }
            },
            "type": "histogram"
           }
          ],
          "histogram2d": [
           {
            "colorbar": {
             "outlinewidth": 0,
             "ticks": ""
            },
            "colorscale": [
             [
              0,
              "#0d0887"
             ],
             [
              0.1111111111111111,
              "#46039f"
             ],
             [
              0.2222222222222222,
              "#7201a8"
             ],
             [
              0.3333333333333333,
              "#9c179e"
             ],
             [
              0.4444444444444444,
              "#bd3786"
             ],
             [
              0.5555555555555556,
              "#d8576b"
             ],
             [
              0.6666666666666666,
              "#ed7953"
             ],
             [
              0.7777777777777778,
              "#fb9f3a"
             ],
             [
              0.8888888888888888,
              "#fdca26"
             ],
             [
              1,
              "#f0f921"
             ]
            ],
            "type": "histogram2d"
           }
          ],
          "histogram2dcontour": [
           {
            "colorbar": {
             "outlinewidth": 0,
             "ticks": ""
            },
            "colorscale": [
             [
              0,
              "#0d0887"
             ],
             [
              0.1111111111111111,
              "#46039f"
             ],
             [
              0.2222222222222222,
              "#7201a8"
             ],
             [
              0.3333333333333333,
              "#9c179e"
             ],
             [
              0.4444444444444444,
              "#bd3786"
             ],
             [
              0.5555555555555556,
              "#d8576b"
             ],
             [
              0.6666666666666666,
              "#ed7953"
             ],
             [
              0.7777777777777778,
              "#fb9f3a"
             ],
             [
              0.8888888888888888,
              "#fdca26"
             ],
             [
              1,
              "#f0f921"
             ]
            ],
            "type": "histogram2dcontour"
           }
          ],
          "mesh3d": [
           {
            "colorbar": {
             "outlinewidth": 0,
             "ticks": ""
            },
            "type": "mesh3d"
           }
          ],
          "parcoords": [
           {
            "line": {
             "colorbar": {
              "outlinewidth": 0,
              "ticks": ""
             }
            },
            "type": "parcoords"
           }
          ],
          "pie": [
           {
            "automargin": true,
            "type": "pie"
           }
          ],
          "scatter": [
           {
            "fillpattern": {
             "fillmode": "overlay",
             "size": 10,
             "solidity": 0.2
            },
            "type": "scatter"
           }
          ],
          "scatter3d": [
           {
            "line": {
             "colorbar": {
              "outlinewidth": 0,
              "ticks": ""
             }
            },
            "marker": {
             "colorbar": {
              "outlinewidth": 0,
              "ticks": ""
             }
            },
            "type": "scatter3d"
           }
          ],
          "scattercarpet": [
           {
            "marker": {
             "colorbar": {
              "outlinewidth": 0,
              "ticks": ""
             }
            },
            "type": "scattercarpet"
           }
          ],
          "scattergeo": [
           {
            "marker": {
             "colorbar": {
              "outlinewidth": 0,
              "ticks": ""
             }
            },
            "type": "scattergeo"
           }
          ],
          "scattergl": [
           {
            "marker": {
             "colorbar": {
              "outlinewidth": 0,
              "ticks": ""
             }
            },
            "type": "scattergl"
           }
          ],
          "scattermapbox": [
           {
            "marker": {
             "colorbar": {
              "outlinewidth": 0,
              "ticks": ""
             }
            },
            "type": "scattermapbox"
           }
          ],
          "scatterpolar": [
           {
            "marker": {
             "colorbar": {
              "outlinewidth": 0,
              "ticks": ""
             }
            },
            "type": "scatterpolar"
           }
          ],
          "scatterpolargl": [
           {
            "marker": {
             "colorbar": {
              "outlinewidth": 0,
              "ticks": ""
             }
            },
            "type": "scatterpolargl"
           }
          ],
          "scatterternary": [
           {
            "marker": {
             "colorbar": {
              "outlinewidth": 0,
              "ticks": ""
             }
            },
            "type": "scatterternary"
           }
          ],
          "surface": [
           {
            "colorbar": {
             "outlinewidth": 0,
             "ticks": ""
            },
            "colorscale": [
             [
              0,
              "#0d0887"
             ],
             [
              0.1111111111111111,
              "#46039f"
             ],
             [
              0.2222222222222222,
              "#7201a8"
             ],
             [
              0.3333333333333333,
              "#9c179e"
             ],
             [
              0.4444444444444444,
              "#bd3786"
             ],
             [
              0.5555555555555556,
              "#d8576b"
             ],
             [
              0.6666666666666666,
              "#ed7953"
             ],
             [
              0.7777777777777778,
              "#fb9f3a"
             ],
             [
              0.8888888888888888,
              "#fdca26"
             ],
             [
              1,
              "#f0f921"
             ]
            ],
            "type": "surface"
           }
          ],
          "table": [
           {
            "cells": {
             "fill": {
              "color": "#EBF0F8"
             },
             "line": {
              "color": "white"
             }
            },
            "header": {
             "fill": {
              "color": "#C8D4E3"
             },
             "line": {
              "color": "white"
             }
            },
            "type": "table"
           }
          ]
         },
         "layout": {
          "annotationdefaults": {
           "arrowcolor": "#2a3f5f",
           "arrowhead": 0,
           "arrowwidth": 1
          },
          "autotypenumbers": "strict",
          "coloraxis": {
           "colorbar": {
            "outlinewidth": 0,
            "ticks": ""
           }
          },
          "colorscale": {
           "diverging": [
            [
             0,
             "#8e0152"
            ],
            [
             0.1,
             "#c51b7d"
            ],
            [
             0.2,
             "#de77ae"
            ],
            [
             0.3,
             "#f1b6da"
            ],
            [
             0.4,
             "#fde0ef"
            ],
            [
             0.5,
             "#f7f7f7"
            ],
            [
             0.6,
             "#e6f5d0"
            ],
            [
             0.7,
             "#b8e186"
            ],
            [
             0.8,
             "#7fbc41"
            ],
            [
             0.9,
             "#4d9221"
            ],
            [
             1,
             "#276419"
            ]
           ],
           "sequential": [
            [
             0,
             "#0d0887"
            ],
            [
             0.1111111111111111,
             "#46039f"
            ],
            [
             0.2222222222222222,
             "#7201a8"
            ],
            [
             0.3333333333333333,
             "#9c179e"
            ],
            [
             0.4444444444444444,
             "#bd3786"
            ],
            [
             0.5555555555555556,
             "#d8576b"
            ],
            [
             0.6666666666666666,
             "#ed7953"
            ],
            [
             0.7777777777777778,
             "#fb9f3a"
            ],
            [
             0.8888888888888888,
             "#fdca26"
            ],
            [
             1,
             "#f0f921"
            ]
           ],
           "sequentialminus": [
            [
             0,
             "#0d0887"
            ],
            [
             0.1111111111111111,
             "#46039f"
            ],
            [
             0.2222222222222222,
             "#7201a8"
            ],
            [
             0.3333333333333333,
             "#9c179e"
            ],
            [
             0.4444444444444444,
             "#bd3786"
            ],
            [
             0.5555555555555556,
             "#d8576b"
            ],
            [
             0.6666666666666666,
             "#ed7953"
            ],
            [
             0.7777777777777778,
             "#fb9f3a"
            ],
            [
             0.8888888888888888,
             "#fdca26"
            ],
            [
             1,
             "#f0f921"
            ]
           ]
          },
          "colorway": [
           "#636efa",
           "#EF553B",
           "#00cc96",
           "#ab63fa",
           "#FFA15A",
           "#19d3f3",
           "#FF6692",
           "#B6E880",
           "#FF97FF",
           "#FECB52"
          ],
          "font": {
           "color": "#2a3f5f"
          },
          "geo": {
           "bgcolor": "white",
           "lakecolor": "white",
           "landcolor": "#E5ECF6",
           "showlakes": true,
           "showland": true,
           "subunitcolor": "white"
          },
          "hoverlabel": {
           "align": "left"
          },
          "hovermode": "closest",
          "mapbox": {
           "style": "light"
          },
          "paper_bgcolor": "white",
          "plot_bgcolor": "#E5ECF6",
          "polar": {
           "angularaxis": {
            "gridcolor": "white",
            "linecolor": "white",
            "ticks": ""
           },
           "bgcolor": "#E5ECF6",
           "radialaxis": {
            "gridcolor": "white",
            "linecolor": "white",
            "ticks": ""
           }
          },
          "scene": {
           "xaxis": {
            "backgroundcolor": "#E5ECF6",
            "gridcolor": "white",
            "gridwidth": 2,
            "linecolor": "white",
            "showbackground": true,
            "ticks": "",
            "zerolinecolor": "white"
           },
           "yaxis": {
            "backgroundcolor": "#E5ECF6",
            "gridcolor": "white",
            "gridwidth": 2,
            "linecolor": "white",
            "showbackground": true,
            "ticks": "",
            "zerolinecolor": "white"
           },
           "zaxis": {
            "backgroundcolor": "#E5ECF6",
            "gridcolor": "white",
            "gridwidth": 2,
            "linecolor": "white",
            "showbackground": true,
            "ticks": "",
            "zerolinecolor": "white"
           }
          },
          "shapedefaults": {
           "line": {
            "color": "#2a3f5f"
           }
          },
          "ternary": {
           "aaxis": {
            "gridcolor": "white",
            "linecolor": "white",
            "ticks": ""
           },
           "baxis": {
            "gridcolor": "white",
            "linecolor": "white",
            "ticks": ""
           },
           "bgcolor": "#E5ECF6",
           "caxis": {
            "gridcolor": "white",
            "linecolor": "white",
            "ticks": ""
           }
          },
          "title": {
           "x": 0.05
          },
          "xaxis": {
           "automargin": true,
           "gridcolor": "white",
           "linecolor": "white",
           "ticks": "",
           "title": {
            "standoff": 15
           },
           "zerolinecolor": "white",
           "zerolinewidth": 2
          },
          "yaxis": {
           "automargin": true,
           "gridcolor": "white",
           "linecolor": "white",
           "ticks": "",
           "title": {
            "standoff": 15
           },
           "zerolinecolor": "white",
           "zerolinewidth": 2
          }
         }
        },
        "title": {
         "text": "OBP Distribution"
        },
        "xaxis": {
         "anchor": "y",
         "autorange": true,
         "domain": [
          0,
          1
         ],
         "range": [
          -0.024999999999999967,
          0.675
         ],
         "title": {
          "text": "OBP"
         },
         "type": "linear"
        },
        "yaxis": {
         "anchor": "x",
         "autorange": true,
         "domain": [
          0,
          1
         ],
         "range": [
          0,
          530.5263157894736
         ],
         "title": {
          "text": "count"
         }
        }
       }
      },
      "image/png": "[encoded data removed]",
      "text/html": [
       "<div>                            <div id=\"60bb21ee-385a-4fa7-989b-42aae43ca831\" class=\"plotly-graph-div\" style=\"height:525px; width:100%;\"></div>            <script type=\"text/javascript\">                require([\"plotly\"], function(Plotly) {                    window.PLOTLYENV=window.PLOTLYENV || {};                                    if (document.getElementById(\"60bb21ee-385a-4fa7-989b-42aae43ca831\")) {                    Plotly.newPlot(                        \"60bb21ee-385a-4fa7-989b-42aae43ca831\",                        [{\"alignmentgroup\":\"True\",\"bingroup\":\"x\",\"hovertemplate\":\"OBP=%{x}<br>count=%{y}<extra></extra>\",\"legendgroup\":\"\",\"marker\":{\"color\":\"#636efa\",\"pattern\":{\"shape\":\"\"}},\"name\":\"\",\"nbinsx\":20,\"offsetgroup\":\"\",\"orientation\":\"v\",\"showlegend\":false,\"x\":[0.33,0.365,0.315,0.367,0.416,0.333,0.329,0.344,0.372,0.267,0.353,0.364,0.317,0.35,0.41,0.356,0.335,0.346,0.327,0.353,0.393,0.363,0.339,0.362,0.325,0.333,0.363,0.303,0.328,0.305,0.373,0.305,0.348,0.328,0.339,0.33,0.329,0.389,0.31,0.353,0.325,0.319,0.41,0.328,0.289,0.324,0.334,0.328,0.339,0.306,0.318,0.356,0.315,0.336,0.301,0.367,0.307,0.324,0.374,0.346,0.36,0.412,0.314,0.297,0.369,0.345,0.352,0.33,0.309,0.328,0.34,0.41,0.352,0.345,0.254,0.283,0.333,0.294,0.363,0.304,0.318,0.324,0.364,0.39,0.315,0.311,0.38,0.307,0.278,0.321,0.318,0.286,0.353,0.338,0.407,0.291,0.316,0.406,0.333,0.293,0.297,0.322,0.321,0.309,0.322,0.359,0.271,0.408,0.312,0.304,0.34,0.319,0.301,0.358,0.296,0.36,0.351,0.357,0.315,0.302,0.309,0.367,0.327,0.339,0.258,0.302,0.295,0.315,0.31,0.303,0.332,0.268,0.347,0.283,0.336,0.283,0.257,0.325,0.306,0.327,0.306,0.3,0.317,0.309,0.336,0.358,0.323,0.319,0.329,0.321,0.319,0.301,0.335,0.314,0.28,0.326,0.309,0.322,0.349,0.281,0.296,0.292,0.314,0.285,0.282,0.3,0.344,0.275,0.308,0.378,0.317,0.304,0.369,0.338,0.275,0.343,0.31,0.32,0.293,0.304,0.333,0.263,0.266,0.273,0.355,0.305,0.297,0.31,0.348,0.311,0.322,0.234,0.311,0.349,0.257,0.315,0.327,0.348,0.305,0.267,0.37,0.324,0.303,0.309,0.276,0.297,0.316,0.267,0.385,0.334,0.328,0.37,0.319,0.34,0.321,0.285,0.355,0.339,0.312,0.343,0.361,0.375,0.23,0.272,0.342,0.248,0.372,0.268,0.263,0.292,0.296,0.288,0.31,0.351,0.274,0.286,0.259,0.381,0.308,0.289,0.35,0.315,0.329,0.158,0.286,0.317,0.246,0.267,0.295,0.232,0.328,0.369,0.277,0.339,0.338,0.236,0.335,0.333,0.357,0.317,0.333,0.328,0.25,0.311,0.326,0.296,0.322,0.31,0.28,0.281,0.247,0.327,0.305,0.312,0.308,0.309,0.305,0.307,0.0,0.365,0.0,0.0,0.0,0.0,0.0,0.0,0.0,0.0,0.0,0.0,0.0,0.0,0.0,0.0,0.0,0.0,0.0,0.0,0.0,0.0,0.0,0.0,0.0,0.0,0.0,0.0,0.0,0.0,0.0,0.0,0.0,0.0,0.0,0.0,0.0,0.0,0.0,0.0,0.0,0.0,0.0,0.0,0.0,0.0,0.0,0.0,0.0,0.0,0.0,0.0,0.0,0.0,0.0,0.0,0.0,0.0,0.0,0.0,0.0,0.0,0.0,0.0,0.0,0.0,0.0,0.0,0.0,0.0,0.0,0.0,0.0,0.0,0.0,0.0,0.0,0.0,0.0,0.0,0.0,0.0,0.0,0.0,0.0,0.0,0.0,0.0,0.0,0.0,0.0,0.0,0.0,0.0,0.0,0.0,0.0,0.0,0.0,0.0,0.0,0.0,0.0,0.0,0.0,0.0,0.0,0.0,0.0,0.0,0.0,0.0,0.0,0.0,0.0,0.0,0.0,0.0,0.0,0.0,0.0,0.0,0.0,0.0,0.0,0.0,0.0,0.0,0.0,0.0,0.0,0.0,0.0,0.0,0.0,0.0,0.0,0.0,0.0,0.0,0.0,0.0,0.0,0.0,0.0,0.0,0.0,0.0,0.0,0.0,0.0,0.0,0.0,0.0,0.0,0.0,0.0,0.0,0.0,0.0,0.0,0.0,0.0,0.0,0.279,0.0,0.0,0.0,0.0,0.0,0.0,0.0,0.0,0.0,0.0,0.0,0.0,0.0,0.0,0.0,0.0,0.0,0.0,0.0,0.0,0.0,0.0,0.0,0.0,0.0,0.0,0.0,0.0,0.0,0.0,0.0,0.0,0.0,0.0,0.0,0.0,0.0,0.0,0.0,0.0,0.0,0.0,0.0,0.0,0.0,0.0,0.0,0.0,0.0,0.0,0.0,0.0,0.0,0.0,0.0,0.0,0.0,0.0,0.0,0.0,0.0,0.0,0.0,0.0,0.0,0.0,0.0,0.0,0.0,0.0,0.0,0.0,0.0,0.0,0.0,0.0,0.0,0.0,0.0,0.0,0.0,0.0,0.0,0.0,0.0,0.0,0.0,0.0,0.0,0.0,0.0,0.0,0.0,0.0,0.0,0.0,0.0,0.0,0.0,0.0,0.0,0.0,0.0,0.0,0.0,0.0,0.0,0.0,0.0,0.0,0.0,0.0,0.0,0.0,0.0,0.0,0.0,0.0,0.0,0.0,0.0,0.0,0.0,0.0,0.0,0.0,0.0,0.0,0.0,0.0,0.0,0.0,0.0,0.0,0.0,0.0,0.0,0.0,0.0,0.0,0.0,0.0,0.0,0.0,0.0,0.0,0.0,0.0,0.0,0.0,0.0,0.0,0.0,0.0,0.0,0.0,0.0,0.0,0.0,0.0,0.0,0.0,0.0,0.0,0.0,0.0,0.0,0.0,0.0,0.0,0.0,0.0,0.0,0.0,0.0,0.0,0.0,0.0,0.0,0.0,0.0,0.0,0.0,0.0,0.0,0.0,0.0,0.0,0.0,0.0,0.0,0.0,0.0,0.0,0.0,0.0,0.0,0.0,0.0,0.0,0.0,0.0,0.0,0.0,0.0,0.0,0.0,0.0,0.0,0.0,0.0,0.0,0.0,0.0,0.0,0.0,0.0,0.0,0.0,0.0,0.0,0.0,0.0,0.0,0.0,0.0,0.0,0.0,0.0,0.0,0.0,0.0,0.0,0.0,0.0,0.0,0.0,0.0,0.0,0.0,0.0,0.0,0.0,0.0,0.0,0.0,0.0,0.0,0.0,0.0,0.0,0.0,0.0,0.0,0.0,0.0,0.0,0.0,0.0,0.0,0.0,0.0,0.0,0.0,0.0,0.0,0.0,0.0,0.0,0.0,0.0,0.0,0.0,0.0,0.0,0.0,0.0,0.0,0.0,0.0,0.0,0.0,0.0,0.0,0.0,0.0,0.0,0.0,0.0,0.0,0.0,0.0,0.0,0.0,0.0,0.0,0.0,0.0,0.0,0.0,0.0,0.0,0.0,0.0,0.0,0.0,0.0,0.0,0.0,0.0,0.0,0.0,0.0,0.0,0.0,0.0,0.0,0.0,0.0,0.0,0.0,0.0,0.0,0.0,0.0,0.0,0.0,0.0,0.0,0.0,0.0,0.0,0.0,0.0,0.0,0.0,0.0,0.0,0.0,0.0,0.283,0.273,0.264,0.308,0.186,0.268,0.233,0.308,0.278,0.667,0.288,0.365,0.283,0.231,0.206,0.295,0.269,0.284,0.152,0.383,0.29,0.317,0.347,0.356,0.111,0.339,0.235,0.267,0.292,0.2,0.345,0.288,0.29,0.339,0.259,0.34,0.312,0.349,0.299,0.343,0.304,0.308,0.331,0.321,0.312,0.32,0.331,0.196,0.249,0.278,0.341,0.337,0.275,0.2,0.304,0.285,0.287,0.363,0.3,0.326,0.318,0.154,0.241,0.3,0.263,0.304,0.248,0.229,0.235,0.285,0.261,0.188,0.313,0.233,0.235,0.268,0.333,0.322,0.125,0.111,0.273,0.244,0.25,0.3,0.354,0.37,0.258,0.241,0.0,0.295,0.256,0.204,0.304,0.304,0.053,0.325,0.293,0.317,0.247,0.304,0.237,0.244,0.325,0.315,0.356,0.312,0.325,0.286,0.091,0.274,0.282,0.269,0.315,0.299,0.306,0.288,0.301,0.321,0.211,0.31,0.299,0.302,0.263,0.238,0.13,0.26,0.263,0.29,0.311,0.305,0.192,0.309,0.22,0.306,0.257,0.231,0.288,0.328,0.364,0.365,0.288,0.313,0.239,0.278,0.2,0.275,0.335,0.318,0.275,0.316,0.369,0.253,0.257,0.304,0.216,0.258,0.29,0.313,0.256,0.34,0.327,0.153,0.215,0.231,0.367,0.284,0.326,0.224,0.256,0.208,0.353,0.322,0.125,0.303,0.185,0.277,0.321,0.213,0.295,0.346,0.296,0.274,0.28,0.239,0.294],\"xaxis\":\"x\",\"yaxis\":\"y\",\"type\":\"histogram\"}],                        {\"template\":{\"data\":{\"histogram2dcontour\":[{\"type\":\"histogram2dcontour\",\"colorbar\":{\"outlinewidth\":0,\"ticks\":\"\"},\"colorscale\":[[0.0,\"#0d0887\"],[0.1111111111111111,\"#46039f\"],[0.2222222222222222,\"#7201a8\"],[0.3333333333333333,\"#9c179e\"],[0.4444444444444444,\"#bd3786\"],[0.5555555555555556,\"#d8576b\"],[0.6666666666666666,\"#ed7953\"],[0.7777777777777778,\"#fb9f3a\"],[0.8888888888888888,\"#fdca26\"],[1.0,\"#f0f921\"]]}],\"choropleth\":[{\"type\":\"choropleth\",\"colorbar\":{\"outlinewidth\":0,\"ticks\":\"\"}}],\"histogram2d\":[{\"type\":\"histogram2d\",\"colorbar\":{\"outlinewidth\":0,\"ticks\":\"\"},\"colorscale\":[[0.0,\"#0d0887\"],[0.1111111111111111,\"#46039f\"],[0.2222222222222222,\"#7201a8\"],[0.3333333333333333,\"#9c179e\"],[0.4444444444444444,\"#bd3786\"],[0.5555555555555556,\"#d8576b\"],[0.6666666666666666,\"#ed7953\"],[0.7777777777777778,\"#fb9f3a\"],[0.8888888888888888,\"#fdca26\"],[1.0,\"#f0f921\"]]}],\"heatmap\":[{\"type\":\"heatmap\",\"colorbar\":{\"outlinewidth\":0,\"ticks\":\"\"},\"colorscale\":[[0.0,\"#0d0887\"],[0.1111111111111111,\"#46039f\"],[0.2222222222222222,\"#7201a8\"],[0.3333333333333333,\"#9c179e\"],[0.4444444444444444,\"#bd3786\"],[0.5555555555555556,\"#d8576b\"],[0.6666666666666666,\"#ed7953\"],[0.7777777777777778,\"#fb9f3a\"],[0.8888888888888888,\"#fdca26\"],[1.0,\"#f0f921\"]]}],\"heatmapgl\":[{\"type\":\"heatmapgl\",\"colorbar\":{\"outlinewidth\":0,\"ticks\":\"\"},\"colorscale\":[[0.0,\"#0d0887\"],[0.1111111111111111,\"#46039f\"],[0.2222222222222222,\"#7201a8\"],[0.3333333333333333,\"#9c179e\"],[0.4444444444444444,\"#bd3786\"],[0.5555555555555556,\"#d8576b\"],[0.6666666666666666,\"#ed7953\"],[0.7777777777777778,\"#fb9f3a\"],[0.8888888888888888,\"#fdca26\"],[1.0,\"#f0f921\"]]}],\"contourcarpet\":[{\"type\":\"contourcarpet\",\"colorbar\":{\"outlinewidth\":0,\"ticks\":\"\"}}],\"contour\":[{\"type\":\"contour\",\"colorbar\":{\"outlinewidth\":0,\"ticks\":\"\"},\"colorscale\":[[0.0,\"#0d0887\"],[0.1111111111111111,\"#46039f\"],[0.2222222222222222,\"#7201a8\"],[0.3333333333333333,\"#9c179e\"],[0.4444444444444444,\"#bd3786\"],[0.5555555555555556,\"#d8576b\"],[0.6666666666666666,\"#ed7953\"],[0.7777777777777778,\"#fb9f3a\"],[0.8888888888888888,\"#fdca26\"],[1.0,\"#f0f921\"]]}],\"surface\":[{\"type\":\"surface\",\"colorbar\":{\"outlinewidth\":0,\"ticks\":\"\"},\"colorscale\":[[0.0,\"#0d0887\"],[0.1111111111111111,\"#46039f\"],[0.2222222222222222,\"#7201a8\"],[0.3333333333333333,\"#9c179e\"],[0.4444444444444444,\"#bd3786\"],[0.5555555555555556,\"#d8576b\"],[0.6666666666666666,\"#ed7953\"],[0.7777777777777778,\"#fb9f3a\"],[0.8888888888888888,\"#fdca26\"],[1.0,\"#f0f921\"]]}],\"mesh3d\":[{\"type\":\"mesh3d\",\"colorbar\":{\"outlinewidth\":0,\"ticks\":\"\"}}],\"scatter\":[{\"fillpattern\":{\"fillmode\":\"overlay\",\"size\":10,\"solidity\":0.2},\"type\":\"scatter\"}],\"parcoords\":[{\"type\":\"parcoords\",\"line\":{\"colorbar\":{\"outlinewidth\":0,\"ticks\":\"\"}}}],\"scatterpolargl\":[{\"type\":\"scatterpolargl\",\"marker\":{\"colorbar\":{\"outlinewidth\":0,\"ticks\":\"\"}}}],\"bar\":[{\"error_x\":{\"color\":\"#2a3f5f\"},\"error_y\":{\"color\":\"#2a3f5f\"},\"marker\":{\"line\":{\"color\":\"#E5ECF6\",\"width\":0.5},\"pattern\":{\"fillmode\":\"overlay\",\"size\":10,\"solidity\":0.2}},\"type\":\"bar\"}],\"scattergeo\":[{\"type\":\"scattergeo\",\"marker\":{\"colorbar\":{\"outlinewidth\":0,\"ticks\":\"\"}}}],\"scatterpolar\":[{\"type\":\"scatterpolar\",\"marker\":{\"colorbar\":{\"outlinewidth\":0,\"ticks\":\"\"}}}],\"histogram\":[{\"marker\":{\"pattern\":{\"fillmode\":\"overlay\",\"size\":10,\"solidity\":0.2}},\"type\":\"histogram\"}],\"scattergl\":[{\"type\":\"scattergl\",\"marker\":{\"colorbar\":{\"outlinewidth\":0,\"ticks\":\"\"}}}],\"scatter3d\":[{\"type\":\"scatter3d\",\"line\":{\"colorbar\":{\"outlinewidth\":0,\"ticks\":\"\"}},\"marker\":{\"colorbar\":{\"outlinewidth\":0,\"ticks\":\"\"}}}],\"scattermapbox\":[{\"type\":\"scattermapbox\",\"marker\":{\"colorbar\":{\"outlinewidth\":0,\"ticks\":\"\"}}}],\"scatterternary\":[{\"type\":\"scatterternary\",\"marker\":{\"colorbar\":{\"outlinewidth\":0,\"ticks\":\"\"}}}],\"scattercarpet\":[{\"type\":\"scattercarpet\",\"marker\":{\"colorbar\":{\"outlinewidth\":0,\"ticks\":\"\"}}}],\"carpet\":[{\"aaxis\":{\"endlinecolor\":\"#2a3f5f\",\"gridcolor\":\"white\",\"linecolor\":\"white\",\"minorgridcolor\":\"white\",\"startlinecolor\":\"#2a3f5f\"},\"baxis\":{\"endlinecolor\":\"#2a3f5f\",\"gridcolor\":\"white\",\"linecolor\":\"white\",\"minorgridcolor\":\"white\",\"startlinecolor\":\"#2a3f5f\"},\"type\":\"carpet\"}],\"table\":[{\"cells\":{\"fill\":{\"color\":\"#EBF0F8\"},\"line\":{\"color\":\"white\"}},\"header\":{\"fill\":{\"color\":\"#C8D4E3\"},\"line\":{\"color\":\"white\"}},\"type\":\"table\"}],\"barpolar\":[{\"marker\":{\"line\":{\"color\":\"#E5ECF6\",\"width\":0.5},\"pattern\":{\"fillmode\":\"overlay\",\"size\":10,\"solidity\":0.2}},\"type\":\"barpolar\"}],\"pie\":[{\"automargin\":true,\"type\":\"pie\"}]},\"layout\":{\"autotypenumbers\":\"strict\",\"colorway\":[\"#636efa\",\"#EF553B\",\"#00cc96\",\"#ab63fa\",\"#FFA15A\",\"#19d3f3\",\"#FF6692\",\"#B6E880\",\"#FF97FF\",\"#FECB52\"],\"font\":{\"color\":\"#2a3f5f\"},\"hovermode\":\"closest\",\"hoverlabel\":{\"align\":\"left\"},\"paper_bgcolor\":\"white\",\"plot_bgcolor\":\"#E5ECF6\",\"polar\":{\"bgcolor\":\"#E5ECF6\",\"angularaxis\":{\"gridcolor\":\"white\",\"linecolor\":\"white\",\"ticks\":\"\"},\"radialaxis\":{\"gridcolor\":\"white\",\"linecolor\":\"white\",\"ticks\":\"\"}},\"ternary\":{\"bgcolor\":\"#E5ECF6\",\"aaxis\":{\"gridcolor\":\"white\",\"linecolor\":\"white\",\"ticks\":\"\"},\"baxis\":{\"gridcolor\":\"white\",\"linecolor\":\"white\",\"ticks\":\"\"},\"caxis\":{\"gridcolor\":\"white\",\"linecolor\":\"white\",\"ticks\":\"\"}},\"coloraxis\":{\"colorbar\":{\"outlinewidth\":0,\"ticks\":\"\"}},\"colorscale\":{\"sequential\":[[0.0,\"#0d0887\"],[0.1111111111111111,\"#46039f\"],[0.2222222222222222,\"#7201a8\"],[0.3333333333333333,\"#9c179e\"],[0.4444444444444444,\"#bd3786\"],[0.5555555555555556,\"#d8576b\"],[0.6666666666666666,\"#ed7953\"],[0.7777777777777778,\"#fb9f3a\"],[0.8888888888888888,\"#fdca26\"],[1.0,\"#f0f921\"]],\"sequentialminus\":[[0.0,\"#0d0887\"],[0.1111111111111111,\"#46039f\"],[0.2222222222222222,\"#7201a8\"],[0.3333333333333333,\"#9c179e\"],[0.4444444444444444,\"#bd3786\"],[0.5555555555555556,\"#d8576b\"],[0.6666666666666666,\"#ed7953\"],[0.7777777777777778,\"#fb9f3a\"],[0.8888888888888888,\"#fdca26\"],[1.0,\"#f0f921\"]],\"diverging\":[[0,\"#8e0152\"],[0.1,\"#c51b7d\"],[0.2,\"#de77ae\"],[0.3,\"#f1b6da\"],[0.4,\"#fde0ef\"],[0.5,\"#f7f7f7\"],[0.6,\"#e6f5d0\"],[0.7,\"#b8e186\"],[0.8,\"#7fbc41\"],[0.9,\"#4d9221\"],[1,\"#276419\"]]},\"xaxis\":{\"gridcolor\":\"white\",\"linecolor\":\"white\",\"ticks\":\"\",\"title\":{\"standoff\":15},\"zerolinecolor\":\"white\",\"automargin\":true,\"zerolinewidth\":2},\"yaxis\":{\"gridcolor\":\"white\",\"linecolor\":\"white\",\"ticks\":\"\",\"title\":{\"standoff\":15},\"zerolinecolor\":\"white\",\"automargin\":true,\"zerolinewidth\":2},\"scene\":{\"xaxis\":{\"backgroundcolor\":\"#E5ECF6\",\"gridcolor\":\"white\",\"linecolor\":\"white\",\"showbackground\":true,\"ticks\":\"\",\"zerolinecolor\":\"white\",\"gridwidth\":2},\"yaxis\":{\"backgroundcolor\":\"#E5ECF6\",\"gridcolor\":\"white\",\"linecolor\":\"white\",\"showbackground\":true,\"ticks\":\"\",\"zerolinecolor\":\"white\",\"gridwidth\":2},\"zaxis\":{\"backgroundcolor\":\"#E5ECF6\",\"gridcolor\":\"white\",\"linecolor\":\"white\",\"showbackground\":true,\"ticks\":\"\",\"zerolinecolor\":\"white\",\"gridwidth\":2}},\"shapedefaults\":{\"line\":{\"color\":\"#2a3f5f\"}},\"annotationdefaults\":{\"arrowcolor\":\"#2a3f5f\",\"arrowhead\":0,\"arrowwidth\":1},\"geo\":{\"bgcolor\":\"white\",\"landcolor\":\"#E5ECF6\",\"subunitcolor\":\"white\",\"showland\":true,\"showlakes\":true,\"lakecolor\":\"white\"},\"title\":{\"x\":0.05},\"mapbox\":{\"style\":\"light\"}}},\"xaxis\":{\"anchor\":\"y\",\"domain\":[0.0,1.0],\"title\":{\"text\":\"OBP\"}},\"yaxis\":{\"anchor\":\"x\",\"domain\":[0.0,1.0],\"title\":{\"text\":\"count\"}},\"legend\":{\"tracegroupgap\":0},\"title\":{\"text\":\"OBP Distribution\"},\"barmode\":\"relative\"},                        {\"responsive\": true}                    ).then(function(){\n",
       "                            \n",
       "var gd = document.getElementById('60bb21ee-385a-4fa7-989b-42aae43ca831');\n",
       "var x = new MutationObserver(function (mutations, observer) {{\n",
       "        var display = window.getComputedStyle(gd).display;\n",
       "        if (!display || display === 'none') {{\n",
       "            console.log([gd, 'removed!']);\n",
       "            Plotly.purge(gd);\n",
       "            observer.disconnect();\n",
       "        }}\n",
       "}});\n",
       "\n",
       "// Listen for the removal of the full notebook cells\n",
       "var notebookContainer = gd.closest('#notebook-container');\n",
       "if (notebookContainer) {{\n",
       "    x.observe(notebookContainer, {childList: true});\n",
       "}}\n",
       "\n",
       "// Listen for the clearing of the current output cell\n",
       "var outputEl = gd.closest('.output');\n",
       "if (outputEl) {{\n",
       "    x.observe(outputEl, {childList: true});\n",
       "}}\n",
       "\n",
       "                        })                };                });            </script>        </div>"
      ]
     },
     "metadata": {},
     "output_type": "display_data"
    }
   ],
   "source": [
    "# Creating the histogram\n",
    "fig = px.histogram(merged_stats, x='OBP', nbins=20, title='OBP Distribution', labels={'OBP': 'OBP'})\n",
    "\n",
    "# Displaying the plot\n",
    "fig.show()"
   ]
  },
  {
   "cell_type": "markdown",
   "id": "570f6962-9a84-4e71-a141-531fa3e3b3b2",
   "metadata": {},
   "source": [
    "Remove the 0s from the dataset"
   ]
  },
  {
   "cell_type": "code",
   "execution_count": 282,
   "id": "a13ade35-b8e7-406e-a71b-ee5462319c8e",
   "metadata": {},
   "outputs": [
    {
     "data": {
      "text/html": [
       "<div>\n",
       "<style scoped>\n",
       "    .dataframe tbody tr th:only-of-type {\n",
       "        vertical-align: middle;\n",
       "    }\n",
       "\n",
       "    .dataframe tbody tr th {\n",
       "        vertical-align: top;\n",
       "    }\n",
       "\n",
       "    .dataframe thead th {\n",
       "        text-align: right;\n",
       "    }\n",
       "</style>\n",
       "<table border=\"1\" class=\"dataframe\">\n",
       "  <thead>\n",
       "    <tr style=\"text-align: right;\">\n",
       "      <th></th>\n",
       "      <th>Name</th>\n",
       "      <th>Team</th>\n",
       "      <th>G</th>\n",
       "      <th>PA</th>\n",
       "      <th>HR</th>\n",
       "      <th>R</th>\n",
       "      <th>RBI</th>\n",
       "      <th>SB</th>\n",
       "      <th>BB%</th>\n",
       "      <th>K%</th>\n",
       "      <th>...</th>\n",
       "      <th>BABIP</th>\n",
       "      <th>AVG</th>\n",
       "      <th>SLG</th>\n",
       "      <th>wOBA</th>\n",
       "      <th>wRC+</th>\n",
       "      <th>BsR</th>\n",
       "      <th>Off</th>\n",
       "      <th>Def</th>\n",
       "      <th>WAR</th>\n",
       "      <th>OBP</th>\n",
       "    </tr>\n",
       "  </thead>\n",
       "  <tbody>\n",
       "    <tr>\n",
       "      <th>0</th>\n",
       "      <td>Matt Chapman</td>\n",
       "      <td>TOR</td>\n",
       "      <td>26</td>\n",
       "      <td>109</td>\n",
       "      <td>5</td>\n",
       "      <td>17</td>\n",
       "      <td>20</td>\n",
       "      <td>1</td>\n",
       "      <td>12.8%</td>\n",
       "      <td>22.9%</td>\n",
       "      <td>...</td>\n",
       "      <td>0.469</td>\n",
       "      <td>0.372</td>\n",
       "      <td>0.691</td>\n",
       "      <td>0.479</td>\n",
       "      <td>214.0</td>\n",
       "      <td>-0.4</td>\n",
       "      <td>14.5</td>\n",
       "      <td>0.8</td>\n",
       "      <td>1.9</td>\n",
       "      <td>0.330</td>\n",
       "    </tr>\n",
       "    <tr>\n",
       "      <th>1</th>\n",
       "      <td>Sean Murphy</td>\n",
       "      <td>ATL</td>\n",
       "      <td>22</td>\n",
       "      <td>91</td>\n",
       "      <td>6</td>\n",
       "      <td>16</td>\n",
       "      <td>16</td>\n",
       "      <td>0</td>\n",
       "      <td>17.6%</td>\n",
       "      <td>24.2%</td>\n",
       "      <td>...</td>\n",
       "      <td>0.311</td>\n",
       "      <td>0.274</td>\n",
       "      <td>0.616</td>\n",
       "      <td>0.434</td>\n",
       "      <td>175.0</td>\n",
       "      <td>-0.3</td>\n",
       "      <td>8.1</td>\n",
       "      <td>4.1</td>\n",
       "      <td>1.5</td>\n",
       "      <td>0.365</td>\n",
       "    </tr>\n",
       "    <tr>\n",
       "      <th>2</th>\n",
       "      <td>Thairo Estrada</td>\n",
       "      <td>SFG</td>\n",
       "      <td>25</td>\n",
       "      <td>108</td>\n",
       "      <td>4</td>\n",
       "      <td>19</td>\n",
       "      <td>10</td>\n",
       "      <td>7</td>\n",
       "      <td>4.6%</td>\n",
       "      <td>20.4%</td>\n",
       "      <td>...</td>\n",
       "      <td>0.405</td>\n",
       "      <td>0.340</td>\n",
       "      <td>0.530</td>\n",
       "      <td>0.395</td>\n",
       "      <td>154.0</td>\n",
       "      <td>1.0</td>\n",
       "      <td>8.2</td>\n",
       "      <td>3.1</td>\n",
       "      <td>1.5</td>\n",
       "      <td>0.315</td>\n",
       "    </tr>\n",
       "    <tr>\n",
       "      <th>3</th>\n",
       "      <td>Mike Trout</td>\n",
       "      <td>LAA</td>\n",
       "      <td>26</td>\n",
       "      <td>120</td>\n",
       "      <td>7</td>\n",
       "      <td>20</td>\n",
       "      <td>18</td>\n",
       "      <td>0</td>\n",
       "      <td>10.8%</td>\n",
       "      <td>28.3%</td>\n",
       "      <td>...</td>\n",
       "      <td>0.406</td>\n",
       "      <td>0.317</td>\n",
       "      <td>0.606</td>\n",
       "      <td>0.423</td>\n",
       "      <td>172.0</td>\n",
       "      <td>0.0</td>\n",
       "      <td>10.4</td>\n",
       "      <td>0.4</td>\n",
       "      <td>1.5</td>\n",
       "      <td>0.367</td>\n",
       "    </tr>\n",
       "    <tr>\n",
       "      <th>4</th>\n",
       "      <td>Ronald Acu±a Jr.</td>\n",
       "      <td>ATL</td>\n",
       "      <td>26</td>\n",
       "      <td>119</td>\n",
       "      <td>4</td>\n",
       "      <td>23</td>\n",
       "      <td>14</td>\n",
       "      <td>12</td>\n",
       "      <td>13.4%</td>\n",
       "      <td>15.1%</td>\n",
       "      <td>...</td>\n",
       "      <td>0.400</td>\n",
       "      <td>0.353</td>\n",
       "      <td>0.559</td>\n",
       "      <td>0.429</td>\n",
       "      <td>172.0</td>\n",
       "      <td>1.6</td>\n",
       "      <td>12.1</td>\n",
       "      <td>-1.3</td>\n",
       "      <td>1.5</td>\n",
       "      <td>0.416</td>\n",
       "    </tr>\n",
       "    <tr>\n",
       "      <th>...</th>\n",
       "      <td>...</td>\n",
       "      <td>...</td>\n",
       "      <td>...</td>\n",
       "      <td>...</td>\n",
       "      <td>...</td>\n",
       "      <td>...</td>\n",
       "      <td>...</td>\n",
       "      <td>...</td>\n",
       "      <td>...</td>\n",
       "      <td>...</td>\n",
       "      <td>...</td>\n",
       "      <td>...</td>\n",
       "      <td>...</td>\n",
       "      <td>...</td>\n",
       "      <td>...</td>\n",
       "      <td>...</td>\n",
       "      <td>...</td>\n",
       "      <td>...</td>\n",
       "      <td>...</td>\n",
       "      <td>...</td>\n",
       "      <td>...</td>\n",
       "    </tr>\n",
       "    <tr>\n",
       "      <th>459</th>\n",
       "      <td>JosΘ Abreu</td>\n",
       "      <td>HOU</td>\n",
       "      <td>26</td>\n",
       "      <td>112</td>\n",
       "      <td>0</td>\n",
       "      <td>6</td>\n",
       "      <td>11</td>\n",
       "      <td>0</td>\n",
       "      <td>2.7%</td>\n",
       "      <td>23.2%</td>\n",
       "      <td>...</td>\n",
       "      <td>0.305</td>\n",
       "      <td>0.231</td>\n",
       "      <td>0.269</td>\n",
       "      <td>0.231</td>\n",
       "      <td>42.0</td>\n",
       "      <td>-0.4</td>\n",
       "      <td>-8.2</td>\n",
       "      <td>-2.4</td>\n",
       "      <td>-0.7</td>\n",
       "      <td>0.296</td>\n",
       "    </tr>\n",
       "    <tr>\n",
       "      <th>460</th>\n",
       "      <td>Michael Massey</td>\n",
       "      <td>KCR</td>\n",
       "      <td>23</td>\n",
       "      <td>77</td>\n",
       "      <td>0</td>\n",
       "      <td>4</td>\n",
       "      <td>5</td>\n",
       "      <td>1</td>\n",
       "      <td>1.3%</td>\n",
       "      <td>37.7%</td>\n",
       "      <td>...</td>\n",
       "      <td>0.277</td>\n",
       "      <td>0.176</td>\n",
       "      <td>0.189</td>\n",
       "      <td>0.163</td>\n",
       "      <td>-10.0</td>\n",
       "      <td>0.3</td>\n",
       "      <td>-9.9</td>\n",
       "      <td>0.4</td>\n",
       "      <td>-0.7</td>\n",
       "      <td>0.274</td>\n",
       "    </tr>\n",
       "    <tr>\n",
       "      <th>461</th>\n",
       "      <td>Aledmys Dφaz</td>\n",
       "      <td>OAK</td>\n",
       "      <td>24</td>\n",
       "      <td>89</td>\n",
       "      <td>1</td>\n",
       "      <td>7</td>\n",
       "      <td>5</td>\n",
       "      <td>1</td>\n",
       "      <td>5.6%</td>\n",
       "      <td>21.3%</td>\n",
       "      <td>...</td>\n",
       "      <td>0.161</td>\n",
       "      <td>0.134</td>\n",
       "      <td>0.195</td>\n",
       "      <td>0.185</td>\n",
       "      <td>14.0</td>\n",
       "      <td>-0.4</td>\n",
       "      <td>-9.6</td>\n",
       "      <td>-0.4</td>\n",
       "      <td>-0.7</td>\n",
       "      <td>0.280</td>\n",
       "    </tr>\n",
       "    <tr>\n",
       "      <th>462</th>\n",
       "      <td>Oscar Gonzalez</td>\n",
       "      <td>CLE</td>\n",
       "      <td>21</td>\n",
       "      <td>65</td>\n",
       "      <td>1</td>\n",
       "      <td>4</td>\n",
       "      <td>4</td>\n",
       "      <td>0</td>\n",
       "      <td>3.1%</td>\n",
       "      <td>20.0%</td>\n",
       "      <td>...</td>\n",
       "      <td>0.184</td>\n",
       "      <td>0.159</td>\n",
       "      <td>0.270</td>\n",
       "      <td>0.196</td>\n",
       "      <td>19.0</td>\n",
       "      <td>0.4</td>\n",
       "      <td>-5.9</td>\n",
       "      <td>-3.5</td>\n",
       "      <td>-0.7</td>\n",
       "      <td>0.239</td>\n",
       "    </tr>\n",
       "    <tr>\n",
       "      <th>463</th>\n",
       "      <td>David Peralta</td>\n",
       "      <td>LAD</td>\n",
       "      <td>23</td>\n",
       "      <td>61</td>\n",
       "      <td>1</td>\n",
       "      <td>4</td>\n",
       "      <td>9</td>\n",
       "      <td>0</td>\n",
       "      <td>1.6%</td>\n",
       "      <td>19.7%</td>\n",
       "      <td>...</td>\n",
       "      <td>0.149</td>\n",
       "      <td>0.136</td>\n",
       "      <td>0.203</td>\n",
       "      <td>0.151</td>\n",
       "      <td>-11.0</td>\n",
       "      <td>-0.5</td>\n",
       "      <td>-8.8</td>\n",
       "      <td>-0.6</td>\n",
       "      <td>-0.7</td>\n",
       "      <td>0.294</td>\n",
       "    </tr>\n",
       "  </tbody>\n",
       "</table>\n",
       "<p>464 rows × 21 columns</p>\n",
       "</div>"
      ],
      "text/plain": [
       "                 Name Team   G   PA  HR   R  RBI  SB    BB%     K%  ...  \\\n",
       "0        Matt Chapman  TOR  26  109   5  17   20   1  12.8%  22.9%  ...   \n",
       "1         Sean Murphy  ATL  22   91   6  16   16   0  17.6%  24.2%  ...   \n",
       "2      Thairo Estrada  SFG  25  108   4  19   10   7   4.6%  20.4%  ...   \n",
       "3          Mike Trout  LAA  26  120   7  20   18   0  10.8%  28.3%  ...   \n",
       "4    Ronald Acu±a Jr.  ATL  26  119   4  23   14  12  13.4%  15.1%  ...   \n",
       "..                ...  ...  ..  ...  ..  ..  ...  ..    ...    ...  ...   \n",
       "459        JosΘ Abreu  HOU  26  112   0   6   11   0   2.7%  23.2%  ...   \n",
       "460    Michael Massey  KCR  23   77   0   4    5   1   1.3%  37.7%  ...   \n",
       "461      Aledmys Dφaz  OAK  24   89   1   7    5   1   5.6%  21.3%  ...   \n",
       "462    Oscar Gonzalez  CLE  21   65   1   4    4   0   3.1%  20.0%  ...   \n",
       "463     David Peralta  LAD  23   61   1   4    9   0   1.6%  19.7%  ...   \n",
       "\n",
       "     BABIP    AVG    SLG   wOBA   wRC+  BsR   Off  Def  WAR    OBP  \n",
       "0    0.469  0.372  0.691  0.479  214.0 -0.4  14.5  0.8  1.9  0.330  \n",
       "1    0.311  0.274  0.616  0.434  175.0 -0.3   8.1  4.1  1.5  0.365  \n",
       "2    0.405  0.340  0.530  0.395  154.0  1.0   8.2  3.1  1.5  0.315  \n",
       "3    0.406  0.317  0.606  0.423  172.0  0.0  10.4  0.4  1.5  0.367  \n",
       "4    0.400  0.353  0.559  0.429  172.0  1.6  12.1 -1.3  1.5  0.416  \n",
       "..     ...    ...    ...    ...    ...  ...   ...  ...  ...    ...  \n",
       "459  0.305  0.231  0.269  0.231   42.0 -0.4  -8.2 -2.4 -0.7  0.296  \n",
       "460  0.277  0.176  0.189  0.163  -10.0  0.3  -9.9  0.4 -0.7  0.274  \n",
       "461  0.161  0.134  0.195  0.185   14.0 -0.4  -9.6 -0.4 -0.7  0.280  \n",
       "462  0.184  0.159  0.270  0.196   19.0  0.4  -5.9 -3.5 -0.7  0.239  \n",
       "463  0.149  0.136  0.203  0.151  -11.0 -0.5  -8.8 -0.6 -0.7  0.294  \n",
       "\n",
       "[464 rows x 21 columns]"
      ]
     },
     "execution_count": 282,
     "metadata": {},
     "output_type": "execute_result"
    }
   ],
   "source": [
    "merged_stats = merged_stats[merged_stats['OBP'] != 0]\n",
    "merged_stats = merged_stats.reset_index(drop=True)\n",
    "merged_stats"
   ]
  },
  {
   "cell_type": "markdown",
   "id": "443d29bf-6e04-461f-b644-5621f7354fac",
   "metadata": {},
   "source": [
    "Histogram of SLG"
   ]
  },
  {
   "cell_type": "code",
   "execution_count": 285,
   "id": "eb1b2e4e-7269-43ea-bc61-7de1eacdd035",
   "metadata": {},
   "outputs": [
    {
     "data": {
      "application/vnd.plotly.v1+json": {
       "config": {
        "plotlyServerURL": "https://plot.ly"
       },
       "data": [
        {
         "alignmentgroup": "True",
         "bingroup": "x",
         "hovertemplate": "SLG=%{x}<br>count=%{y}<extra></extra>",
         "legendgroup": "",
         "marker": {
          "color": "#636efa",
          "pattern": {
           "shape": ""
          }
         },
         "name": "",
         "nbinsx": 20,
         "offsetgroup": "",
         "orientation": "v",
         "showlegend": false,
         "type": "histogram",
         "x": [
          0.691,
          0.616,
          0.53,
          0.606,
          0.559,
          0.743,
          0.791,
          0.519,
          0.617,
          0.667,
          0.6,
          0.585,
          0.583,
          0.49,
          0.598,
          0.625,
          0.632,
          0.443,
          0.631,
          0.627,
          0.549,
          0.466,
          0.656,
          0.544,
          0.568,
          0.43,
          0.5,
          1.138,
          0.33,
          0.581,
          0.552,
          0.436,
          0.458,
          0.536,
          0.575,
          0.586,
          0.429,
          0.561,
          0.433,
          0.634,
          0.543,
          0.61,
          0.471,
          0.485,
          0.663,
          0.476,
          0.404,
          0.535,
          0.491,
          0.5,
          0.567,
          0.469,
          0.515,
          0.463,
          0.717,
          0.405,
          0.481,
          0.464,
          0.378,
          0.646,
          0.447,
          0.547,
          0.391,
          0.538,
          0.452,
          0.491,
          0.449,
          0.532,
          0.661,
          0.529,
          0.33,
          0.413,
          0.461,
          0.454,
          0.586,
          0.344,
          0.442,
          0.543,
          0.367,
          0.418,
          0.447,
          0.515,
          0.433,
          0.556,
          0.571,
          0.505,
          0.367,
          0.354,
          0.427,
          0.537,
          0.431,
          0.447,
          0.5,
          0.381,
          0.507,
          0.573,
          0.5,
          0.477,
          0.617,
          0.542,
          0.468,
          0.583,
          0.575,
          0.398,
          0.412,
          0.535,
          0.5,
          0.421,
          0.462,
          0.483,
          0.48,
          0.4,
          0.313,
          0.478,
          0.435,
          0.462,
          0.561,
          0.396,
          0.411,
          0.466,
          0.385,
          0.391,
          0.414,
          0.418,
          0.696,
          0.9,
          0.537,
          0.5,
          0.458,
          0.393,
          0.491,
          0.477,
          0.396,
          0.565,
          0.5,
          0.369,
          0.375,
          0.324,
          0.489,
          0.452,
          0.5,
          1.25,
          0.494,
          0.301,
          0.415,
          0.402,
          0.33,
          0.6,
          0.41,
          0.391,
          0.398,
          0.5,
          0.59,
          0.431,
          0.295,
          0.291,
          0.427,
          0.451,
          0.5,
          0.521,
          0.56,
          1.167,
          0.625,
          0.29,
          0.636,
          0.4,
          0.372,
          0.467,
          0.327,
          0.477,
          0.488,
          0.457,
          0.459,
          0.458,
          0.583,
          0.462,
          0.429,
          0.361,
          0.462,
          0.306,
          0.436,
          0.324,
          0.75,
          0.368,
          0.479,
          0.567,
          0.443,
          0.395,
          0.49,
          0.385,
          0.463,
          0.184,
          0.378,
          0.467,
          0.36,
          0.414,
          0.364,
          0.625,
          0.461,
          0.442,
          0.579,
          0.444,
          0.341,
          0.407,
          0.394,
          0.426,
          0.483,
          0.406,
          0.351,
          0.378,
          0.348,
          0.347,
          0.379,
          0.464,
          0.75,
          0.422,
          0.392,
          0.348,
          0.36,
          0.439,
          0.303,
          0.267,
          0.303,
          0.356,
          0.412,
          0.37,
          0.344,
          0.231,
          0.255,
          0.433,
          0.325,
          0.375,
          0.375,
          0.278,
          0.341,
          0.359,
          0.526,
          0.444,
          0.4,
          0.411,
          1,
          0.308,
          0.344,
          0.286,
          1,
          0.351,
          0.583,
          0.287,
          0.429,
          0.333,
          0.443,
          0.365,
          0.483,
          0.324,
          0,
          0.355,
          0.314,
          0.5,
          0.373,
          0.385,
          0.348,
          0.381,
          0.235,
          0.45,
          0.333,
          0.333,
          0.353,
          0.278,
          0.397,
          0.263,
          0.317,
          0.371,
          0.419,
          0.375,
          0.333,
          0.077,
          0.325,
          0.368,
          0.338,
          0,
          0.273,
          0.346,
          0.222,
          0,
          0.286,
          0,
          0.571,
          0.376,
          0.324,
          0,
          0.275,
          0.283,
          0,
          0,
          0.25,
          0.412,
          0.419,
          0.278,
          0.125,
          0.111,
          0.208,
          0.333,
          0.25,
          0.429,
          0.8,
          0.269,
          0.333,
          0.207,
          0.278,
          0.25,
          0.356,
          0.321,
          0,
          0.356,
          0.31,
          0.375,
          0.329,
          0.327,
          0.333,
          0.2,
          0.208,
          0.294,
          0.238,
          0.143,
          0.315,
          0.306,
          0.313,
          0.357,
          0.333,
          0.273,
          0.425,
          0.305,
          0.282,
          0.341,
          0.386,
          0.2,
          0.313,
          0.348,
          0.3,
          0.409,
          0.322,
          0.125,
          0.365,
          0.436,
          0.365,
          0.364,
          0,
          0.3,
          0.071,
          0.319,
          0.368,
          0.205,
          0.413,
          0.269,
          0.077,
          0.295,
          0.324,
          0,
          0.1,
          0.133,
          0.364,
          0.167,
          0,
          0.333,
          0.351,
          0,
          0.311,
          0.25,
          0.343,
          0.449,
          0.231,
          0.245,
          0.083,
          0.1,
          0.4,
          0.378,
          0.338,
          0.1,
          0.345,
          0.394,
          0.1,
          0.352,
          0.231,
          0.371,
          0,
          0.083,
          0.308,
          0,
          0.118,
          0.282,
          0.36,
          0.306,
          0.376,
          0.2,
          0.37,
          0.286,
          0.364,
          0.396,
          0.256,
          0.167,
          0.125,
          0.063,
          0.118,
          0.19,
          0.241,
          0.302,
          0.083,
          0.344,
          0.333,
          0.15,
          0.263,
          0.311,
          0.227,
          0.321,
          0.059,
          0.16,
          0.2,
          0.091,
          0.063,
          0.268,
          0.319,
          0.344,
          0.171,
          0.345,
          0.273,
          0.242,
          0.268,
          0.296,
          0.326,
          0.273,
          0.237,
          0.282,
          0.359,
          0.222,
          0.241,
          0.286,
          0.323,
          0.19,
          0.244,
          0.286,
          0.122,
          0.275,
          0.309,
          0.301,
          0.255,
          0.261,
          0.245,
          0.093,
          0.176,
          0.159,
          0.224,
          0.04,
          0.205,
          0.208,
          0.241,
          0.344,
          0.132,
          0.38,
          0.218,
          0.269,
          0.189,
          0.195,
          0.27,
          0.203
         ],
         "xaxis": "x",
         "yaxis": "y"
        }
       ],
       "layout": {
        "autosize": true,
        "barmode": "relative",
        "legend": {
         "tracegroupgap": 0
        },
        "template": {
         "data": {
          "bar": [
           {
            "error_x": {
             "color": "#2a3f5f"
            },
            "error_y": {
             "color": "#2a3f5f"
            },
            "marker": {
             "line": {
              "color": "#E5ECF6",
              "width": 0.5
             },
             "pattern": {
              "fillmode": "overlay",
              "size": 10,
              "solidity": 0.2
             }
            },
            "type": "bar"
           }
          ],
          "barpolar": [
           {
            "marker": {
             "line": {
              "color": "#E5ECF6",
              "width": 0.5
             },
             "pattern": {
              "fillmode": "overlay",
              "size": 10,
              "solidity": 0.2
             }
            },
            "type": "barpolar"
           }
          ],
          "carpet": [
           {
            "aaxis": {
             "endlinecolor": "#2a3f5f",
             "gridcolor": "white",
             "linecolor": "white",
             "minorgridcolor": "white",
             "startlinecolor": "#2a3f5f"
            },
            "baxis": {
             "endlinecolor": "#2a3f5f",
             "gridcolor": "white",
             "linecolor": "white",
             "minorgridcolor": "white",
             "startlinecolor": "#2a3f5f"
            },
            "type": "carpet"
           }
          ],
          "choropleth": [
           {
            "colorbar": {
             "outlinewidth": 0,
             "ticks": ""
            },
            "type": "choropleth"
           }
          ],
          "contour": [
           {
            "colorbar": {
             "outlinewidth": 0,
             "ticks": ""
            },
            "colorscale": [
             [
              0,
              "#0d0887"
             ],
             [
              0.1111111111111111,
              "#46039f"
             ],
             [
              0.2222222222222222,
              "#7201a8"
             ],
             [
              0.3333333333333333,
              "#9c179e"
             ],
             [
              0.4444444444444444,
              "#bd3786"
             ],
             [
              0.5555555555555556,
              "#d8576b"
             ],
             [
              0.6666666666666666,
              "#ed7953"
             ],
             [
              0.7777777777777778,
              "#fb9f3a"
             ],
             [
              0.8888888888888888,
              "#fdca26"
             ],
             [
              1,
              "#f0f921"
             ]
            ],
            "type": "contour"
           }
          ],
          "contourcarpet": [
           {
            "colorbar": {
             "outlinewidth": 0,
             "ticks": ""
            },
            "type": "contourcarpet"
           }
          ],
          "heatmap": [
           {
            "colorbar": {
             "outlinewidth": 0,
             "ticks": ""
            },
            "colorscale": [
             [
              0,
              "#0d0887"
             ],
             [
              0.1111111111111111,
              "#46039f"
             ],
             [
              0.2222222222222222,
              "#7201a8"
             ],
             [
              0.3333333333333333,
              "#9c179e"
             ],
             [
              0.4444444444444444,
              "#bd3786"
             ],
             [
              0.5555555555555556,
              "#d8576b"
             ],
             [
              0.6666666666666666,
              "#ed7953"
             ],
             [
              0.7777777777777778,
              "#fb9f3a"
             ],
             [
              0.8888888888888888,
              "#fdca26"
             ],
             [
              1,
              "#f0f921"
             ]
            ],
            "type": "heatmap"
           }
          ],
          "heatmapgl": [
           {
            "colorbar": {
             "outlinewidth": 0,
             "ticks": ""
            },
            "colorscale": [
             [
              0,
              "#0d0887"
             ],
             [
              0.1111111111111111,
              "#46039f"
             ],
             [
              0.2222222222222222,
              "#7201a8"
             ],
             [
              0.3333333333333333,
              "#9c179e"
             ],
             [
              0.4444444444444444,
              "#bd3786"
             ],
             [
              0.5555555555555556,
              "#d8576b"
             ],
             [
              0.6666666666666666,
              "#ed7953"
             ],
             [
              0.7777777777777778,
              "#fb9f3a"
             ],
             [
              0.8888888888888888,
              "#fdca26"
             ],
             [
              1,
              "#f0f921"
             ]
            ],
            "type": "heatmapgl"
           }
          ],
          "histogram": [
           {
            "marker": {
             "pattern": {
              "fillmode": "overlay",
              "size": 10,
              "solidity": 0.2
             }
            },
            "type": "histogram"
           }
          ],
          "histogram2d": [
           {
            "colorbar": {
             "outlinewidth": 0,
             "ticks": ""
            },
            "colorscale": [
             [
              0,
              "#0d0887"
             ],
             [
              0.1111111111111111,
              "#46039f"
             ],
             [
              0.2222222222222222,
              "#7201a8"
             ],
             [
              0.3333333333333333,
              "#9c179e"
             ],
             [
              0.4444444444444444,
              "#bd3786"
             ],
             [
              0.5555555555555556,
              "#d8576b"
             ],
             [
              0.6666666666666666,
              "#ed7953"
             ],
             [
              0.7777777777777778,
              "#fb9f3a"
             ],
             [
              0.8888888888888888,
              "#fdca26"
             ],
             [
              1,
              "#f0f921"
             ]
            ],
            "type": "histogram2d"
           }
          ],
          "histogram2dcontour": [
           {
            "colorbar": {
             "outlinewidth": 0,
             "ticks": ""
            },
            "colorscale": [
             [
              0,
              "#0d0887"
             ],
             [
              0.1111111111111111,
              "#46039f"
             ],
             [
              0.2222222222222222,
              "#7201a8"
             ],
             [
              0.3333333333333333,
              "#9c179e"
             ],
             [
              0.4444444444444444,
              "#bd3786"
             ],
             [
              0.5555555555555556,
              "#d8576b"
             ],
             [
              0.6666666666666666,
              "#ed7953"
             ],
             [
              0.7777777777777778,
              "#fb9f3a"
             ],
             [
              0.8888888888888888,
              "#fdca26"
             ],
             [
              1,
              "#f0f921"
             ]
            ],
            "type": "histogram2dcontour"
           }
          ],
          "mesh3d": [
           {
            "colorbar": {
             "outlinewidth": 0,
             "ticks": ""
            },
            "type": "mesh3d"
           }
          ],
          "parcoords": [
           {
            "line": {
             "colorbar": {
              "outlinewidth": 0,
              "ticks": ""
             }
            },
            "type": "parcoords"
           }
          ],
          "pie": [
           {
            "automargin": true,
            "type": "pie"
           }
          ],
          "scatter": [
           {
            "fillpattern": {
             "fillmode": "overlay",
             "size": 10,
             "solidity": 0.2
            },
            "type": "scatter"
           }
          ],
          "scatter3d": [
           {
            "line": {
             "colorbar": {
              "outlinewidth": 0,
              "ticks": ""
             }
            },
            "marker": {
             "colorbar": {
              "outlinewidth": 0,
              "ticks": ""
             }
            },
            "type": "scatter3d"
           }
          ],
          "scattercarpet": [
           {
            "marker": {
             "colorbar": {
              "outlinewidth": 0,
              "ticks": ""
             }
            },
            "type": "scattercarpet"
           }
          ],
          "scattergeo": [
           {
            "marker": {
             "colorbar": {
              "outlinewidth": 0,
              "ticks": ""
             }
            },
            "type": "scattergeo"
           }
          ],
          "scattergl": [
           {
            "marker": {
             "colorbar": {
              "outlinewidth": 0,
              "ticks": ""
             }
            },
            "type": "scattergl"
           }
          ],
          "scattermapbox": [
           {
            "marker": {
             "colorbar": {
              "outlinewidth": 0,
              "ticks": ""
             }
            },
            "type": "scattermapbox"
           }
          ],
          "scatterpolar": [
           {
            "marker": {
             "colorbar": {
              "outlinewidth": 0,
              "ticks": ""
             }
            },
            "type": "scatterpolar"
           }
          ],
          "scatterpolargl": [
           {
            "marker": {
             "colorbar": {
              "outlinewidth": 0,
              "ticks": ""
             }
            },
            "type": "scatterpolargl"
           }
          ],
          "scatterternary": [
           {
            "marker": {
             "colorbar": {
              "outlinewidth": 0,
              "ticks": ""
             }
            },
            "type": "scatterternary"
           }
          ],
          "surface": [
           {
            "colorbar": {
             "outlinewidth": 0,
             "ticks": ""
            },
            "colorscale": [
             [
              0,
              "#0d0887"
             ],
             [
              0.1111111111111111,
              "#46039f"
             ],
             [
              0.2222222222222222,
              "#7201a8"
             ],
             [
              0.3333333333333333,
              "#9c179e"
             ],
             [
              0.4444444444444444,
              "#bd3786"
             ],
             [
              0.5555555555555556,
              "#d8576b"
             ],
             [
              0.6666666666666666,
              "#ed7953"
             ],
             [
              0.7777777777777778,
              "#fb9f3a"
             ],
             [
              0.8888888888888888,
              "#fdca26"
             ],
             [
              1,
              "#f0f921"
             ]
            ],
            "type": "surface"
           }
          ],
          "table": [
           {
            "cells": {
             "fill": {
              "color": "#EBF0F8"
             },
             "line": {
              "color": "white"
             }
            },
            "header": {
             "fill": {
              "color": "#C8D4E3"
             },
             "line": {
              "color": "white"
             }
            },
            "type": "table"
           }
          ]
         },
         "layout": {
          "annotationdefaults": {
           "arrowcolor": "#2a3f5f",
           "arrowhead": 0,
           "arrowwidth": 1
          },
          "autotypenumbers": "strict",
          "coloraxis": {
           "colorbar": {
            "outlinewidth": 0,
            "ticks": ""
           }
          },
          "colorscale": {
           "diverging": [
            [
             0,
             "#8e0152"
            ],
            [
             0.1,
             "#c51b7d"
            ],
            [
             0.2,
             "#de77ae"
            ],
            [
             0.3,
             "#f1b6da"
            ],
            [
             0.4,
             "#fde0ef"
            ],
            [
             0.5,
             "#f7f7f7"
            ],
            [
             0.6,
             "#e6f5d0"
            ],
            [
             0.7,
             "#b8e186"
            ],
            [
             0.8,
             "#7fbc41"
            ],
            [
             0.9,
             "#4d9221"
            ],
            [
             1,
             "#276419"
            ]
           ],
           "sequential": [
            [
             0,
             "#0d0887"
            ],
            [
             0.1111111111111111,
             "#46039f"
            ],
            [
             0.2222222222222222,
             "#7201a8"
            ],
            [
             0.3333333333333333,
             "#9c179e"
            ],
            [
             0.4444444444444444,
             "#bd3786"
            ],
            [
             0.5555555555555556,
             "#d8576b"
            ],
            [
             0.6666666666666666,
             "#ed7953"
            ],
            [
             0.7777777777777778,
             "#fb9f3a"
            ],
            [
             0.8888888888888888,
             "#fdca26"
            ],
            [
             1,
             "#f0f921"
            ]
           ],
           "sequentialminus": [
            [
             0,
             "#0d0887"
            ],
            [
             0.1111111111111111,
             "#46039f"
            ],
            [
             0.2222222222222222,
             "#7201a8"
            ],
            [
             0.3333333333333333,
             "#9c179e"
            ],
            [
             0.4444444444444444,
             "#bd3786"
            ],
            [
             0.5555555555555556,
             "#d8576b"
            ],
            [
             0.6666666666666666,
             "#ed7953"
            ],
            [
             0.7777777777777778,
             "#fb9f3a"
            ],
            [
             0.8888888888888888,
             "#fdca26"
            ],
            [
             1,
             "#f0f921"
            ]
           ]
          },
          "colorway": [
           "#636efa",
           "#EF553B",
           "#00cc96",
           "#ab63fa",
           "#FFA15A",
           "#19d3f3",
           "#FF6692",
           "#B6E880",
           "#FF97FF",
           "#FECB52"
          ],
          "font": {
           "color": "#2a3f5f"
          },
          "geo": {
           "bgcolor": "white",
           "lakecolor": "white",
           "landcolor": "#E5ECF6",
           "showlakes": true,
           "showland": true,
           "subunitcolor": "white"
          },
          "hoverlabel": {
           "align": "left"
          },
          "hovermode": "closest",
          "mapbox": {
           "style": "light"
          },
          "paper_bgcolor": "white",
          "plot_bgcolor": "#E5ECF6",
          "polar": {
           "angularaxis": {
            "gridcolor": "white",
            "linecolor": "white",
            "ticks": ""
           },
           "bgcolor": "#E5ECF6",
           "radialaxis": {
            "gridcolor": "white",
            "linecolor": "white",
            "ticks": ""
           }
          },
          "scene": {
           "xaxis": {
            "backgroundcolor": "#E5ECF6",
            "gridcolor": "white",
            "gridwidth": 2,
            "linecolor": "white",
            "showbackground": true,
            "ticks": "",
            "zerolinecolor": "white"
           },
           "yaxis": {
            "backgroundcolor": "#E5ECF6",
            "gridcolor": "white",
            "gridwidth": 2,
            "linecolor": "white",
            "showbackground": true,
            "ticks": "",
            "zerolinecolor": "white"
           },
           "zaxis": {
            "backgroundcolor": "#E5ECF6",
            "gridcolor": "white",
            "gridwidth": 2,
            "linecolor": "white",
            "showbackground": true,
            "ticks": "",
            "zerolinecolor": "white"
           }
          },
          "shapedefaults": {
           "line": {
            "color": "#2a3f5f"
           }
          },
          "ternary": {
           "aaxis": {
            "gridcolor": "white",
            "linecolor": "white",
            "ticks": ""
           },
           "baxis": {
            "gridcolor": "white",
            "linecolor": "white",
            "ticks": ""
           },
           "bgcolor": "#E5ECF6",
           "caxis": {
            "gridcolor": "white",
            "linecolor": "white",
            "ticks": ""
           }
          },
          "title": {
           "x": 0.05
          },
          "xaxis": {
           "automargin": true,
           "gridcolor": "white",
           "linecolor": "white",
           "ticks": "",
           "title": {
            "standoff": 15
           },
           "zerolinecolor": "white",
           "zerolinewidth": 2
          },
          "yaxis": {
           "automargin": true,
           "gridcolor": "white",
           "linecolor": "white",
           "ticks": "",
           "title": {
            "standoff": 15
           },
           "zerolinecolor": "white",
           "zerolinewidth": 2
          }
         }
        },
        "title": {
         "text": "SLG Distribution"
        },
        "xaxis": {
         "anchor": "y",
         "autorange": true,
         "domain": [
          0,
          1
         ],
         "range": [
          -0.04999999999999993,
          1.35
         ],
         "title": {
          "text": "SLG"
         },
         "type": "linear"
        },
        "yaxis": {
         "anchor": "x",
         "autorange": true,
         "domain": [
          0,
          1
         ],
         "range": [
          0,
          133.68421052631578
         ],
         "title": {
          "text": "count"
         }
        }
       }
      },
      "image/png": "[encoded data removed]",
      "text/html": [
       "<div>                            <div id=\"5a08b17b-c4e6-40de-ba19-7767e26af222\" class=\"plotly-graph-div\" style=\"height:525px; width:100%;\"></div>            <script type=\"text/javascript\">                require([\"plotly\"], function(Plotly) {                    window.PLOTLYENV=window.PLOTLYENV || {};                                    if (document.getElementById(\"5a08b17b-c4e6-40de-ba19-7767e26af222\")) {                    Plotly.newPlot(                        \"5a08b17b-c4e6-40de-ba19-7767e26af222\",                        [{\"alignmentgroup\":\"True\",\"bingroup\":\"x\",\"hovertemplate\":\"SLG=%{x}<br>count=%{y}<extra></extra>\",\"legendgroup\":\"\",\"marker\":{\"color\":\"#636efa\",\"pattern\":{\"shape\":\"\"}},\"name\":\"\",\"nbinsx\":20,\"offsetgroup\":\"\",\"orientation\":\"v\",\"showlegend\":false,\"x\":[0.691,0.616,0.53,0.606,0.559,0.743,0.791,0.519,0.617,0.667,0.6,0.585,0.583,0.49,0.598,0.625,0.632,0.443,0.631,0.627,0.549,0.466,0.656,0.544,0.568,0.43,0.5,1.138,0.33,0.581,0.552,0.436,0.458,0.536,0.575,0.586,0.429,0.561,0.433,0.634,0.543,0.61,0.471,0.485,0.663,0.476,0.404,0.535,0.491,0.5,0.567,0.469,0.515,0.463,0.717,0.405,0.481,0.464,0.378,0.646,0.447,0.547,0.391,0.538,0.452,0.491,0.449,0.532,0.661,0.529,0.33,0.413,0.461,0.454,0.586,0.344,0.442,0.543,0.367,0.418,0.447,0.515,0.433,0.556,0.571,0.505,0.367,0.354,0.427,0.537,0.431,0.447,0.5,0.381,0.507,0.573,0.5,0.477,0.617,0.542,0.468,0.583,0.575,0.398,0.412,0.535,0.5,0.421,0.462,0.483,0.48,0.4,0.313,0.478,0.435,0.462,0.561,0.396,0.411,0.466,0.385,0.391,0.414,0.418,0.696,0.9,0.537,0.5,0.458,0.393,0.491,0.477,0.396,0.565,0.5,0.369,0.375,0.324,0.489,0.452,0.5,1.25,0.494,0.301,0.415,0.402,0.33,0.6,0.41,0.391,0.398,0.5,0.59,0.431,0.295,0.291,0.427,0.451,0.5,0.521,0.56,1.167,0.625,0.29,0.636,0.4,0.372,0.467,0.327,0.477,0.488,0.457,0.459,0.458,0.583,0.462,0.429,0.361,0.462,0.306,0.436,0.324,0.75,0.368,0.479,0.567,0.443,0.395,0.49,0.385,0.463,0.184,0.378,0.467,0.36,0.414,0.364,0.625,0.461,0.442,0.579,0.444,0.341,0.407,0.394,0.426,0.483,0.406,0.351,0.378,0.348,0.347,0.379,0.464,0.75,0.422,0.392,0.348,0.36,0.439,0.303,0.267,0.303,0.356,0.412,0.37,0.344,0.231,0.255,0.433,0.325,0.375,0.375,0.278,0.341,0.359,0.526,0.444,0.4,0.411,1.0,0.308,0.344,0.286,1.0,0.351,0.583,0.287,0.429,0.333,0.443,0.365,0.483,0.324,0.0,0.355,0.314,0.5,0.373,0.385,0.348,0.381,0.235,0.45,0.333,0.333,0.353,0.278,0.397,0.263,0.317,0.371,0.419,0.375,0.333,0.077,0.325,0.368,0.338,0.0,0.273,0.346,0.222,0.0,0.286,0.0,0.571,0.376,0.324,0.0,0.275,0.283,0.0,0.0,0.25,0.412,0.419,0.278,0.125,0.111,0.208,0.333,0.25,0.429,0.8,0.269,0.333,0.207,0.278,0.25,0.356,0.321,0.0,0.356,0.31,0.375,0.329,0.327,0.333,0.2,0.208,0.294,0.238,0.143,0.315,0.306,0.313,0.357,0.333,0.273,0.425,0.305,0.282,0.341,0.386,0.2,0.313,0.348,0.3,0.409,0.322,0.125,0.365,0.436,0.365,0.364,0.0,0.3,0.071,0.319,0.368,0.205,0.413,0.269,0.077,0.295,0.324,0.0,0.1,0.133,0.364,0.167,0.0,0.333,0.351,0.0,0.311,0.25,0.343,0.449,0.231,0.245,0.083,0.1,0.4,0.378,0.338,0.1,0.345,0.394,0.1,0.352,0.231,0.371,0.0,0.083,0.308,0.0,0.118,0.282,0.36,0.306,0.376,0.2,0.37,0.286,0.364,0.396,0.256,0.167,0.125,0.063,0.118,0.19,0.241,0.302,0.083,0.344,0.333,0.15,0.263,0.311,0.227,0.321,0.059,0.16,0.2,0.091,0.063,0.268,0.319,0.344,0.171,0.345,0.273,0.242,0.268,0.296,0.326,0.273,0.237,0.282,0.359,0.222,0.241,0.286,0.323,0.19,0.244,0.286,0.122,0.275,0.309,0.301,0.255,0.261,0.245,0.093,0.176,0.159,0.224,0.04,0.205,0.208,0.241,0.344,0.132,0.38,0.218,0.269,0.189,0.195,0.27,0.203],\"xaxis\":\"x\",\"yaxis\":\"y\",\"type\":\"histogram\"}],                        {\"template\":{\"data\":{\"histogram2dcontour\":[{\"type\":\"histogram2dcontour\",\"colorbar\":{\"outlinewidth\":0,\"ticks\":\"\"},\"colorscale\":[[0.0,\"#0d0887\"],[0.1111111111111111,\"#46039f\"],[0.2222222222222222,\"#7201a8\"],[0.3333333333333333,\"#9c179e\"],[0.4444444444444444,\"#bd3786\"],[0.5555555555555556,\"#d8576b\"],[0.6666666666666666,\"#ed7953\"],[0.7777777777777778,\"#fb9f3a\"],[0.8888888888888888,\"#fdca26\"],[1.0,\"#f0f921\"]]}],\"choropleth\":[{\"type\":\"choropleth\",\"colorbar\":{\"outlinewidth\":0,\"ticks\":\"\"}}],\"histogram2d\":[{\"type\":\"histogram2d\",\"colorbar\":{\"outlinewidth\":0,\"ticks\":\"\"},\"colorscale\":[[0.0,\"#0d0887\"],[0.1111111111111111,\"#46039f\"],[0.2222222222222222,\"#7201a8\"],[0.3333333333333333,\"#9c179e\"],[0.4444444444444444,\"#bd3786\"],[0.5555555555555556,\"#d8576b\"],[0.6666666666666666,\"#ed7953\"],[0.7777777777777778,\"#fb9f3a\"],[0.8888888888888888,\"#fdca26\"],[1.0,\"#f0f921\"]]}],\"heatmap\":[{\"type\":\"heatmap\",\"colorbar\":{\"outlinewidth\":0,\"ticks\":\"\"},\"colorscale\":[[0.0,\"#0d0887\"],[0.1111111111111111,\"#46039f\"],[0.2222222222222222,\"#7201a8\"],[0.3333333333333333,\"#9c179e\"],[0.4444444444444444,\"#bd3786\"],[0.5555555555555556,\"#d8576b\"],[0.6666666666666666,\"#ed7953\"],[0.7777777777777778,\"#fb9f3a\"],[0.8888888888888888,\"#fdca26\"],[1.0,\"#f0f921\"]]}],\"heatmapgl\":[{\"type\":\"heatmapgl\",\"colorbar\":{\"outlinewidth\":0,\"ticks\":\"\"},\"colorscale\":[[0.0,\"#0d0887\"],[0.1111111111111111,\"#46039f\"],[0.2222222222222222,\"#7201a8\"],[0.3333333333333333,\"#9c179e\"],[0.4444444444444444,\"#bd3786\"],[0.5555555555555556,\"#d8576b\"],[0.6666666666666666,\"#ed7953\"],[0.7777777777777778,\"#fb9f3a\"],[0.8888888888888888,\"#fdca26\"],[1.0,\"#f0f921\"]]}],\"contourcarpet\":[{\"type\":\"contourcarpet\",\"colorbar\":{\"outlinewidth\":0,\"ticks\":\"\"}}],\"contour\":[{\"type\":\"contour\",\"colorbar\":{\"outlinewidth\":0,\"ticks\":\"\"},\"colorscale\":[[0.0,\"#0d0887\"],[0.1111111111111111,\"#46039f\"],[0.2222222222222222,\"#7201a8\"],[0.3333333333333333,\"#9c179e\"],[0.4444444444444444,\"#bd3786\"],[0.5555555555555556,\"#d8576b\"],[0.6666666666666666,\"#ed7953\"],[0.7777777777777778,\"#fb9f3a\"],[0.8888888888888888,\"#fdca26\"],[1.0,\"#f0f921\"]]}],\"surface\":[{\"type\":\"surface\",\"colorbar\":{\"outlinewidth\":0,\"ticks\":\"\"},\"colorscale\":[[0.0,\"#0d0887\"],[0.1111111111111111,\"#46039f\"],[0.2222222222222222,\"#7201a8\"],[0.3333333333333333,\"#9c179e\"],[0.4444444444444444,\"#bd3786\"],[0.5555555555555556,\"#d8576b\"],[0.6666666666666666,\"#ed7953\"],[0.7777777777777778,\"#fb9f3a\"],[0.8888888888888888,\"#fdca26\"],[1.0,\"#f0f921\"]]}],\"mesh3d\":[{\"type\":\"mesh3d\",\"colorbar\":{\"outlinewidth\":0,\"ticks\":\"\"}}],\"scatter\":[{\"fillpattern\":{\"fillmode\":\"overlay\",\"size\":10,\"solidity\":0.2},\"type\":\"scatter\"}],\"parcoords\":[{\"type\":\"parcoords\",\"line\":{\"colorbar\":{\"outlinewidth\":0,\"ticks\":\"\"}}}],\"scatterpolargl\":[{\"type\":\"scatterpolargl\",\"marker\":{\"colorbar\":{\"outlinewidth\":0,\"ticks\":\"\"}}}],\"bar\":[{\"error_x\":{\"color\":\"#2a3f5f\"},\"error_y\":{\"color\":\"#2a3f5f\"},\"marker\":{\"line\":{\"color\":\"#E5ECF6\",\"width\":0.5},\"pattern\":{\"fillmode\":\"overlay\",\"size\":10,\"solidity\":0.2}},\"type\":\"bar\"}],\"scattergeo\":[{\"type\":\"scattergeo\",\"marker\":{\"colorbar\":{\"outlinewidth\":0,\"ticks\":\"\"}}}],\"scatterpolar\":[{\"type\":\"scatterpolar\",\"marker\":{\"colorbar\":{\"outlinewidth\":0,\"ticks\":\"\"}}}],\"histogram\":[{\"marker\":{\"pattern\":{\"fillmode\":\"overlay\",\"size\":10,\"solidity\":0.2}},\"type\":\"histogram\"}],\"scattergl\":[{\"type\":\"scattergl\",\"marker\":{\"colorbar\":{\"outlinewidth\":0,\"ticks\":\"\"}}}],\"scatter3d\":[{\"type\":\"scatter3d\",\"line\":{\"colorbar\":{\"outlinewidth\":0,\"ticks\":\"\"}},\"marker\":{\"colorbar\":{\"outlinewidth\":0,\"ticks\":\"\"}}}],\"scattermapbox\":[{\"type\":\"scattermapbox\",\"marker\":{\"colorbar\":{\"outlinewidth\":0,\"ticks\":\"\"}}}],\"scatterternary\":[{\"type\":\"scatterternary\",\"marker\":{\"colorbar\":{\"outlinewidth\":0,\"ticks\":\"\"}}}],\"scattercarpet\":[{\"type\":\"scattercarpet\",\"marker\":{\"colorbar\":{\"outlinewidth\":0,\"ticks\":\"\"}}}],\"carpet\":[{\"aaxis\":{\"endlinecolor\":\"#2a3f5f\",\"gridcolor\":\"white\",\"linecolor\":\"white\",\"minorgridcolor\":\"white\",\"startlinecolor\":\"#2a3f5f\"},\"baxis\":{\"endlinecolor\":\"#2a3f5f\",\"gridcolor\":\"white\",\"linecolor\":\"white\",\"minorgridcolor\":\"white\",\"startlinecolor\":\"#2a3f5f\"},\"type\":\"carpet\"}],\"table\":[{\"cells\":{\"fill\":{\"color\":\"#EBF0F8\"},\"line\":{\"color\":\"white\"}},\"header\":{\"fill\":{\"color\":\"#C8D4E3\"},\"line\":{\"color\":\"white\"}},\"type\":\"table\"}],\"barpolar\":[{\"marker\":{\"line\":{\"color\":\"#E5ECF6\",\"width\":0.5},\"pattern\":{\"fillmode\":\"overlay\",\"size\":10,\"solidity\":0.2}},\"type\":\"barpolar\"}],\"pie\":[{\"automargin\":true,\"type\":\"pie\"}]},\"layout\":{\"autotypenumbers\":\"strict\",\"colorway\":[\"#636efa\",\"#EF553B\",\"#00cc96\",\"#ab63fa\",\"#FFA15A\",\"#19d3f3\",\"#FF6692\",\"#B6E880\",\"#FF97FF\",\"#FECB52\"],\"font\":{\"color\":\"#2a3f5f\"},\"hovermode\":\"closest\",\"hoverlabel\":{\"align\":\"left\"},\"paper_bgcolor\":\"white\",\"plot_bgcolor\":\"#E5ECF6\",\"polar\":{\"bgcolor\":\"#E5ECF6\",\"angularaxis\":{\"gridcolor\":\"white\",\"linecolor\":\"white\",\"ticks\":\"\"},\"radialaxis\":{\"gridcolor\":\"white\",\"linecolor\":\"white\",\"ticks\":\"\"}},\"ternary\":{\"bgcolor\":\"#E5ECF6\",\"aaxis\":{\"gridcolor\":\"white\",\"linecolor\":\"white\",\"ticks\":\"\"},\"baxis\":{\"gridcolor\":\"white\",\"linecolor\":\"white\",\"ticks\":\"\"},\"caxis\":{\"gridcolor\":\"white\",\"linecolor\":\"white\",\"ticks\":\"\"}},\"coloraxis\":{\"colorbar\":{\"outlinewidth\":0,\"ticks\":\"\"}},\"colorscale\":{\"sequential\":[[0.0,\"#0d0887\"],[0.1111111111111111,\"#46039f\"],[0.2222222222222222,\"#7201a8\"],[0.3333333333333333,\"#9c179e\"],[0.4444444444444444,\"#bd3786\"],[0.5555555555555556,\"#d8576b\"],[0.6666666666666666,\"#ed7953\"],[0.7777777777777778,\"#fb9f3a\"],[0.8888888888888888,\"#fdca26\"],[1.0,\"#f0f921\"]],\"sequentialminus\":[[0.0,\"#0d0887\"],[0.1111111111111111,\"#46039f\"],[0.2222222222222222,\"#7201a8\"],[0.3333333333333333,\"#9c179e\"],[0.4444444444444444,\"#bd3786\"],[0.5555555555555556,\"#d8576b\"],[0.6666666666666666,\"#ed7953\"],[0.7777777777777778,\"#fb9f3a\"],[0.8888888888888888,\"#fdca26\"],[1.0,\"#f0f921\"]],\"diverging\":[[0,\"#8e0152\"],[0.1,\"#c51b7d\"],[0.2,\"#de77ae\"],[0.3,\"#f1b6da\"],[0.4,\"#fde0ef\"],[0.5,\"#f7f7f7\"],[0.6,\"#e6f5d0\"],[0.7,\"#b8e186\"],[0.8,\"#7fbc41\"],[0.9,\"#4d9221\"],[1,\"#276419\"]]},\"xaxis\":{\"gridcolor\":\"white\",\"linecolor\":\"white\",\"ticks\":\"\",\"title\":{\"standoff\":15},\"zerolinecolor\":\"white\",\"automargin\":true,\"zerolinewidth\":2},\"yaxis\":{\"gridcolor\":\"white\",\"linecolor\":\"white\",\"ticks\":\"\",\"title\":{\"standoff\":15},\"zerolinecolor\":\"white\",\"automargin\":true,\"zerolinewidth\":2},\"scene\":{\"xaxis\":{\"backgroundcolor\":\"#E5ECF6\",\"gridcolor\":\"white\",\"linecolor\":\"white\",\"showbackground\":true,\"ticks\":\"\",\"zerolinecolor\":\"white\",\"gridwidth\":2},\"yaxis\":{\"backgroundcolor\":\"#E5ECF6\",\"gridcolor\":\"white\",\"linecolor\":\"white\",\"showbackground\":true,\"ticks\":\"\",\"zerolinecolor\":\"white\",\"gridwidth\":2},\"zaxis\":{\"backgroundcolor\":\"#E5ECF6\",\"gridcolor\":\"white\",\"linecolor\":\"white\",\"showbackground\":true,\"ticks\":\"\",\"zerolinecolor\":\"white\",\"gridwidth\":2}},\"shapedefaults\":{\"line\":{\"color\":\"#2a3f5f\"}},\"annotationdefaults\":{\"arrowcolor\":\"#2a3f5f\",\"arrowhead\":0,\"arrowwidth\":1},\"geo\":{\"bgcolor\":\"white\",\"landcolor\":\"#E5ECF6\",\"subunitcolor\":\"white\",\"showland\":true,\"showlakes\":true,\"lakecolor\":\"white\"},\"title\":{\"x\":0.05},\"mapbox\":{\"style\":\"light\"}}},\"xaxis\":{\"anchor\":\"y\",\"domain\":[0.0,1.0],\"title\":{\"text\":\"SLG\"}},\"yaxis\":{\"anchor\":\"x\",\"domain\":[0.0,1.0],\"title\":{\"text\":\"count\"}},\"legend\":{\"tracegroupgap\":0},\"title\":{\"text\":\"SLG Distribution\"},\"barmode\":\"relative\"},                        {\"responsive\": true}                    ).then(function(){\n",
       "                            \n",
       "var gd = document.getElementById('5a08b17b-c4e6-40de-ba19-7767e26af222');\n",
       "var x = new MutationObserver(function (mutations, observer) {{\n",
       "        var display = window.getComputedStyle(gd).display;\n",
       "        if (!display || display === 'none') {{\n",
       "            console.log([gd, 'removed!']);\n",
       "            Plotly.purge(gd);\n",
       "            observer.disconnect();\n",
       "        }}\n",
       "}});\n",
       "\n",
       "// Listen for the removal of the full notebook cells\n",
       "var notebookContainer = gd.closest('#notebook-container');\n",
       "if (notebookContainer) {{\n",
       "    x.observe(notebookContainer, {childList: true});\n",
       "}}\n",
       "\n",
       "// Listen for the clearing of the current output cell\n",
       "var outputEl = gd.closest('.output');\n",
       "if (outputEl) {{\n",
       "    x.observe(outputEl, {childList: true});\n",
       "}}\n",
       "\n",
       "                        })                };                });            </script>        </div>"
      ]
     },
     "metadata": {},
     "output_type": "display_data"
    }
   ],
   "source": [
    "fig = px.histogram(merged_stats, x='SLG', nbins=20, title='SLG Distribution', labels={'SLG': 'SLG'})\n",
    "fig.show()"
   ]
  },
  {
   "cell_type": "markdown",
   "id": "f5dfa6b3-34aa-4eda-9268-2890a4a62a4b",
   "metadata": {},
   "source": [
    "Histogram of AVG"
   ]
  },
  {
   "cell_type": "code",
   "execution_count": 288,
   "id": "24198bdb-3e5c-4440-a316-88bda41eb30b",
   "metadata": {},
   "outputs": [
    {
     "data": {
      "application/vnd.plotly.v1+json": {
       "config": {
        "plotlyServerURL": "https://plot.ly"
       },
       "data": [
        {
         "alignmentgroup": "True",
         "bingroup": "x",
         "hovertemplate": "AVG=%{x}<br>count=%{y}<extra></extra>",
         "legendgroup": "",
         "marker": {
          "color": "#636efa",
          "pattern": {
           "shape": ""
          }
         },
         "name": "",
         "nbinsx": 20,
         "offsetgroup": "",
         "orientation": "v",
         "showlegend": false,
         "type": "histogram",
         "x": [
          0.372,
          0.274,
          0.34,
          0.317,
          0.353,
          0.257,
          0.358,
          0.292,
          0.321,
          0.333,
          0.289,
          0.33,
          0.292,
          0.29,
          0.326,
          0.307,
          0.342,
          0.33,
          0.31,
          0.39,
          0.439,
          0.341,
          0.297,
          0.311,
          0.33,
          0.302,
          0.298,
          0.483,
          0.266,
          0.306,
          0.254,
          0.255,
          0.262,
          0.238,
          0.288,
          0.323,
          0.319,
          0.245,
          0.237,
          0.338,
          0.296,
          0.39,
          0.298,
          0.283,
          0.258,
          0.238,
          0.281,
          0.257,
          0.298,
          0.231,
          0.268,
          0.286,
          0.278,
          0.221,
          0.226,
          0.297,
          0.259,
          0.304,
          0.255,
          0.396,
          0.287,
          0.292,
          0.25,
          0.269,
          0.29,
          0.302,
          0.315,
          0.298,
          0.242,
          0.264,
          0.282,
          0.217,
          0.27,
          0.258,
          0.259,
          0.222,
          0.24,
          0.25,
          0.235,
          0.255,
          0.287,
          0.287,
          0.239,
          0.361,
          0.317,
          0.308,
          0.241,
          0.256,
          0.244,
          0.341,
          0.333,
          0.213,
          0.275,
          0.278,
          0.267,
          0.256,
          0.342,
          0.25,
          0.217,
          0.305,
          0.286,
          0.271,
          0.263,
          0.312,
          0.265,
          0.256,
          0.25,
          0.242,
          0.237,
          0.259,
          0.24,
          0.226,
          0.277,
          0.261,
          0.29,
          0.255,
          0.224,
          0.302,
          0.2,
          0.276,
          0.24,
          0.239,
          0.31,
          0.313,
          0.348,
          0.35,
          0.296,
          0.278,
          0.25,
          0.298,
          0.263,
          0.227,
          0.242,
          0.323,
          0.245,
          0.226,
          0.232,
          0.197,
          0.244,
          0.25,
          0.357,
          0.5,
          0.296,
          0.252,
          0.245,
          0.264,
          0.24,
          0.36,
          0.295,
          0.217,
          0.233,
          0.241,
          0.333,
          0.255,
          0.246,
          0.2,
          0.24,
          0.242,
          0.409,
          0.282,
          0.28,
          0.667,
          0.5,
          0.194,
          0.545,
          0.235,
          0.244,
          0.333,
          0.25,
          0.25,
          0.279,
          0.304,
          0.27,
          0.265,
          0.271,
          0.308,
          0.264,
          0.261,
          0.333,
          0.208,
          0.245,
          0.27,
          0.313,
          0.176,
          0.274,
          0.267,
          0.3,
          0.302,
          0.265,
          0.231,
          0.268,
          0.158,
          0.289,
          0.267,
          0.26,
          0.202,
          0.227,
          0.5,
          0.225,
          0.302,
          0.263,
          0.302,
          0.273,
          0.275,
          0.273,
          0.278,
          0.276,
          0.219,
          0.273,
          0.203,
          0.261,
          0.228,
          0.207,
          0.217,
          0.5,
          0.156,
          0.241,
          0.261,
          0.202,
          0.214,
          0.258,
          0.233,
          0.182,
          0.237,
          0.279,
          0.239,
          0.279,
          0.154,
          0.191,
          0.268,
          0.234,
          0.25,
          0.25,
          0.177,
          0.195,
          0.256,
          0.211,
          0.222,
          0.25,
          0.253,
          0.5,
          0.264,
          0.29,
          0.286,
          0.25,
          0.287,
          0.333,
          0.23,
          0.286,
          0.222,
          0.243,
          0.286,
          0.172,
          0.176,
          0,
          0.158,
          0.206,
          0.333,
          0.254,
          0.231,
          0.261,
          0.214,
          0.176,
          0.3,
          0.287,
          0.259,
          0.294,
          0.222,
          0.265,
          0.263,
          0.267,
          0.257,
          0.23,
          0.179,
          0.25,
          0.077,
          0.208,
          0.368,
          0.26,
          0,
          0.273,
          0.198,
          0.222,
          0,
          0.214,
          0,
          0.143,
          0.271,
          0.27,
          0,
          0.25,
          0.196,
          0,
          0,
          0.25,
          0.216,
          0.194,
          0.194,
          0.125,
          0.111,
          0.208,
          0.2,
          0.25,
          0.238,
          0.2,
          0.209,
          0.111,
          0.172,
          0.222,
          0.25,
          0.25,
          0.25,
          0,
          0.219,
          0.214,
          0.25,
          0.241,
          0.231,
          0.204,
          0.15,
          0.146,
          0.235,
          0.19,
          0.143,
          0.204,
          0.245,
          0.25,
          0.286,
          0.083,
          0.227,
          0.207,
          0.221,
          0.179,
          0.136,
          0.261,
          0.2,
          0.213,
          0.247,
          0.25,
          0.167,
          0.254,
          0.083,
          0.206,
          0.231,
          0.25,
          0.234,
          0,
          0.15,
          0.071,
          0.208,
          0.211,
          0.159,
          0.283,
          0.192,
          0.077,
          0.246,
          0.294,
          0,
          0.1,
          0.133,
          0.242,
          0.167,
          0,
          0.205,
          0.208,
          0,
          0.2,
          0.25,
          0.239,
          0.224,
          0.154,
          0.202,
          0.083,
          0.1,
          0.211,
          0.222,
          0.225,
          0.1,
          0.25,
          0.212,
          0.1,
          0.205,
          0.231,
          0.247,
          0,
          0.083,
          0.154,
          0,
          0.118,
          0.179,
          0.16,
          0.231,
          0.259,
          0.2,
          0.173,
          0.195,
          0.28,
          0.151,
          0.186,
          0.1,
          0.125,
          0.063,
          0.118,
          0.143,
          0.155,
          0.209,
          0.083,
          0.23,
          0.218,
          0.1,
          0.237,
          0.197,
          0.091,
          0.218,
          0.059,
          0.16,
          0.171,
          0.091,
          0.063,
          0.214,
          0.298,
          0.125,
          0.122,
          0.155,
          0.242,
          0.182,
          0.161,
          0.21,
          0.18,
          0.164,
          0.169,
          0.211,
          0.266,
          0.111,
          0.155,
          0.214,
          0.215,
          0.175,
          0.111,
          0.19,
          0.122,
          0.118,
          0.2,
          0.137,
          0.216,
          0.217,
          0.151,
          0.093,
          0.118,
          0.159,
          0.184,
          0.04,
          0.157,
          0.132,
          0.217,
          0.219,
          0.113,
          0.207,
          0.091,
          0.231,
          0.176,
          0.134,
          0.159,
          0.136
         ],
         "xaxis": "x",
         "yaxis": "y"
        }
       ],
       "layout": {
        "autosize": true,
        "barmode": "relative",
        "legend": {
         "tracegroupgap": 0
        },
        "template": {
         "data": {
          "bar": [
           {
            "error_x": {
             "color": "#2a3f5f"
            },
            "error_y": {
             "color": "#2a3f5f"
            },
            "marker": {
             "line": {
              "color": "#E5ECF6",
              "width": 0.5
             },
             "pattern": {
              "fillmode": "overlay",
              "size": 10,
              "solidity": 0.2
             }
            },
            "type": "bar"
           }
          ],
          "barpolar": [
           {
            "marker": {
             "line": {
              "color": "#E5ECF6",
              "width": 0.5
             },
             "pattern": {
              "fillmode": "overlay",
              "size": 10,
              "solidity": 0.2
             }
            },
            "type": "barpolar"
           }
          ],
          "carpet": [
           {
            "aaxis": {
             "endlinecolor": "#2a3f5f",
             "gridcolor": "white",
             "linecolor": "white",
             "minorgridcolor": "white",
             "startlinecolor": "#2a3f5f"
            },
            "baxis": {
             "endlinecolor": "#2a3f5f",
             "gridcolor": "white",
             "linecolor": "white",
             "minorgridcolor": "white",
             "startlinecolor": "#2a3f5f"
            },
            "type": "carpet"
           }
          ],
          "choropleth": [
           {
            "colorbar": {
             "outlinewidth": 0,
             "ticks": ""
            },
            "type": "choropleth"
           }
          ],
          "contour": [
           {
            "colorbar": {
             "outlinewidth": 0,
             "ticks": ""
            },
            "colorscale": [
             [
              0,
              "#0d0887"
             ],
             [
              0.1111111111111111,
              "#46039f"
             ],
             [
              0.2222222222222222,
              "#7201a8"
             ],
             [
              0.3333333333333333,
              "#9c179e"
             ],
             [
              0.4444444444444444,
              "#bd3786"
             ],
             [
              0.5555555555555556,
              "#d8576b"
             ],
             [
              0.6666666666666666,
              "#ed7953"
             ],
             [
              0.7777777777777778,
              "#fb9f3a"
             ],
             [
              0.8888888888888888,
              "#fdca26"
             ],
             [
              1,
              "#f0f921"
             ]
            ],
            "type": "contour"
           }
          ],
          "contourcarpet": [
           {
            "colorbar": {
             "outlinewidth": 0,
             "ticks": ""
            },
            "type": "contourcarpet"
           }
          ],
          "heatmap": [
           {
            "colorbar": {
             "outlinewidth": 0,
             "ticks": ""
            },
            "colorscale": [
             [
              0,
              "#0d0887"
             ],
             [
              0.1111111111111111,
              "#46039f"
             ],
             [
              0.2222222222222222,
              "#7201a8"
             ],
             [
              0.3333333333333333,
              "#9c179e"
             ],
             [
              0.4444444444444444,
              "#bd3786"
             ],
             [
              0.5555555555555556,
              "#d8576b"
             ],
             [
              0.6666666666666666,
              "#ed7953"
             ],
             [
              0.7777777777777778,
              "#fb9f3a"
             ],
             [
              0.8888888888888888,
              "#fdca26"
             ],
             [
              1,
              "#f0f921"
             ]
            ],
            "type": "heatmap"
           }
          ],
          "heatmapgl": [
           {
            "colorbar": {
             "outlinewidth": 0,
             "ticks": ""
            },
            "colorscale": [
             [
              0,
              "#0d0887"
             ],
             [
              0.1111111111111111,
              "#46039f"
             ],
             [
              0.2222222222222222,
              "#7201a8"
             ],
             [
              0.3333333333333333,
              "#9c179e"
             ],
             [
              0.4444444444444444,
              "#bd3786"
             ],
             [
              0.5555555555555556,
              "#d8576b"
             ],
             [
              0.6666666666666666,
              "#ed7953"
             ],
             [
              0.7777777777777778,
              "#fb9f3a"
             ],
             [
              0.8888888888888888,
              "#fdca26"
             ],
             [
              1,
              "#f0f921"
             ]
            ],
            "type": "heatmapgl"
           }
          ],
          "histogram": [
           {
            "marker": {
             "pattern": {
              "fillmode": "overlay",
              "size": 10,
              "solidity": 0.2
             }
            },
            "type": "histogram"
           }
          ],
          "histogram2d": [
           {
            "colorbar": {
             "outlinewidth": 0,
             "ticks": ""
            },
            "colorscale": [
             [
              0,
              "#0d0887"
             ],
             [
              0.1111111111111111,
              "#46039f"
             ],
             [
              0.2222222222222222,
              "#7201a8"
             ],
             [
              0.3333333333333333,
              "#9c179e"
             ],
             [
              0.4444444444444444,
              "#bd3786"
             ],
             [
              0.5555555555555556,
              "#d8576b"
             ],
             [
              0.6666666666666666,
              "#ed7953"
             ],
             [
              0.7777777777777778,
              "#fb9f3a"
             ],
             [
              0.8888888888888888,
              "#fdca26"
             ],
             [
              1,
              "#f0f921"
             ]
            ],
            "type": "histogram2d"
           }
          ],
          "histogram2dcontour": [
           {
            "colorbar": {
             "outlinewidth": 0,
             "ticks": ""
            },
            "colorscale": [
             [
              0,
              "#0d0887"
             ],
             [
              0.1111111111111111,
              "#46039f"
             ],
             [
              0.2222222222222222,
              "#7201a8"
             ],
             [
              0.3333333333333333,
              "#9c179e"
             ],
             [
              0.4444444444444444,
              "#bd3786"
             ],
             [
              0.5555555555555556,
              "#d8576b"
             ],
             [
              0.6666666666666666,
              "#ed7953"
             ],
             [
              0.7777777777777778,
              "#fb9f3a"
             ],
             [
              0.8888888888888888,
              "#fdca26"
             ],
             [
              1,
              "#f0f921"
             ]
            ],
            "type": "histogram2dcontour"
           }
          ],
          "mesh3d": [
           {
            "colorbar": {
             "outlinewidth": 0,
             "ticks": ""
            },
            "type": "mesh3d"
           }
          ],
          "parcoords": [
           {
            "line": {
             "colorbar": {
              "outlinewidth": 0,
              "ticks": ""
             }
            },
            "type": "parcoords"
           }
          ],
          "pie": [
           {
            "automargin": true,
            "type": "pie"
           }
          ],
          "scatter": [
           {
            "fillpattern": {
             "fillmode": "overlay",
             "size": 10,
             "solidity": 0.2
            },
            "type": "scatter"
           }
          ],
          "scatter3d": [
           {
            "line": {
             "colorbar": {
              "outlinewidth": 0,
              "ticks": ""
             }
            },
            "marker": {
             "colorbar": {
              "outlinewidth": 0,
              "ticks": ""
             }
            },
            "type": "scatter3d"
           }
          ],
          "scattercarpet": [
           {
            "marker": {
             "colorbar": {
              "outlinewidth": 0,
              "ticks": ""
             }
            },
            "type": "scattercarpet"
           }
          ],
          "scattergeo": [
           {
            "marker": {
             "colorbar": {
              "outlinewidth": 0,
              "ticks": ""
             }
            },
            "type": "scattergeo"
           }
          ],
          "scattergl": [
           {
            "marker": {
             "colorbar": {
              "outlinewidth": 0,
              "ticks": ""
             }
            },
            "type": "scattergl"
           }
          ],
          "scattermapbox": [
           {
            "marker": {
             "colorbar": {
              "outlinewidth": 0,
              "ticks": ""
             }
            },
            "type": "scattermapbox"
           }
          ],
          "scatterpolar": [
           {
            "marker": {
             "colorbar": {
              "outlinewidth": 0,
              "ticks": ""
             }
            },
            "type": "scatterpolar"
           }
          ],
          "scatterpolargl": [
           {
            "marker": {
             "colorbar": {
              "outlinewidth": 0,
              "ticks": ""
             }
            },
            "type": "scatterpolargl"
           }
          ],
          "scatterternary": [
           {
            "marker": {
             "colorbar": {
              "outlinewidth": 0,
              "ticks": ""
             }
            },
            "type": "scatterternary"
           }
          ],
          "surface": [
           {
            "colorbar": {
             "outlinewidth": 0,
             "ticks": ""
            },
            "colorscale": [
             [
              0,
              "#0d0887"
             ],
             [
              0.1111111111111111,
              "#46039f"
             ],
             [
              0.2222222222222222,
              "#7201a8"
             ],
             [
              0.3333333333333333,
              "#9c179e"
             ],
             [
              0.4444444444444444,
              "#bd3786"
             ],
             [
              0.5555555555555556,
              "#d8576b"
             ],
             [
              0.6666666666666666,
              "#ed7953"
             ],
             [
              0.7777777777777778,
              "#fb9f3a"
             ],
             [
              0.8888888888888888,
              "#fdca26"
             ],
             [
              1,
              "#f0f921"
             ]
            ],
            "type": "surface"
           }
          ],
          "table": [
           {
            "cells": {
             "fill": {
              "color": "#EBF0F8"
             },
             "line": {
              "color": "white"
             }
            },
            "header": {
             "fill": {
              "color": "#C8D4E3"
             },
             "line": {
              "color": "white"
             }
            },
            "type": "table"
           }
          ]
         },
         "layout": {
          "annotationdefaults": {
           "arrowcolor": "#2a3f5f",
           "arrowhead": 0,
           "arrowwidth": 1
          },
          "autotypenumbers": "strict",
          "coloraxis": {
           "colorbar": {
            "outlinewidth": 0,
            "ticks": ""
           }
          },
          "colorscale": {
           "diverging": [
            [
             0,
             "#8e0152"
            ],
            [
             0.1,
             "#c51b7d"
            ],
            [
             0.2,
             "#de77ae"
            ],
            [
             0.3,
             "#f1b6da"
            ],
            [
             0.4,
             "#fde0ef"
            ],
            [
             0.5,
             "#f7f7f7"
            ],
            [
             0.6,
             "#e6f5d0"
            ],
            [
             0.7,
             "#b8e186"
            ],
            [
             0.8,
             "#7fbc41"
            ],
            [
             0.9,
             "#4d9221"
            ],
            [
             1,
             "#276419"
            ]
           ],
           "sequential": [
            [
             0,
             "#0d0887"
            ],
            [
             0.1111111111111111,
             "#46039f"
            ],
            [
             0.2222222222222222,
             "#7201a8"
            ],
            [
             0.3333333333333333,
             "#9c179e"
            ],
            [
             0.4444444444444444,
             "#bd3786"
            ],
            [
             0.5555555555555556,
             "#d8576b"
            ],
            [
             0.6666666666666666,
             "#ed7953"
            ],
            [
             0.7777777777777778,
             "#fb9f3a"
            ],
            [
             0.8888888888888888,
             "#fdca26"
            ],
            [
             1,
             "#f0f921"
            ]
           ],
           "sequentialminus": [
            [
             0,
             "#0d0887"
            ],
            [
             0.1111111111111111,
             "#46039f"
            ],
            [
             0.2222222222222222,
             "#7201a8"
            ],
            [
             0.3333333333333333,
             "#9c179e"
            ],
            [
             0.4444444444444444,
             "#bd3786"
            ],
            [
             0.5555555555555556,
             "#d8576b"
            ],
            [
             0.6666666666666666,
             "#ed7953"
            ],
            [
             0.7777777777777778,
             "#fb9f3a"
            ],
            [
             0.8888888888888888,
             "#fdca26"
            ],
            [
             1,
             "#f0f921"
            ]
           ]
          },
          "colorway": [
           "#636efa",
           "#EF553B",
           "#00cc96",
           "#ab63fa",
           "#FFA15A",
           "#19d3f3",
           "#FF6692",
           "#B6E880",
           "#FF97FF",
           "#FECB52"
          ],
          "font": {
           "color": "#2a3f5f"
          },
          "geo": {
           "bgcolor": "white",
           "lakecolor": "white",
           "landcolor": "#E5ECF6",
           "showlakes": true,
           "showland": true,
           "subunitcolor": "white"
          },
          "hoverlabel": {
           "align": "left"
          },
          "hovermode": "closest",
          "mapbox": {
           "style": "light"
          },
          "paper_bgcolor": "white",
          "plot_bgcolor": "#E5ECF6",
          "polar": {
           "angularaxis": {
            "gridcolor": "white",
            "linecolor": "white",
            "ticks": ""
           },
           "bgcolor": "#E5ECF6",
           "radialaxis": {
            "gridcolor": "white",
            "linecolor": "white",
            "ticks": ""
           }
          },
          "scene": {
           "xaxis": {
            "backgroundcolor": "#E5ECF6",
            "gridcolor": "white",
            "gridwidth": 2,
            "linecolor": "white",
            "showbackground": true,
            "ticks": "",
            "zerolinecolor": "white"
           },
           "yaxis": {
            "backgroundcolor": "#E5ECF6",
            "gridcolor": "white",
            "gridwidth": 2,
            "linecolor": "white",
            "showbackground": true,
            "ticks": "",
            "zerolinecolor": "white"
           },
           "zaxis": {
            "backgroundcolor": "#E5ECF6",
            "gridcolor": "white",
            "gridwidth": 2,
            "linecolor": "white",
            "showbackground": true,
            "ticks": "",
            "zerolinecolor": "white"
           }
          },
          "shapedefaults": {
           "line": {
            "color": "#2a3f5f"
           }
          },
          "ternary": {
           "aaxis": {
            "gridcolor": "white",
            "linecolor": "white",
            "ticks": ""
           },
           "baxis": {
            "gridcolor": "white",
            "linecolor": "white",
            "ticks": ""
           },
           "bgcolor": "#E5ECF6",
           "caxis": {
            "gridcolor": "white",
            "linecolor": "white",
            "ticks": ""
           }
          },
          "title": {
           "x": 0.05
          },
          "xaxis": {
           "automargin": true,
           "gridcolor": "white",
           "linecolor": "white",
           "ticks": "",
           "title": {
            "standoff": 15
           },
           "zerolinecolor": "white",
           "zerolinewidth": 2
          },
          "yaxis": {
           "automargin": true,
           "gridcolor": "white",
           "linecolor": "white",
           "ticks": "",
           "title": {
            "standoff": 15
           },
           "zerolinecolor": "white",
           "zerolinewidth": 2
          }
         }
        },
        "title": {
         "text": "AVG Distribution"
        },
        "xaxis": {
         "anchor": "y",
         "autorange": true,
         "domain": [
          0,
          1
         ],
         "range": [
          -0.024999999999999967,
          0.675
         ],
         "title": {
          "text": "AVG"
         },
         "type": "linear"
        },
        "yaxis": {
         "anchor": "x",
         "autorange": true,
         "domain": [
          0,
          1
         ],
         "range": [
          0,
          169.4736842105263
         ],
         "title": {
          "text": "count"
         }
        }
       }
      },
      "image/png": "[encoded data removed]",
      "text/html": [
       "<div>                            <div id=\"c1f2d491-350f-4bef-bf9b-189d954450e7\" class=\"plotly-graph-div\" style=\"height:525px; width:100%;\"></div>            <script type=\"text/javascript\">                require([\"plotly\"], function(Plotly) {                    window.PLOTLYENV=window.PLOTLYENV || {};                                    if (document.getElementById(\"c1f2d491-350f-4bef-bf9b-189d954450e7\")) {                    Plotly.newPlot(                        \"c1f2d491-350f-4bef-bf9b-189d954450e7\",                        [{\"alignmentgroup\":\"True\",\"bingroup\":\"x\",\"hovertemplate\":\"AVG=%{x}<br>count=%{y}<extra></extra>\",\"legendgroup\":\"\",\"marker\":{\"color\":\"#636efa\",\"pattern\":{\"shape\":\"\"}},\"name\":\"\",\"nbinsx\":20,\"offsetgroup\":\"\",\"orientation\":\"v\",\"showlegend\":false,\"x\":[0.372,0.274,0.34,0.317,0.353,0.257,0.358,0.292,0.321,0.333,0.289,0.33,0.292,0.29,0.326,0.307,0.342,0.33,0.31,0.39,0.439,0.341,0.297,0.311,0.33,0.302,0.298,0.483,0.266,0.306,0.254,0.255,0.262,0.238,0.288,0.323,0.319,0.245,0.237,0.338,0.296,0.39,0.298,0.283,0.258,0.238,0.281,0.257,0.298,0.231,0.268,0.286,0.278,0.221,0.226,0.297,0.259,0.304,0.255,0.396,0.287,0.292,0.25,0.269,0.29,0.302,0.315,0.298,0.242,0.264,0.282,0.217,0.27,0.258,0.259,0.222,0.24,0.25,0.235,0.255,0.287,0.287,0.239,0.361,0.317,0.308,0.241,0.256,0.244,0.341,0.333,0.213,0.275,0.278,0.267,0.256,0.342,0.25,0.217,0.305,0.286,0.271,0.263,0.312,0.265,0.256,0.25,0.242,0.237,0.259,0.24,0.226,0.277,0.261,0.29,0.255,0.224,0.302,0.2,0.276,0.24,0.239,0.31,0.313,0.348,0.35,0.296,0.278,0.25,0.298,0.263,0.227,0.242,0.323,0.245,0.226,0.232,0.197,0.244,0.25,0.357,0.5,0.296,0.252,0.245,0.264,0.24,0.36,0.295,0.217,0.233,0.241,0.333,0.255,0.246,0.2,0.24,0.242,0.409,0.282,0.28,0.667,0.5,0.194,0.545,0.235,0.244,0.333,0.25,0.25,0.279,0.304,0.27,0.265,0.271,0.308,0.264,0.261,0.333,0.208,0.245,0.27,0.313,0.176,0.274,0.267,0.3,0.302,0.265,0.231,0.268,0.158,0.289,0.267,0.26,0.202,0.227,0.5,0.225,0.302,0.263,0.302,0.273,0.275,0.273,0.278,0.276,0.219,0.273,0.203,0.261,0.228,0.207,0.217,0.5,0.156,0.241,0.261,0.202,0.214,0.258,0.233,0.182,0.237,0.279,0.239,0.279,0.154,0.191,0.268,0.234,0.25,0.25,0.177,0.195,0.256,0.211,0.222,0.25,0.253,0.5,0.264,0.29,0.286,0.25,0.287,0.333,0.23,0.286,0.222,0.243,0.286,0.172,0.176,0.0,0.158,0.206,0.333,0.254,0.231,0.261,0.214,0.176,0.3,0.287,0.259,0.294,0.222,0.265,0.263,0.267,0.257,0.23,0.179,0.25,0.077,0.208,0.368,0.26,0.0,0.273,0.198,0.222,0.0,0.214,0.0,0.143,0.271,0.27,0.0,0.25,0.196,0.0,0.0,0.25,0.216,0.194,0.194,0.125,0.111,0.208,0.2,0.25,0.238,0.2,0.209,0.111,0.172,0.222,0.25,0.25,0.25,0.0,0.219,0.214,0.25,0.241,0.231,0.204,0.15,0.146,0.235,0.19,0.143,0.204,0.245,0.25,0.286,0.083,0.227,0.207,0.221,0.179,0.136,0.261,0.2,0.213,0.247,0.25,0.167,0.254,0.083,0.206,0.231,0.25,0.234,0.0,0.15,0.071,0.208,0.211,0.159,0.283,0.192,0.077,0.246,0.294,0.0,0.1,0.133,0.242,0.167,0.0,0.205,0.208,0.0,0.2,0.25,0.239,0.224,0.154,0.202,0.083,0.1,0.211,0.222,0.225,0.1,0.25,0.212,0.1,0.205,0.231,0.247,0.0,0.083,0.154,0.0,0.118,0.179,0.16,0.231,0.259,0.2,0.173,0.195,0.28,0.151,0.186,0.1,0.125,0.063,0.118,0.143,0.155,0.209,0.083,0.23,0.218,0.1,0.237,0.197,0.091,0.218,0.059,0.16,0.171,0.091,0.063,0.214,0.298,0.125,0.122,0.155,0.242,0.182,0.161,0.21,0.18,0.164,0.169,0.211,0.266,0.111,0.155,0.214,0.215,0.175,0.111,0.19,0.122,0.118,0.2,0.137,0.216,0.217,0.151,0.093,0.118,0.159,0.184,0.04,0.157,0.132,0.217,0.219,0.113,0.207,0.091,0.231,0.176,0.134,0.159,0.136],\"xaxis\":\"x\",\"yaxis\":\"y\",\"type\":\"histogram\"}],                        {\"template\":{\"data\":{\"histogram2dcontour\":[{\"type\":\"histogram2dcontour\",\"colorbar\":{\"outlinewidth\":0,\"ticks\":\"\"},\"colorscale\":[[0.0,\"#0d0887\"],[0.1111111111111111,\"#46039f\"],[0.2222222222222222,\"#7201a8\"],[0.3333333333333333,\"#9c179e\"],[0.4444444444444444,\"#bd3786\"],[0.5555555555555556,\"#d8576b\"],[0.6666666666666666,\"#ed7953\"],[0.7777777777777778,\"#fb9f3a\"],[0.8888888888888888,\"#fdca26\"],[1.0,\"#f0f921\"]]}],\"choropleth\":[{\"type\":\"choropleth\",\"colorbar\":{\"outlinewidth\":0,\"ticks\":\"\"}}],\"histogram2d\":[{\"type\":\"histogram2d\",\"colorbar\":{\"outlinewidth\":0,\"ticks\":\"\"},\"colorscale\":[[0.0,\"#0d0887\"],[0.1111111111111111,\"#46039f\"],[0.2222222222222222,\"#7201a8\"],[0.3333333333333333,\"#9c179e\"],[0.4444444444444444,\"#bd3786\"],[0.5555555555555556,\"#d8576b\"],[0.6666666666666666,\"#ed7953\"],[0.7777777777777778,\"#fb9f3a\"],[0.8888888888888888,\"#fdca26\"],[1.0,\"#f0f921\"]]}],\"heatmap\":[{\"type\":\"heatmap\",\"colorbar\":{\"outlinewidth\":0,\"ticks\":\"\"},\"colorscale\":[[0.0,\"#0d0887\"],[0.1111111111111111,\"#46039f\"],[0.2222222222222222,\"#7201a8\"],[0.3333333333333333,\"#9c179e\"],[0.4444444444444444,\"#bd3786\"],[0.5555555555555556,\"#d8576b\"],[0.6666666666666666,\"#ed7953\"],[0.7777777777777778,\"#fb9f3a\"],[0.8888888888888888,\"#fdca26\"],[1.0,\"#f0f921\"]]}],\"heatmapgl\":[{\"type\":\"heatmapgl\",\"colorbar\":{\"outlinewidth\":0,\"ticks\":\"\"},\"colorscale\":[[0.0,\"#0d0887\"],[0.1111111111111111,\"#46039f\"],[0.2222222222222222,\"#7201a8\"],[0.3333333333333333,\"#9c179e\"],[0.4444444444444444,\"#bd3786\"],[0.5555555555555556,\"#d8576b\"],[0.6666666666666666,\"#ed7953\"],[0.7777777777777778,\"#fb9f3a\"],[0.8888888888888888,\"#fdca26\"],[1.0,\"#f0f921\"]]}],\"contourcarpet\":[{\"type\":\"contourcarpet\",\"colorbar\":{\"outlinewidth\":0,\"ticks\":\"\"}}],\"contour\":[{\"type\":\"contour\",\"colorbar\":{\"outlinewidth\":0,\"ticks\":\"\"},\"colorscale\":[[0.0,\"#0d0887\"],[0.1111111111111111,\"#46039f\"],[0.2222222222222222,\"#7201a8\"],[0.3333333333333333,\"#9c179e\"],[0.4444444444444444,\"#bd3786\"],[0.5555555555555556,\"#d8576b\"],[0.6666666666666666,\"#ed7953\"],[0.7777777777777778,\"#fb9f3a\"],[0.8888888888888888,\"#fdca26\"],[1.0,\"#f0f921\"]]}],\"surface\":[{\"type\":\"surface\",\"colorbar\":{\"outlinewidth\":0,\"ticks\":\"\"},\"colorscale\":[[0.0,\"#0d0887\"],[0.1111111111111111,\"#46039f\"],[0.2222222222222222,\"#7201a8\"],[0.3333333333333333,\"#9c179e\"],[0.4444444444444444,\"#bd3786\"],[0.5555555555555556,\"#d8576b\"],[0.6666666666666666,\"#ed7953\"],[0.7777777777777778,\"#fb9f3a\"],[0.8888888888888888,\"#fdca26\"],[1.0,\"#f0f921\"]]}],\"mesh3d\":[{\"type\":\"mesh3d\",\"colorbar\":{\"outlinewidth\":0,\"ticks\":\"\"}}],\"scatter\":[{\"fillpattern\":{\"fillmode\":\"overlay\",\"size\":10,\"solidity\":0.2},\"type\":\"scatter\"}],\"parcoords\":[{\"type\":\"parcoords\",\"line\":{\"colorbar\":{\"outlinewidth\":0,\"ticks\":\"\"}}}],\"scatterpolargl\":[{\"type\":\"scatterpolargl\",\"marker\":{\"colorbar\":{\"outlinewidth\":0,\"ticks\":\"\"}}}],\"bar\":[{\"error_x\":{\"color\":\"#2a3f5f\"},\"error_y\":{\"color\":\"#2a3f5f\"},\"marker\":{\"line\":{\"color\":\"#E5ECF6\",\"width\":0.5},\"pattern\":{\"fillmode\":\"overlay\",\"size\":10,\"solidity\":0.2}},\"type\":\"bar\"}],\"scattergeo\":[{\"type\":\"scattergeo\",\"marker\":{\"colorbar\":{\"outlinewidth\":0,\"ticks\":\"\"}}}],\"scatterpolar\":[{\"type\":\"scatterpolar\",\"marker\":{\"colorbar\":{\"outlinewidth\":0,\"ticks\":\"\"}}}],\"histogram\":[{\"marker\":{\"pattern\":{\"fillmode\":\"overlay\",\"size\":10,\"solidity\":0.2}},\"type\":\"histogram\"}],\"scattergl\":[{\"type\":\"scattergl\",\"marker\":{\"colorbar\":{\"outlinewidth\":0,\"ticks\":\"\"}}}],\"scatter3d\":[{\"type\":\"scatter3d\",\"line\":{\"colorbar\":{\"outlinewidth\":0,\"ticks\":\"\"}},\"marker\":{\"colorbar\":{\"outlinewidth\":0,\"ticks\":\"\"}}}],\"scattermapbox\":[{\"type\":\"scattermapbox\",\"marker\":{\"colorbar\":{\"outlinewidth\":0,\"ticks\":\"\"}}}],\"scatterternary\":[{\"type\":\"scatterternary\",\"marker\":{\"colorbar\":{\"outlinewidth\":0,\"ticks\":\"\"}}}],\"scattercarpet\":[{\"type\":\"scattercarpet\",\"marker\":{\"colorbar\":{\"outlinewidth\":0,\"ticks\":\"\"}}}],\"carpet\":[{\"aaxis\":{\"endlinecolor\":\"#2a3f5f\",\"gridcolor\":\"white\",\"linecolor\":\"white\",\"minorgridcolor\":\"white\",\"startlinecolor\":\"#2a3f5f\"},\"baxis\":{\"endlinecolor\":\"#2a3f5f\",\"gridcolor\":\"white\",\"linecolor\":\"white\",\"minorgridcolor\":\"white\",\"startlinecolor\":\"#2a3f5f\"},\"type\":\"carpet\"}],\"table\":[{\"cells\":{\"fill\":{\"color\":\"#EBF0F8\"},\"line\":{\"color\":\"white\"}},\"header\":{\"fill\":{\"color\":\"#C8D4E3\"},\"line\":{\"color\":\"white\"}},\"type\":\"table\"}],\"barpolar\":[{\"marker\":{\"line\":{\"color\":\"#E5ECF6\",\"width\":0.5},\"pattern\":{\"fillmode\":\"overlay\",\"size\":10,\"solidity\":0.2}},\"type\":\"barpolar\"}],\"pie\":[{\"automargin\":true,\"type\":\"pie\"}]},\"layout\":{\"autotypenumbers\":\"strict\",\"colorway\":[\"#636efa\",\"#EF553B\",\"#00cc96\",\"#ab63fa\",\"#FFA15A\",\"#19d3f3\",\"#FF6692\",\"#B6E880\",\"#FF97FF\",\"#FECB52\"],\"font\":{\"color\":\"#2a3f5f\"},\"hovermode\":\"closest\",\"hoverlabel\":{\"align\":\"left\"},\"paper_bgcolor\":\"white\",\"plot_bgcolor\":\"#E5ECF6\",\"polar\":{\"bgcolor\":\"#E5ECF6\",\"angularaxis\":{\"gridcolor\":\"white\",\"linecolor\":\"white\",\"ticks\":\"\"},\"radialaxis\":{\"gridcolor\":\"white\",\"linecolor\":\"white\",\"ticks\":\"\"}},\"ternary\":{\"bgcolor\":\"#E5ECF6\",\"aaxis\":{\"gridcolor\":\"white\",\"linecolor\":\"white\",\"ticks\":\"\"},\"baxis\":{\"gridcolor\":\"white\",\"linecolor\":\"white\",\"ticks\":\"\"},\"caxis\":{\"gridcolor\":\"white\",\"linecolor\":\"white\",\"ticks\":\"\"}},\"coloraxis\":{\"colorbar\":{\"outlinewidth\":0,\"ticks\":\"\"}},\"colorscale\":{\"sequential\":[[0.0,\"#0d0887\"],[0.1111111111111111,\"#46039f\"],[0.2222222222222222,\"#7201a8\"],[0.3333333333333333,\"#9c179e\"],[0.4444444444444444,\"#bd3786\"],[0.5555555555555556,\"#d8576b\"],[0.6666666666666666,\"#ed7953\"],[0.7777777777777778,\"#fb9f3a\"],[0.8888888888888888,\"#fdca26\"],[1.0,\"#f0f921\"]],\"sequentialminus\":[[0.0,\"#0d0887\"],[0.1111111111111111,\"#46039f\"],[0.2222222222222222,\"#7201a8\"],[0.3333333333333333,\"#9c179e\"],[0.4444444444444444,\"#bd3786\"],[0.5555555555555556,\"#d8576b\"],[0.6666666666666666,\"#ed7953\"],[0.7777777777777778,\"#fb9f3a\"],[0.8888888888888888,\"#fdca26\"],[1.0,\"#f0f921\"]],\"diverging\":[[0,\"#8e0152\"],[0.1,\"#c51b7d\"],[0.2,\"#de77ae\"],[0.3,\"#f1b6da\"],[0.4,\"#fde0ef\"],[0.5,\"#f7f7f7\"],[0.6,\"#e6f5d0\"],[0.7,\"#b8e186\"],[0.8,\"#7fbc41\"],[0.9,\"#4d9221\"],[1,\"#276419\"]]},\"xaxis\":{\"gridcolor\":\"white\",\"linecolor\":\"white\",\"ticks\":\"\",\"title\":{\"standoff\":15},\"zerolinecolor\":\"white\",\"automargin\":true,\"zerolinewidth\":2},\"yaxis\":{\"gridcolor\":\"white\",\"linecolor\":\"white\",\"ticks\":\"\",\"title\":{\"standoff\":15},\"zerolinecolor\":\"white\",\"automargin\":true,\"zerolinewidth\":2},\"scene\":{\"xaxis\":{\"backgroundcolor\":\"#E5ECF6\",\"gridcolor\":\"white\",\"linecolor\":\"white\",\"showbackground\":true,\"ticks\":\"\",\"zerolinecolor\":\"white\",\"gridwidth\":2},\"yaxis\":{\"backgroundcolor\":\"#E5ECF6\",\"gridcolor\":\"white\",\"linecolor\":\"white\",\"showbackground\":true,\"ticks\":\"\",\"zerolinecolor\":\"white\",\"gridwidth\":2},\"zaxis\":{\"backgroundcolor\":\"#E5ECF6\",\"gridcolor\":\"white\",\"linecolor\":\"white\",\"showbackground\":true,\"ticks\":\"\",\"zerolinecolor\":\"white\",\"gridwidth\":2}},\"shapedefaults\":{\"line\":{\"color\":\"#2a3f5f\"}},\"annotationdefaults\":{\"arrowcolor\":\"#2a3f5f\",\"arrowhead\":0,\"arrowwidth\":1},\"geo\":{\"bgcolor\":\"white\",\"landcolor\":\"#E5ECF6\",\"subunitcolor\":\"white\",\"showland\":true,\"showlakes\":true,\"lakecolor\":\"white\"},\"title\":{\"x\":0.05},\"mapbox\":{\"style\":\"light\"}}},\"xaxis\":{\"anchor\":\"y\",\"domain\":[0.0,1.0],\"title\":{\"text\":\"AVG\"}},\"yaxis\":{\"anchor\":\"x\",\"domain\":[0.0,1.0],\"title\":{\"text\":\"count\"}},\"legend\":{\"tracegroupgap\":0},\"title\":{\"text\":\"AVG Distribution\"},\"barmode\":\"relative\"},                        {\"responsive\": true}                    ).then(function(){\n",
       "                            \n",
       "var gd = document.getElementById('c1f2d491-350f-4bef-bf9b-189d954450e7');\n",
       "var x = new MutationObserver(function (mutations, observer) {{\n",
       "        var display = window.getComputedStyle(gd).display;\n",
       "        if (!display || display === 'none') {{\n",
       "            console.log([gd, 'removed!']);\n",
       "            Plotly.purge(gd);\n",
       "            observer.disconnect();\n",
       "        }}\n",
       "}});\n",
       "\n",
       "// Listen for the removal of the full notebook cells\n",
       "var notebookContainer = gd.closest('#notebook-container');\n",
       "if (notebookContainer) {{\n",
       "    x.observe(notebookContainer, {childList: true});\n",
       "}}\n",
       "\n",
       "// Listen for the clearing of the current output cell\n",
       "var outputEl = gd.closest('.output');\n",
       "if (outputEl) {{\n",
       "    x.observe(outputEl, {childList: true});\n",
       "}}\n",
       "\n",
       "                        })                };                });            </script>        </div>"
      ]
     },
     "metadata": {},
     "output_type": "display_data"
    }
   ],
   "source": [
    "fig = px.histogram(merged_stats, x='AVG', nbins=20, title='AVG Distribution', labels={'AVG': 'AVG'})\n",
    "fig.show()"
   ]
  },
  {
   "cell_type": "markdown",
   "id": "11aa5e38-0849-432a-9e82-3ba84b84c099",
   "metadata": {},
   "source": [
    "Historgram of R"
   ]
  },
  {
   "cell_type": "code",
   "execution_count": 291,
   "id": "27877696-c379-4486-8b2b-2622fcf66551",
   "metadata": {},
   "outputs": [
    {
     "data": {
      "application/vnd.plotly.v1+json": {
       "config": {
        "plotlyServerURL": "https://plot.ly"
       },
       "data": [
        {
         "alignmentgroup": "True",
         "bingroup": "x",
         "hovertemplate": "R=%{x}<br>count=%{y}<extra></extra>",
         "legendgroup": "",
         "marker": {
          "color": "#636efa",
          "pattern": {
           "shape": ""
          }
         },
         "name": "",
         "nbinsx": 20,
         "offsetgroup": "",
         "orientation": "v",
         "showlegend": false,
         "type": "histogram",
         "x": [
          17,
          16,
          19,
          20,
          23,
          18,
          14,
          16,
          16,
          19,
          14,
          21,
          14,
          20,
          23,
          22,
          17,
          20,
          14,
          14,
          11,
          15,
          10,
          19,
          17,
          11,
          16,
          10,
          16,
          17,
          10,
          11,
          24,
          20,
          18,
          17,
          9,
          19,
          16,
          12,
          10,
          7,
          20,
          13,
          20,
          20,
          8,
          23,
          16,
          14,
          19,
          13,
          17,
          18,
          12,
          8,
          13,
          20,
          11,
          8,
          11,
          18,
          18,
          20,
          8,
          20,
          9,
          16,
          11,
          7,
          14,
          19,
          16,
          17,
          12,
          11,
          17,
          18,
          15,
          10,
          14,
          13,
          16,
          5,
          10,
          21,
          13,
          12,
          11,
          9,
          9,
          6,
          7,
          20,
          12,
          14,
          10,
          17,
          9,
          6,
          10,
          6,
          13,
          18,
          7,
          11,
          5,
          15,
          15,
          6,
          11,
          17,
          10,
          15,
          6,
          19,
          18,
          10,
          11,
          8,
          18,
          7,
          4,
          5,
          4,
          7,
          9,
          9,
          16,
          15,
          11,
          13,
          13,
          7,
          12,
          9,
          4,
          14,
          12,
          13,
          4,
          2,
          12,
          10,
          12,
          10,
          10,
          2,
          7,
          11,
          12,
          9,
          4,
          12,
          9,
          5,
          7,
          12,
          6,
          7,
          5,
          2,
          3,
          12,
          4,
          9,
          12,
          2,
          4,
          15,
          9,
          6,
          6,
          14,
          7,
          8,
          9,
          15,
          5,
          9,
          11,
          4,
          5,
          6,
          11,
          4,
          11,
          4,
          6,
          11,
          5,
          4,
          6,
          8,
          5,
          13,
          5,
          0,
          12,
          5,
          4,
          6,
          6,
          12,
          5,
          13,
          5,
          5,
          11,
          15,
          11,
          22,
          6,
          8,
          2,
          8,
          12,
          4,
          8,
          17,
          12,
          5,
          4,
          3,
          8,
          5,
          4,
          0,
          4,
          9,
          15,
          9,
          9,
          6,
          4,
          7,
          3,
          4,
          2,
          19,
          1,
          13,
          12,
          1,
          1,
          11,
          1,
          9,
          1,
          0,
          17,
          6,
          4,
          5,
          3,
          10,
          18,
          1,
          7,
          4,
          1,
          3,
          2,
          2,
          13,
          4,
          1,
          7,
          7,
          1,
          3,
          10,
          10,
          6,
          5,
          1,
          10,
          0,
          8,
          0,
          0,
          13,
          0,
          0,
          2,
          1,
          1,
          6,
          6,
          0,
          7,
          7,
          0,
          0,
          1,
          7,
          4,
          3,
          0,
          1,
          1,
          6,
          1,
          3,
          1,
          12,
          3,
          4,
          2,
          0,
          11,
          1,
          0,
          8,
          4,
          15,
          10,
          13,
          8,
          3,
          8,
          0,
          2,
          0,
          10,
          7,
          1,
          1,
          1,
          3,
          10,
          15,
          2,
          5,
          8,
          1,
          9,
          10,
          1,
          9,
          7,
          0,
          6,
          10,
          11,
          10,
          0,
          2,
          1,
          8,
          3,
          5,
          9,
          1,
          0,
          9,
          3,
          1,
          0,
          2,
          3,
          1,
          0,
          13,
          5,
          1,
          9,
          5,
          8,
          3,
          0,
          9,
          2,
          0,
          7,
          9,
          7,
          1,
          4,
          6,
          0,
          8,
          5,
          11,
          0,
          1,
          2,
          0,
          2,
          6,
          6,
          11,
          11,
          4,
          10,
          9,
          8,
          6,
          6,
          3,
          0,
          2,
          0,
          0,
          3,
          4,
          0,
          7,
          12,
          1,
          2,
          6,
          1,
          8,
          0,
          2,
          4,
          1,
          0,
          3,
          2,
          3,
          2,
          6,
          4,
          0,
          8,
          8,
          9,
          5,
          6,
          8,
          6,
          3,
          3,
          6,
          9,
          7,
          5,
          10,
          4,
          3,
          5,
          13,
          5,
          9,
          3,
          3,
          2,
          4,
          0,
          1,
          6,
          8,
          8,
          10,
          8,
          12,
          4,
          6,
          4,
          7,
          4,
          4
         ],
         "xaxis": "x",
         "yaxis": "y"
        }
       ],
       "layout": {
        "autosize": true,
        "barmode": "relative",
        "legend": {
         "tracegroupgap": 0
        },
        "template": {
         "data": {
          "bar": [
           {
            "error_x": {
             "color": "#2a3f5f"
            },
            "error_y": {
             "color": "#2a3f5f"
            },
            "marker": {
             "line": {
              "color": "#E5ECF6",
              "width": 0.5
             },
             "pattern": {
              "fillmode": "overlay",
              "size": 10,
              "solidity": 0.2
             }
            },
            "type": "bar"
           }
          ],
          "barpolar": [
           {
            "marker": {
             "line": {
              "color": "#E5ECF6",
              "width": 0.5
             },
             "pattern": {
              "fillmode": "overlay",
              "size": 10,
              "solidity": 0.2
             }
            },
            "type": "barpolar"
           }
          ],
          "carpet": [
           {
            "aaxis": {
             "endlinecolor": "#2a3f5f",
             "gridcolor": "white",
             "linecolor": "white",
             "minorgridcolor": "white",
             "startlinecolor": "#2a3f5f"
            },
            "baxis": {
             "endlinecolor": "#2a3f5f",
             "gridcolor": "white",
             "linecolor": "white",
             "minorgridcolor": "white",
             "startlinecolor": "#2a3f5f"
            },
            "type": "carpet"
           }
          ],
          "choropleth": [
           {
            "colorbar": {
             "outlinewidth": 0,
             "ticks": ""
            },
            "type": "choropleth"
           }
          ],
          "contour": [
           {
            "colorbar": {
             "outlinewidth": 0,
             "ticks": ""
            },
            "colorscale": [
             [
              0,
              "#0d0887"
             ],
             [
              0.1111111111111111,
              "#46039f"
             ],
             [
              0.2222222222222222,
              "#7201a8"
             ],
             [
              0.3333333333333333,
              "#9c179e"
             ],
             [
              0.4444444444444444,
              "#bd3786"
             ],
             [
              0.5555555555555556,
              "#d8576b"
             ],
             [
              0.6666666666666666,
              "#ed7953"
             ],
             [
              0.7777777777777778,
              "#fb9f3a"
             ],
             [
              0.8888888888888888,
              "#fdca26"
             ],
             [
              1,
              "#f0f921"
             ]
            ],
            "type": "contour"
           }
          ],
          "contourcarpet": [
           {
            "colorbar": {
             "outlinewidth": 0,
             "ticks": ""
            },
            "type": "contourcarpet"
           }
          ],
          "heatmap": [
           {
            "colorbar": {
             "outlinewidth": 0,
             "ticks": ""
            },
            "colorscale": [
             [
              0,
              "#0d0887"
             ],
             [
              0.1111111111111111,
              "#46039f"
             ],
             [
              0.2222222222222222,
              "#7201a8"
             ],
             [
              0.3333333333333333,
              "#9c179e"
             ],
             [
              0.4444444444444444,
              "#bd3786"
             ],
             [
              0.5555555555555556,
              "#d8576b"
             ],
             [
              0.6666666666666666,
              "#ed7953"
             ],
             [
              0.7777777777777778,
              "#fb9f3a"
             ],
             [
              0.8888888888888888,
              "#fdca26"
             ],
             [
              1,
              "#f0f921"
             ]
            ],
            "type": "heatmap"
           }
          ],
          "heatmapgl": [
           {
            "colorbar": {
             "outlinewidth": 0,
             "ticks": ""
            },
            "colorscale": [
             [
              0,
              "#0d0887"
             ],
             [
              0.1111111111111111,
              "#46039f"
             ],
             [
              0.2222222222222222,
              "#7201a8"
             ],
             [
              0.3333333333333333,
              "#9c179e"
             ],
             [
              0.4444444444444444,
              "#bd3786"
             ],
             [
              0.5555555555555556,
              "#d8576b"
             ],
             [
              0.6666666666666666,
              "#ed7953"
             ],
             [
              0.7777777777777778,
              "#fb9f3a"
             ],
             [
              0.8888888888888888,
              "#fdca26"
             ],
             [
              1,
              "#f0f921"
             ]
            ],
            "type": "heatmapgl"
           }
          ],
          "histogram": [
           {
            "marker": {
             "pattern": {
              "fillmode": "overlay",
              "size": 10,
              "solidity": 0.2
             }
            },
            "type": "histogram"
           }
          ],
          "histogram2d": [
           {
            "colorbar": {
             "outlinewidth": 0,
             "ticks": ""
            },
            "colorscale": [
             [
              0,
              "#0d0887"
             ],
             [
              0.1111111111111111,
              "#46039f"
             ],
             [
              0.2222222222222222,
              "#7201a8"
             ],
             [
              0.3333333333333333,
              "#9c179e"
             ],
             [
              0.4444444444444444,
              "#bd3786"
             ],
             [
              0.5555555555555556,
              "#d8576b"
             ],
             [
              0.6666666666666666,
              "#ed7953"
             ],
             [
              0.7777777777777778,
              "#fb9f3a"
             ],
             [
              0.8888888888888888,
              "#fdca26"
             ],
             [
              1,
              "#f0f921"
             ]
            ],
            "type": "histogram2d"
           }
          ],
          "histogram2dcontour": [
           {
            "colorbar": {
             "outlinewidth": 0,
             "ticks": ""
            },
            "colorscale": [
             [
              0,
              "#0d0887"
             ],
             [
              0.1111111111111111,
              "#46039f"
             ],
             [
              0.2222222222222222,
              "#7201a8"
             ],
             [
              0.3333333333333333,
              "#9c179e"
             ],
             [
              0.4444444444444444,
              "#bd3786"
             ],
             [
              0.5555555555555556,
              "#d8576b"
             ],
             [
              0.6666666666666666,
              "#ed7953"
             ],
             [
              0.7777777777777778,
              "#fb9f3a"
             ],
             [
              0.8888888888888888,
              "#fdca26"
             ],
             [
              1,
              "#f0f921"
             ]
            ],
            "type": "histogram2dcontour"
           }
          ],
          "mesh3d": [
           {
            "colorbar": {
             "outlinewidth": 0,
             "ticks": ""
            },
            "type": "mesh3d"
           }
          ],
          "parcoords": [
           {
            "line": {
             "colorbar": {
              "outlinewidth": 0,
              "ticks": ""
             }
            },
            "type": "parcoords"
           }
          ],
          "pie": [
           {
            "automargin": true,
            "type": "pie"
           }
          ],
          "scatter": [
           {
            "fillpattern": {
             "fillmode": "overlay",
             "size": 10,
             "solidity": 0.2
            },
            "type": "scatter"
           }
          ],
          "scatter3d": [
           {
            "line": {
             "colorbar": {
              "outlinewidth": 0,
              "ticks": ""
             }
            },
            "marker": {
             "colorbar": {
              "outlinewidth": 0,
              "ticks": ""
             }
            },
            "type": "scatter3d"
           }
          ],
          "scattercarpet": [
           {
            "marker": {
             "colorbar": {
              "outlinewidth": 0,
              "ticks": ""
             }
            },
            "type": "scattercarpet"
           }
          ],
          "scattergeo": [
           {
            "marker": {
             "colorbar": {
              "outlinewidth": 0,
              "ticks": ""
             }
            },
            "type": "scattergeo"
           }
          ],
          "scattergl": [
           {
            "marker": {
             "colorbar": {
              "outlinewidth": 0,
              "ticks": ""
             }
            },
            "type": "scattergl"
           }
          ],
          "scattermapbox": [
           {
            "marker": {
             "colorbar": {
              "outlinewidth": 0,
              "ticks": ""
             }
            },
            "type": "scattermapbox"
           }
          ],
          "scatterpolar": [
           {
            "marker": {
             "colorbar": {
              "outlinewidth": 0,
              "ticks": ""
             }
            },
            "type": "scatterpolar"
           }
          ],
          "scatterpolargl": [
           {
            "marker": {
             "colorbar": {
              "outlinewidth": 0,
              "ticks": ""
             }
            },
            "type": "scatterpolargl"
           }
          ],
          "scatterternary": [
           {
            "marker": {
             "colorbar": {
              "outlinewidth": 0,
              "ticks": ""
             }
            },
            "type": "scatterternary"
           }
          ],
          "surface": [
           {
            "colorbar": {
             "outlinewidth": 0,
             "ticks": ""
            },
            "colorscale": [
             [
              0,
              "#0d0887"
             ],
             [
              0.1111111111111111,
              "#46039f"
             ],
             [
              0.2222222222222222,
              "#7201a8"
             ],
             [
              0.3333333333333333,
              "#9c179e"
             ],
             [
              0.4444444444444444,
              "#bd3786"
             ],
             [
              0.5555555555555556,
              "#d8576b"
             ],
             [
              0.6666666666666666,
              "#ed7953"
             ],
             [
              0.7777777777777778,
              "#fb9f3a"
             ],
             [
              0.8888888888888888,
              "#fdca26"
             ],
             [
              1,
              "#f0f921"
             ]
            ],
            "type": "surface"
           }
          ],
          "table": [
           {
            "cells": {
             "fill": {
              "color": "#EBF0F8"
             },
             "line": {
              "color": "white"
             }
            },
            "header": {
             "fill": {
              "color": "#C8D4E3"
             },
             "line": {
              "color": "white"
             }
            },
            "type": "table"
           }
          ]
         },
         "layout": {
          "annotationdefaults": {
           "arrowcolor": "#2a3f5f",
           "arrowhead": 0,
           "arrowwidth": 1
          },
          "autotypenumbers": "strict",
          "coloraxis": {
           "colorbar": {
            "outlinewidth": 0,
            "ticks": ""
           }
          },
          "colorscale": {
           "diverging": [
            [
             0,
             "#8e0152"
            ],
            [
             0.1,
             "#c51b7d"
            ],
            [
             0.2,
             "#de77ae"
            ],
            [
             0.3,
             "#f1b6da"
            ],
            [
             0.4,
             "#fde0ef"
            ],
            [
             0.5,
             "#f7f7f7"
            ],
            [
             0.6,
             "#e6f5d0"
            ],
            [
             0.7,
             "#b8e186"
            ],
            [
             0.8,
             "#7fbc41"
            ],
            [
             0.9,
             "#4d9221"
            ],
            [
             1,
             "#276419"
            ]
           ],
           "sequential": [
            [
             0,
             "#0d0887"
            ],
            [
             0.1111111111111111,
             "#46039f"
            ],
            [
             0.2222222222222222,
             "#7201a8"
            ],
            [
             0.3333333333333333,
             "#9c179e"
            ],
            [
             0.4444444444444444,
             "#bd3786"
            ],
            [
             0.5555555555555556,
             "#d8576b"
            ],
            [
             0.6666666666666666,
             "#ed7953"
            ],
            [
             0.7777777777777778,
             "#fb9f3a"
            ],
            [
             0.8888888888888888,
             "#fdca26"
            ],
            [
             1,
             "#f0f921"
            ]
           ],
           "sequentialminus": [
            [
             0,
             "#0d0887"
            ],
            [
             0.1111111111111111,
             "#46039f"
            ],
            [
             0.2222222222222222,
             "#7201a8"
            ],
            [
             0.3333333333333333,
             "#9c179e"
            ],
            [
             0.4444444444444444,
             "#bd3786"
            ],
            [
             0.5555555555555556,
             "#d8576b"
            ],
            [
             0.6666666666666666,
             "#ed7953"
            ],
            [
             0.7777777777777778,
             "#fb9f3a"
            ],
            [
             0.8888888888888888,
             "#fdca26"
            ],
            [
             1,
             "#f0f921"
            ]
           ]
          },
          "colorway": [
           "#636efa",
           "#EF553B",
           "#00cc96",
           "#ab63fa",
           "#FFA15A",
           "#19d3f3",
           "#FF6692",
           "#B6E880",
           "#FF97FF",
           "#FECB52"
          ],
          "font": {
           "color": "#2a3f5f"
          },
          "geo": {
           "bgcolor": "white",
           "lakecolor": "white",
           "landcolor": "#E5ECF6",
           "showlakes": true,
           "showland": true,
           "subunitcolor": "white"
          },
          "hoverlabel": {
           "align": "left"
          },
          "hovermode": "closest",
          "mapbox": {
           "style": "light"
          },
          "paper_bgcolor": "white",
          "plot_bgcolor": "#E5ECF6",
          "polar": {
           "angularaxis": {
            "gridcolor": "white",
            "linecolor": "white",
            "ticks": ""
           },
           "bgcolor": "#E5ECF6",
           "radialaxis": {
            "gridcolor": "white",
            "linecolor": "white",
            "ticks": ""
           }
          },
          "scene": {
           "xaxis": {
            "backgroundcolor": "#E5ECF6",
            "gridcolor": "white",
            "gridwidth": 2,
            "linecolor": "white",
            "showbackground": true,
            "ticks": "",
            "zerolinecolor": "white"
           },
           "yaxis": {
            "backgroundcolor": "#E5ECF6",
            "gridcolor": "white",
            "gridwidth": 2,
            "linecolor": "white",
            "showbackground": true,
            "ticks": "",
            "zerolinecolor": "white"
           },
           "zaxis": {
            "backgroundcolor": "#E5ECF6",
            "gridcolor": "white",
            "gridwidth": 2,
            "linecolor": "white",
            "showbackground": true,
            "ticks": "",
            "zerolinecolor": "white"
           }
          },
          "shapedefaults": {
           "line": {
            "color": "#2a3f5f"
           }
          },
          "ternary": {
           "aaxis": {
            "gridcolor": "white",
            "linecolor": "white",
            "ticks": ""
           },
           "baxis": {
            "gridcolor": "white",
            "linecolor": "white",
            "ticks": ""
           },
           "bgcolor": "#E5ECF6",
           "caxis": {
            "gridcolor": "white",
            "linecolor": "white",
            "ticks": ""
           }
          },
          "title": {
           "x": 0.05
          },
          "xaxis": {
           "automargin": true,
           "gridcolor": "white",
           "linecolor": "white",
           "ticks": "",
           "title": {
            "standoff": 15
           },
           "zerolinecolor": "white",
           "zerolinewidth": 2
          },
          "yaxis": {
           "automargin": true,
           "gridcolor": "white",
           "linecolor": "white",
           "ticks": "",
           "title": {
            "standoff": 15
           },
           "zerolinecolor": "white",
           "zerolinewidth": 2
          }
         }
        },
        "title": {
         "text": "R Distribution"
        },
        "xaxis": {
         "anchor": "y",
         "autorange": true,
         "domain": [
          0,
          1
         ],
         "range": [
          -0.5,
          25.5
         ],
         "title": {
          "text": "R"
         },
         "type": "linear"
        },
        "yaxis": {
         "anchor": "x",
         "autorange": true,
         "domain": [
          0,
          1
         ],
         "range": [
          0,
          71.57894736842105
         ],
         "title": {
          "text": "count"
         }
        }
       }
      },
      "image/png": "[encoded data removed]",
      "text/html": [
       "<div>                            <div id=\"78fa6b4e-2ee3-4075-925c-d49aeb1c708d\" class=\"plotly-graph-div\" style=\"height:525px; width:100%;\"></div>            <script type=\"text/javascript\">                require([\"plotly\"], function(Plotly) {                    window.PLOTLYENV=window.PLOTLYENV || {};                                    if (document.getElementById(\"78fa6b4e-2ee3-4075-925c-d49aeb1c708d\")) {                    Plotly.newPlot(                        \"78fa6b4e-2ee3-4075-925c-d49aeb1c708d\",                        [{\"alignmentgroup\":\"True\",\"bingroup\":\"x\",\"hovertemplate\":\"R=%{x}<br>count=%{y}<extra></extra>\",\"legendgroup\":\"\",\"marker\":{\"color\":\"#636efa\",\"pattern\":{\"shape\":\"\"}},\"name\":\"\",\"nbinsx\":20,\"offsetgroup\":\"\",\"orientation\":\"v\",\"showlegend\":false,\"x\":[17,16,19,20,23,18,14,16,16,19,14,21,14,20,23,22,17,20,14,14,11,15,10,19,17,11,16,10,16,17,10,11,24,20,18,17,9,19,16,12,10,7,20,13,20,20,8,23,16,14,19,13,17,18,12,8,13,20,11,8,11,18,18,20,8,20,9,16,11,7,14,19,16,17,12,11,17,18,15,10,14,13,16,5,10,21,13,12,11,9,9,6,7,20,12,14,10,17,9,6,10,6,13,18,7,11,5,15,15,6,11,17,10,15,6,19,18,10,11,8,18,7,4,5,4,7,9,9,16,15,11,13,13,7,12,9,4,14,12,13,4,2,12,10,12,10,10,2,7,11,12,9,4,12,9,5,7,12,6,7,5,2,3,12,4,9,12,2,4,15,9,6,6,14,7,8,9,15,5,9,11,4,5,6,11,4,11,4,6,11,5,4,6,8,5,13,5,0,12,5,4,6,6,12,5,13,5,5,11,15,11,22,6,8,2,8,12,4,8,17,12,5,4,3,8,5,4,0,4,9,15,9,9,6,4,7,3,4,2,19,1,13,12,1,1,11,1,9,1,0,17,6,4,5,3,10,18,1,7,4,1,3,2,2,13,4,1,7,7,1,3,10,10,6,5,1,10,0,8,0,0,13,0,0,2,1,1,6,6,0,7,7,0,0,1,7,4,3,0,1,1,6,1,3,1,12,3,4,2,0,11,1,0,8,4,15,10,13,8,3,8,0,2,0,10,7,1,1,1,3,10,15,2,5,8,1,9,10,1,9,7,0,6,10,11,10,0,2,1,8,3,5,9,1,0,9,3,1,0,2,3,1,0,13,5,1,9,5,8,3,0,9,2,0,7,9,7,1,4,6,0,8,5,11,0,1,2,0,2,6,6,11,11,4,10,9,8,6,6,3,0,2,0,0,3,4,0,7,12,1,2,6,1,8,0,2,4,1,0,3,2,3,2,6,4,0,8,8,9,5,6,8,6,3,3,6,9,7,5,10,4,3,5,13,5,9,3,3,2,4,0,1,6,8,8,10,8,12,4,6,4,7,4,4],\"xaxis\":\"x\",\"yaxis\":\"y\",\"type\":\"histogram\"}],                        {\"template\":{\"data\":{\"histogram2dcontour\":[{\"type\":\"histogram2dcontour\",\"colorbar\":{\"outlinewidth\":0,\"ticks\":\"\"},\"colorscale\":[[0.0,\"#0d0887\"],[0.1111111111111111,\"#46039f\"],[0.2222222222222222,\"#7201a8\"],[0.3333333333333333,\"#9c179e\"],[0.4444444444444444,\"#bd3786\"],[0.5555555555555556,\"#d8576b\"],[0.6666666666666666,\"#ed7953\"],[0.7777777777777778,\"#fb9f3a\"],[0.8888888888888888,\"#fdca26\"],[1.0,\"#f0f921\"]]}],\"choropleth\":[{\"type\":\"choropleth\",\"colorbar\":{\"outlinewidth\":0,\"ticks\":\"\"}}],\"histogram2d\":[{\"type\":\"histogram2d\",\"colorbar\":{\"outlinewidth\":0,\"ticks\":\"\"},\"colorscale\":[[0.0,\"#0d0887\"],[0.1111111111111111,\"#46039f\"],[0.2222222222222222,\"#7201a8\"],[0.3333333333333333,\"#9c179e\"],[0.4444444444444444,\"#bd3786\"],[0.5555555555555556,\"#d8576b\"],[0.6666666666666666,\"#ed7953\"],[0.7777777777777778,\"#fb9f3a\"],[0.8888888888888888,\"#fdca26\"],[1.0,\"#f0f921\"]]}],\"heatmap\":[{\"type\":\"heatmap\",\"colorbar\":{\"outlinewidth\":0,\"ticks\":\"\"},\"colorscale\":[[0.0,\"#0d0887\"],[0.1111111111111111,\"#46039f\"],[0.2222222222222222,\"#7201a8\"],[0.3333333333333333,\"#9c179e\"],[0.4444444444444444,\"#bd3786\"],[0.5555555555555556,\"#d8576b\"],[0.6666666666666666,\"#ed7953\"],[0.7777777777777778,\"#fb9f3a\"],[0.8888888888888888,\"#fdca26\"],[1.0,\"#f0f921\"]]}],\"heatmapgl\":[{\"type\":\"heatmapgl\",\"colorbar\":{\"outlinewidth\":0,\"ticks\":\"\"},\"colorscale\":[[0.0,\"#0d0887\"],[0.1111111111111111,\"#46039f\"],[0.2222222222222222,\"#7201a8\"],[0.3333333333333333,\"#9c179e\"],[0.4444444444444444,\"#bd3786\"],[0.5555555555555556,\"#d8576b\"],[0.6666666666666666,\"#ed7953\"],[0.7777777777777778,\"#fb9f3a\"],[0.8888888888888888,\"#fdca26\"],[1.0,\"#f0f921\"]]}],\"contourcarpet\":[{\"type\":\"contourcarpet\",\"colorbar\":{\"outlinewidth\":0,\"ticks\":\"\"}}],\"contour\":[{\"type\":\"contour\",\"colorbar\":{\"outlinewidth\":0,\"ticks\":\"\"},\"colorscale\":[[0.0,\"#0d0887\"],[0.1111111111111111,\"#46039f\"],[0.2222222222222222,\"#7201a8\"],[0.3333333333333333,\"#9c179e\"],[0.4444444444444444,\"#bd3786\"],[0.5555555555555556,\"#d8576b\"],[0.6666666666666666,\"#ed7953\"],[0.7777777777777778,\"#fb9f3a\"],[0.8888888888888888,\"#fdca26\"],[1.0,\"#f0f921\"]]}],\"surface\":[{\"type\":\"surface\",\"colorbar\":{\"outlinewidth\":0,\"ticks\":\"\"},\"colorscale\":[[0.0,\"#0d0887\"],[0.1111111111111111,\"#46039f\"],[0.2222222222222222,\"#7201a8\"],[0.3333333333333333,\"#9c179e\"],[0.4444444444444444,\"#bd3786\"],[0.5555555555555556,\"#d8576b\"],[0.6666666666666666,\"#ed7953\"],[0.7777777777777778,\"#fb9f3a\"],[0.8888888888888888,\"#fdca26\"],[1.0,\"#f0f921\"]]}],\"mesh3d\":[{\"type\":\"mesh3d\",\"colorbar\":{\"outlinewidth\":0,\"ticks\":\"\"}}],\"scatter\":[{\"fillpattern\":{\"fillmode\":\"overlay\",\"size\":10,\"solidity\":0.2},\"type\":\"scatter\"}],\"parcoords\":[{\"type\":\"parcoords\",\"line\":{\"colorbar\":{\"outlinewidth\":0,\"ticks\":\"\"}}}],\"scatterpolargl\":[{\"type\":\"scatterpolargl\",\"marker\":{\"colorbar\":{\"outlinewidth\":0,\"ticks\":\"\"}}}],\"bar\":[{\"error_x\":{\"color\":\"#2a3f5f\"},\"error_y\":{\"color\":\"#2a3f5f\"},\"marker\":{\"line\":{\"color\":\"#E5ECF6\",\"width\":0.5},\"pattern\":{\"fillmode\":\"overlay\",\"size\":10,\"solidity\":0.2}},\"type\":\"bar\"}],\"scattergeo\":[{\"type\":\"scattergeo\",\"marker\":{\"colorbar\":{\"outlinewidth\":0,\"ticks\":\"\"}}}],\"scatterpolar\":[{\"type\":\"scatterpolar\",\"marker\":{\"colorbar\":{\"outlinewidth\":0,\"ticks\":\"\"}}}],\"histogram\":[{\"marker\":{\"pattern\":{\"fillmode\":\"overlay\",\"size\":10,\"solidity\":0.2}},\"type\":\"histogram\"}],\"scattergl\":[{\"type\":\"scattergl\",\"marker\":{\"colorbar\":{\"outlinewidth\":0,\"ticks\":\"\"}}}],\"scatter3d\":[{\"type\":\"scatter3d\",\"line\":{\"colorbar\":{\"outlinewidth\":0,\"ticks\":\"\"}},\"marker\":{\"colorbar\":{\"outlinewidth\":0,\"ticks\":\"\"}}}],\"scattermapbox\":[{\"type\":\"scattermapbox\",\"marker\":{\"colorbar\":{\"outlinewidth\":0,\"ticks\":\"\"}}}],\"scatterternary\":[{\"type\":\"scatterternary\",\"marker\":{\"colorbar\":{\"outlinewidth\":0,\"ticks\":\"\"}}}],\"scattercarpet\":[{\"type\":\"scattercarpet\",\"marker\":{\"colorbar\":{\"outlinewidth\":0,\"ticks\":\"\"}}}],\"carpet\":[{\"aaxis\":{\"endlinecolor\":\"#2a3f5f\",\"gridcolor\":\"white\",\"linecolor\":\"white\",\"minorgridcolor\":\"white\",\"startlinecolor\":\"#2a3f5f\"},\"baxis\":{\"endlinecolor\":\"#2a3f5f\",\"gridcolor\":\"white\",\"linecolor\":\"white\",\"minorgridcolor\":\"white\",\"startlinecolor\":\"#2a3f5f\"},\"type\":\"carpet\"}],\"table\":[{\"cells\":{\"fill\":{\"color\":\"#EBF0F8\"},\"line\":{\"color\":\"white\"}},\"header\":{\"fill\":{\"color\":\"#C8D4E3\"},\"line\":{\"color\":\"white\"}},\"type\":\"table\"}],\"barpolar\":[{\"marker\":{\"line\":{\"color\":\"#E5ECF6\",\"width\":0.5},\"pattern\":{\"fillmode\":\"overlay\",\"size\":10,\"solidity\":0.2}},\"type\":\"barpolar\"}],\"pie\":[{\"automargin\":true,\"type\":\"pie\"}]},\"layout\":{\"autotypenumbers\":\"strict\",\"colorway\":[\"#636efa\",\"#EF553B\",\"#00cc96\",\"#ab63fa\",\"#FFA15A\",\"#19d3f3\",\"#FF6692\",\"#B6E880\",\"#FF97FF\",\"#FECB52\"],\"font\":{\"color\":\"#2a3f5f\"},\"hovermode\":\"closest\",\"hoverlabel\":{\"align\":\"left\"},\"paper_bgcolor\":\"white\",\"plot_bgcolor\":\"#E5ECF6\",\"polar\":{\"bgcolor\":\"#E5ECF6\",\"angularaxis\":{\"gridcolor\":\"white\",\"linecolor\":\"white\",\"ticks\":\"\"},\"radialaxis\":{\"gridcolor\":\"white\",\"linecolor\":\"white\",\"ticks\":\"\"}},\"ternary\":{\"bgcolor\":\"#E5ECF6\",\"aaxis\":{\"gridcolor\":\"white\",\"linecolor\":\"white\",\"ticks\":\"\"},\"baxis\":{\"gridcolor\":\"white\",\"linecolor\":\"white\",\"ticks\":\"\"},\"caxis\":{\"gridcolor\":\"white\",\"linecolor\":\"white\",\"ticks\":\"\"}},\"coloraxis\":{\"colorbar\":{\"outlinewidth\":0,\"ticks\":\"\"}},\"colorscale\":{\"sequential\":[[0.0,\"#0d0887\"],[0.1111111111111111,\"#46039f\"],[0.2222222222222222,\"#7201a8\"],[0.3333333333333333,\"#9c179e\"],[0.4444444444444444,\"#bd3786\"],[0.5555555555555556,\"#d8576b\"],[0.6666666666666666,\"#ed7953\"],[0.7777777777777778,\"#fb9f3a\"],[0.8888888888888888,\"#fdca26\"],[1.0,\"#f0f921\"]],\"sequentialminus\":[[0.0,\"#0d0887\"],[0.1111111111111111,\"#46039f\"],[0.2222222222222222,\"#7201a8\"],[0.3333333333333333,\"#9c179e\"],[0.4444444444444444,\"#bd3786\"],[0.5555555555555556,\"#d8576b\"],[0.6666666666666666,\"#ed7953\"],[0.7777777777777778,\"#fb9f3a\"],[0.8888888888888888,\"#fdca26\"],[1.0,\"#f0f921\"]],\"diverging\":[[0,\"#8e0152\"],[0.1,\"#c51b7d\"],[0.2,\"#de77ae\"],[0.3,\"#f1b6da\"],[0.4,\"#fde0ef\"],[0.5,\"#f7f7f7\"],[0.6,\"#e6f5d0\"],[0.7,\"#b8e186\"],[0.8,\"#7fbc41\"],[0.9,\"#4d9221\"],[1,\"#276419\"]]},\"xaxis\":{\"gridcolor\":\"white\",\"linecolor\":\"white\",\"ticks\":\"\",\"title\":{\"standoff\":15},\"zerolinecolor\":\"white\",\"automargin\":true,\"zerolinewidth\":2},\"yaxis\":{\"gridcolor\":\"white\",\"linecolor\":\"white\",\"ticks\":\"\",\"title\":{\"standoff\":15},\"zerolinecolor\":\"white\",\"automargin\":true,\"zerolinewidth\":2},\"scene\":{\"xaxis\":{\"backgroundcolor\":\"#E5ECF6\",\"gridcolor\":\"white\",\"linecolor\":\"white\",\"showbackground\":true,\"ticks\":\"\",\"zerolinecolor\":\"white\",\"gridwidth\":2},\"yaxis\":{\"backgroundcolor\":\"#E5ECF6\",\"gridcolor\":\"white\",\"linecolor\":\"white\",\"showbackground\":true,\"ticks\":\"\",\"zerolinecolor\":\"white\",\"gridwidth\":2},\"zaxis\":{\"backgroundcolor\":\"#E5ECF6\",\"gridcolor\":\"white\",\"linecolor\":\"white\",\"showbackground\":true,\"ticks\":\"\",\"zerolinecolor\":\"white\",\"gridwidth\":2}},\"shapedefaults\":{\"line\":{\"color\":\"#2a3f5f\"}},\"annotationdefaults\":{\"arrowcolor\":\"#2a3f5f\",\"arrowhead\":0,\"arrowwidth\":1},\"geo\":{\"bgcolor\":\"white\",\"landcolor\":\"#E5ECF6\",\"subunitcolor\":\"white\",\"showland\":true,\"showlakes\":true,\"lakecolor\":\"white\"},\"title\":{\"x\":0.05},\"mapbox\":{\"style\":\"light\"}}},\"xaxis\":{\"anchor\":\"y\",\"domain\":[0.0,1.0],\"title\":{\"text\":\"R\"}},\"yaxis\":{\"anchor\":\"x\",\"domain\":[0.0,1.0],\"title\":{\"text\":\"count\"}},\"legend\":{\"tracegroupgap\":0},\"title\":{\"text\":\"R Distribution\"},\"barmode\":\"relative\"},                        {\"responsive\": true}                    ).then(function(){\n",
       "                            \n",
       "var gd = document.getElementById('78fa6b4e-2ee3-4075-925c-d49aeb1c708d');\n",
       "var x = new MutationObserver(function (mutations, observer) {{\n",
       "        var display = window.getComputedStyle(gd).display;\n",
       "        if (!display || display === 'none') {{\n",
       "            console.log([gd, 'removed!']);\n",
       "            Plotly.purge(gd);\n",
       "            observer.disconnect();\n",
       "        }}\n",
       "}});\n",
       "\n",
       "// Listen for the removal of the full notebook cells\n",
       "var notebookContainer = gd.closest('#notebook-container');\n",
       "if (notebookContainer) {{\n",
       "    x.observe(notebookContainer, {childList: true});\n",
       "}}\n",
       "\n",
       "// Listen for the clearing of the current output cell\n",
       "var outputEl = gd.closest('.output');\n",
       "if (outputEl) {{\n",
       "    x.observe(outputEl, {childList: true});\n",
       "}}\n",
       "\n",
       "                        })                };                });            </script>        </div>"
      ]
     },
     "metadata": {},
     "output_type": "display_data"
    }
   ],
   "source": [
    "fig = px.histogram(merged_stats, x='R', nbins=20, title='R Distribution', labels={'R': 'R'})\n",
    "fig.show()"
   ]
  },
  {
   "cell_type": "markdown",
   "id": "43e005b2-119d-4912-a08e-78e295eabe26",
   "metadata": {},
   "source": [
    "Building the model"
   ]
  },
  {
   "cell_type": "markdown",
   "id": "f2b7c1c7-a381-4a7d-84c7-d38ec6331413",
   "metadata": {},
   "source": [
    "Splitting the dataset into a training set and a testing set"
   ]
  },
  {
   "cell_type": "code",
   "execution_count": 295,
   "id": "683b368f-31dd-41a8-bf71-4fa9feb7e039",
   "metadata": {},
   "outputs": [],
   "source": [
    "#Split dataset\n",
    "X = merged_stats[['AVG', 'SLG', 'R']]\n",
    "y = merged_stats['OBP']\n",
    "X_train, X_test, y_train, y_test = train_test_split(X, y, test_size=0.2)"
   ]
  },
  {
   "cell_type": "markdown",
   "id": "da43aef2-0f61-4082-a81c-a568cfa06e5e",
   "metadata": {},
   "source": [
    "Standardizing the training and testing datasets"
   ]
  },
  {
   "cell_type": "code",
   "execution_count": 298,
   "id": "85513477-0d38-490e-9fa3-d5426688df88",
   "metadata": {},
   "outputs": [],
   "source": [
    "#Scaling\n",
    "scaler_X = StandardScaler()\n",
    "X_train = scaler_X.fit_transform(X_train)\n",
    "X_test = scaler_X.transform(X_test)"
   ]
  },
  {
   "cell_type": "markdown",
   "id": "acb95eea-5b63-47fd-9bfa-42a14e473d52",
   "metadata": {},
   "source": [
    "Defining the KNNR model"
   ]
  },
  {
   "cell_type": "code",
   "execution_count": 301,
   "id": "abab60ec-d15c-48b7-8fe5-33824ab1371c",
   "metadata": {},
   "outputs": [
    {
     "data": {
      "text/html": [
       "<style>#sk-container-id-7 {color: black;background-color: white;}#sk-container-id-7 pre{padding: 0;}#sk-container-id-7 div.sk-toggleable {background-color: white;}#sk-container-id-7 label.sk-toggleable__label {cursor: pointer;display: block;width: 100%;margin-bottom: 0;padding: 0.3em;box-sizing: border-box;text-align: center;}#sk-container-id-7 label.sk-toggleable__label-arrow:before {content: \"▸\";float: left;margin-right: 0.25em;color: #696969;}#sk-container-id-7 label.sk-toggleable__label-arrow:hover:before {color: black;}#sk-container-id-7 div.sk-estimator:hover label.sk-toggleable__label-arrow:before {color: black;}#sk-container-id-7 div.sk-toggleable__content {max-height: 0;max-width: 0;overflow: hidden;text-align: left;background-color: #f0f8ff;}#sk-container-id-7 div.sk-toggleable__content pre {margin: 0.2em;color: black;border-radius: 0.25em;background-color: #f0f8ff;}#sk-container-id-7 input.sk-toggleable__control:checked~div.sk-toggleable__content {max-height: 200px;max-width: 100%;overflow: auto;}#sk-container-id-7 input.sk-toggleable__control:checked~label.sk-toggleable__label-arrow:before {content: \"▾\";}#sk-container-id-7 div.sk-estimator input.sk-toggleable__control:checked~label.sk-toggleable__label {background-color: #d4ebff;}#sk-container-id-7 div.sk-label input.sk-toggleable__control:checked~label.sk-toggleable__label {background-color: #d4ebff;}#sk-container-id-7 input.sk-hidden--visually {border: 0;clip: rect(1px 1px 1px 1px);clip: rect(1px, 1px, 1px, 1px);height: 1px;margin: -1px;overflow: hidden;padding: 0;position: absolute;width: 1px;}#sk-container-id-7 div.sk-estimator {font-family: monospace;background-color: #f0f8ff;border: 1px dotted black;border-radius: 0.25em;box-sizing: border-box;margin-bottom: 0.5em;}#sk-container-id-7 div.sk-estimator:hover {background-color: #d4ebff;}#sk-container-id-7 div.sk-parallel-item::after {content: \"\";width: 100%;border-bottom: 1px solid gray;flex-grow: 1;}#sk-container-id-7 div.sk-label:hover label.sk-toggleable__label {background-color: #d4ebff;}#sk-container-id-7 div.sk-serial::before {content: \"\";position: absolute;border-left: 1px solid gray;box-sizing: border-box;top: 0;bottom: 0;left: 50%;z-index: 0;}#sk-container-id-7 div.sk-serial {display: flex;flex-direction: column;align-items: center;background-color: white;padding-right: 0.2em;padding-left: 0.2em;position: relative;}#sk-container-id-7 div.sk-item {position: relative;z-index: 1;}#sk-container-id-7 div.sk-parallel {display: flex;align-items: stretch;justify-content: center;background-color: white;position: relative;}#sk-container-id-7 div.sk-item::before, #sk-container-id-7 div.sk-parallel-item::before {content: \"\";position: absolute;border-left: 1px solid gray;box-sizing: border-box;top: 0;bottom: 0;left: 50%;z-index: -1;}#sk-container-id-7 div.sk-parallel-item {display: flex;flex-direction: column;z-index: 1;position: relative;background-color: white;}#sk-container-id-7 div.sk-parallel-item:first-child::after {align-self: flex-end;width: 50%;}#sk-container-id-7 div.sk-parallel-item:last-child::after {align-self: flex-start;width: 50%;}#sk-container-id-7 div.sk-parallel-item:only-child::after {width: 0;}#sk-container-id-7 div.sk-dashed-wrapped {border: 1px dashed gray;margin: 0 0.4em 0.5em 0.4em;box-sizing: border-box;padding-bottom: 0.4em;background-color: white;}#sk-container-id-7 div.sk-label label {font-family: monospace;font-weight: bold;display: inline-block;line-height: 1.2em;}#sk-container-id-7 div.sk-label-container {text-align: center;}#sk-container-id-7 div.sk-container {/* jupyter's `normalize.less` sets `[hidden] { display: none; }` but bootstrap.min.css set `[hidden] { display: none !important; }` so we also need the `!important` here to be able to override the default hidden behavior on the sphinx rendered scikit-learn.org. See: https://github.com/scikit-learn/scikit-learn/issues/21755 */display: inline-block !important;position: relative;}#sk-container-id-7 div.sk-text-repr-fallback {display: none;}</style><div id=\"sk-container-id-7\" class=\"sk-top-container\"><div class=\"sk-text-repr-fallback\"><pre>KNeighborsRegressor(metric=&#x27;euclidean&#x27;, n_neighbors=4)</pre><b>In a Jupyter environment, please rerun this cell to show the HTML representation or trust the notebook. <br />On GitHub, the HTML representation is unable to render, please try loading this page with nbviewer.org.</b></div><div class=\"sk-container\" hidden><div class=\"sk-item\"><div class=\"sk-estimator sk-toggleable\"><input class=\"sk-toggleable__control sk-hidden--visually\" id=\"sk-estimator-id-7\" type=\"checkbox\" checked><label for=\"sk-estimator-id-7\" class=\"sk-toggleable__label sk-toggleable__label-arrow\">KNeighborsRegressor</label><div class=\"sk-toggleable__content\"><pre>KNeighborsRegressor(metric=&#x27;euclidean&#x27;, n_neighbors=4)</pre></div></div></div></div></div>"
      ],
      "text/plain": [
       "KNeighborsRegressor(metric='euclidean', n_neighbors=4)"
      ]
     },
     "execution_count": 301,
     "metadata": {},
     "output_type": "execute_result"
    }
   ],
   "source": [
    "#Define model\n",
    "regressor = KNeighborsRegressor(n_neighbors=4, p=2, metric ='euclidean') #p=2 is using euclidean distance and K=4\n",
    "regressor.fit(X_train, y_train)"
   ]
  },
  {
   "cell_type": "markdown",
   "id": "3c2272a0-9a7e-4520-9308-11b7fb9bd874",
   "metadata": {},
   "source": [
    "Make predictions on the test set"
   ]
  },
  {
   "cell_type": "code",
   "execution_count": 304,
   "id": "7bd3d98b-c05f-44c6-b889-1c5f371b4319",
   "metadata": {},
   "outputs": [],
   "source": [
    "y_pred = regressor.predict(X_test)"
   ]
  },
  {
   "cell_type": "markdown",
   "id": "badb87b0-d535-49eb-829d-803d5d15bebf",
   "metadata": {},
   "source": [
    "Evaluating the model"
   ]
  },
  {
   "cell_type": "code",
   "execution_count": 307,
   "id": "05c0b41a-d873-4dca-8dde-3c146319e3f6",
   "metadata": {},
   "outputs": [
    {
     "data": {
      "text/plain": [
       "0.002310130376344086"
      ]
     },
     "execution_count": 307,
     "metadata": {},
     "output_type": "execute_result"
    }
   ],
   "source": [
    "mse = mean_squared_error(y_test, y_pred)\n",
    "mse"
   ]
  },
  {
   "cell_type": "markdown",
   "id": "09d0ff75-7301-4609-9bd0-d66e9439e830",
   "metadata": {},
   "source": [
    "Creating a function for predicting new values with input k"
   ]
  },
  {
   "cell_type": "code",
   "execution_count": 310,
   "id": "fc80c965-7fe1-4527-9807-047c2a15a2b1",
   "metadata": {},
   "outputs": [],
   "source": [
    "def get_error(k):\n",
    "    #Split dataset\n",
    "    X = merged_stats[['AVG', 'SLG', 'R']]\n",
    "    y = merged_stats['OBP']\n",
    "    X_train, X_test, y_train, y_test = train_test_split(X, y, random_state=0, test_size=0.2)\n",
    "\n",
    "    #Scaling\n",
    "    scaler_X = StandardScaler()\n",
    "    X_train = scaler_X.fit_transform(X_train)\n",
    "    X_test = scaler_X.transform(X_test)\n",
    "\n",
    "    #Defining the model\n",
    "    regressor = KNeighborsRegressor(n_neighbors=k, p=2, metric ='euclidean') #p=2 is using euclidean distance\n",
    "    regressor.fit(X_train, y_train)\n",
    "\n",
    "    #Making predictions\n",
    "    y_pred_test = regressor.predict(X_test)\n",
    "    y_pred_train = regressor.predict(X_train)\n",
    "    mse_test = mean_squared_error(y_test, y_pred_test)\n",
    "    mse_train = mean_squared_error(y_train, y_pred_train)\n",
    "    return (mse_test, mse_train)"
   ]
  },
  {
   "cell_type": "markdown",
   "id": "72fb5faa-c675-4fe9-9ab3-ccc20df81d7a",
   "metadata": {},
   "source": [
    "Iterating with different values of k"
   ]
  },
  {
   "cell_type": "code",
   "execution_count": 313,
   "id": "adabb558-cb0e-4452-b73e-1209fa6d3720",
   "metadata": {},
   "outputs": [],
   "source": [
    "test_pred = []\n",
    "train_pred = []\n",
    "k = []\n",
    "for i in range(1, 20):\n",
    "    errors = get_error(i)\n",
    "    #Adding the values to the lists\n",
    "    test_pred.append(errors[0])\n",
    "    train_pred.append(errors[1])\n",
    "    k.append(i)"
   ]
  },
  {
   "cell_type": "markdown",
   "id": "1c205614-53fb-4f78-8653-e7c52aa8eebd",
   "metadata": {},
   "source": [
    "Plotting a graph of MSE against K"
   ]
  },
  {
   "cell_type": "code",
   "execution_count": 316,
   "id": "1dd2d220-0e9a-4222-aafd-64e7623db456",
   "metadata": {},
   "outputs": [
    {
     "data": {
      "image/png": "[encoded data removed]",
      "text/plain": [
       "<Figure size 640x480 with 1 Axes>"
      ]
     },
     "metadata": {},
     "output_type": "display_data"
    }
   ],
   "source": [
    "plt.plot(k, test_pred, label='Test MSE')\n",
    "plt.plot(k, train_pred, label='Train MSE')\n",
    "plt.xlabel('K value')\n",
    "plt.ylabel('Mean Squared Error')\n",
    "plt.title('K-Nearest Neighbors Regressor Performance')\n",
    "plt.grid(True)\n",
    "plt.legend()\n",
    "plt.show()"
   ]
  },
  {
   "cell_type": "markdown",
   "id": "c1dd3f88-13a4-488a-8d25-a1a3143f36f2",
   "metadata": {},
   "source": [
    "After analyzing, the best value of K is 3, and the MSE value is"
   ]
  },
  {
   "cell_type": "code",
   "execution_count": 319,
   "id": "501a9982-5ee4-4523-adbc-87f8e873f32c",
   "metadata": {},
   "outputs": [
    {
     "data": {
      "text/plain": [
       "0.002478767025089606"
      ]
     },
     "execution_count": 319,
     "metadata": {},
     "output_type": "execute_result"
    }
   ],
   "source": [
    "regressor = KNeighborsRegressor(n_neighbors=3, p=2, metric ='euclidean') #p=2 is using euclidean distance\n",
    "regressor.fit(X_train, y_train)\n",
    "y_pred = regressor.predict(X_test)\n",
    "mse_3 = mean_squared_error(y_test, y_pred)\n",
    "mse_3"
   ]
  },
  {
   "cell_type": "markdown",
   "id": "28782996-7d9f-4858-8cfc-3a652765ba08",
   "metadata": {},
   "source": [
    "Therefore, lets try to test the MSE on other combinations of features of 3 using the best K value"
   ]
  },
  {
   "cell_type": "markdown",
   "id": "912d64fc-d473-4294-a191-1ba75e53d795",
   "metadata": {},
   "source": [
    "Getting all combinations of 3 that is relevant to the target variable OBP"
   ]
  },
  {
   "cell_type": "code",
   "execution_count": 323,
   "id": "20590614-2a96-48ec-a480-7d736abdb65c",
   "metadata": {},
   "outputs": [
    {
     "name": "stdout",
     "output_type": "stream",
     "text": [
      "[('HR', 'R', 'RBI'), ('HR', 'R', 'SB'), ('HR', 'R', 'AVG'), ('HR', 'R', 'SLG'), ('HR', 'RBI', 'SB'), ('HR', 'RBI', 'AVG'), ('HR', 'RBI', 'SLG'), ('HR', 'SB', 'AVG'), ('HR', 'SB', 'SLG'), ('HR', 'AVG', 'SLG'), ('R', 'RBI', 'SB'), ('R', 'RBI', 'AVG'), ('R', 'RBI', 'SLG'), ('R', 'SB', 'AVG'), ('R', 'SB', 'SLG'), ('R', 'AVG', 'SLG'), ('RBI', 'SB', 'AVG'), ('RBI', 'SB', 'SLG'), ('RBI', 'AVG', 'SLG'), ('SB', 'AVG', 'SLG')]\n"
     ]
    }
   ],
   "source": [
    "combinations = list(itertools.combinations(['HR', 'R', 'RBI', 'SB', 'AVG', 'SLG'], 3))\n",
    "print(combinations)"
   ]
  },
  {
   "cell_type": "markdown",
   "id": "1d62e5f5-81c9-4893-bee5-cac25fd2b220",
   "metadata": {},
   "source": [
    "Finding the MSE of each combination"
   ]
  },
  {
   "cell_type": "markdown",
   "id": "2280f1c8-2e40-433b-a337-e1b352fd9353",
   "metadata": {},
   "source": [
    "Defining a function with the best k value gotten from before"
   ]
  },
  {
   "cell_type": "code",
   "execution_count": 327,
   "id": "66f17d45-33d9-4f58-8a50-6ef6c03cc80b",
   "metadata": {},
   "outputs": [],
   "source": [
    "def get_mse(combination):\n",
    "    #Split dataset\n",
    "    X = merged_stats[combination]\n",
    "    y = merged_stats['OBP']\n",
    "    X_train, X_test, y_train, y_test = train_test_split(X, y, test_size=0.2)\n",
    "\n",
    "    #Scaling\n",
    "    scaler_X = StandardScaler()\n",
    "    X_train = scaler_X.fit_transform(X_train)\n",
    "    X_test = scaler_X.transform(X_test)\n",
    "\n",
    "    #Defining the model\n",
    "    regressor = KNeighborsRegressor(n_neighbors=3, p=2, metric ='euclidean') #p=2 is using euclidean distance\n",
    "    regressor.fit(X_train, y_train)\n",
    "\n",
    "    #Making predictions\n",
    "    y_pred_test = regressor.predict(X_test)\n",
    "    mse_test = mean_squared_error(y_test, y_pred_test)\n",
    "    return mse_test"
   ]
  },
  {
   "cell_type": "markdown",
   "id": "b80a1858-fb1f-418a-b1f2-8f09f42cdaec",
   "metadata": {},
   "source": [
    "Find the MSE"
   ]
  },
  {
   "cell_type": "code",
   "execution_count": 330,
   "id": "2864220d-2da5-4a25-9e47-2ee32724e997",
   "metadata": {},
   "outputs": [
    {
     "name": "stdout",
     "output_type": "stream",
     "text": [
      "[0.004287090800477898, 0.0068135925925925924, 0.0021503990442054964, 0.0025847933094384707, 0.001830980884109916, 0.0038410035842293914, 0.0023032078853046593, 0.004070225806451613, 0.002168960573476702, 0.002811861409796893, 0.0023479880525686973, 0.0021102437275985655, 0.0028159151732377536, 0.004366397849462368, 0.0027395400238948626, 0.0023996690561529275, 0.0022850896057347663, 0.002447571087216248, 0.002131037037037037, 0.003239118279569891]\n"
     ]
    }
   ],
   "source": [
    "combinations_mse = []\n",
    "lowest_mse_combinations = []\n",
    "for combo in combinations:\n",
    "    temp_mse = get_mse(list(combo))\n",
    "    combinations_mse.append(temp_mse)\n",
    "print(combinations_mse)"
   ]
  },
  {
   "cell_type": "markdown",
   "id": "ab280775-dc5c-4d1c-a39b-c16388f1d149",
   "metadata": {},
   "source": [
    "Where is it the minimum?"
   ]
  },
  {
   "cell_type": "code",
   "execution_count": 333,
   "id": "42c4ceb1-e45a-4cbf-bc59-2d2e829c3cab",
   "metadata": {},
   "outputs": [
    {
     "name": "stdout",
     "output_type": "stream",
     "text": [
      "0.001830980884109916\n",
      "[('HR', 'RBI', 'SB')]\n"
     ]
    }
   ],
   "source": [
    "print(min(combinations_mse))\n",
    "combination_index = combinations_mse.index(min(combinations_mse))\n",
    "lowest_mse_combinations.append(combinations[combination_index])\n",
    "print(lowest_mse_combinations)"
   ]
  },
  {
   "cell_type": "markdown",
   "id": "a02a37e4-ced8-4bd9-91d9-14b9a5253e70",
   "metadata": {},
   "source": [
    "Now, I want to find out which features appears the most in the combinations with the lowest MSE"
   ]
  },
  {
   "cell_type": "markdown",
   "id": "c7e1f11d-f2d9-4b43-9aed-e42234806bb5",
   "metadata": {},
   "source": [
    "Creating the function"
   ]
  },
  {
   "cell_type": "code",
   "execution_count": 337,
   "id": "6d03b4e2-a4b8-4f24-a374-850ae222dce1",
   "metadata": {},
   "outputs": [],
   "source": [
    "def get_frequent_feature():\n",
    "    combinations_mse = []\n",
    "    for combo in combinations:\n",
    "        temp_mse = get_mse(list(combo))\n",
    "        combinations_mse.append(temp_mse)\n",
    "    combination_index = combinations_mse.index(min(combinations_mse))\n",
    "    lowest_mse_combinations.append(combinations[combination_index])"
   ]
  },
  {
   "cell_type": "markdown",
   "id": "fce46f4c-6894-492f-baca-870ec0776285",
   "metadata": {},
   "source": [
    "Iterating 60 times to see which 2 features pops up the most"
   ]
  },
  {
   "cell_type": "code",
   "execution_count": 340,
   "id": "56d6c655-b159-49d7-b432-71306117267c",
   "metadata": {},
   "outputs": [],
   "source": [
    "for i in range(0, 60):\n",
    "    get_frequent_feature()"
   ]
  },
  {
   "cell_type": "markdown",
   "id": "bae81f24-a1ac-4abe-9aa2-c1cd217ffed3",
   "metadata": {},
   "source": [
    "Counting the frequency of each feature in the triplets and getting the two most frequent features"
   ]
  },
  {
   "cell_type": "code",
   "execution_count": 343,
   "id": "d66c9d3a-7818-436b-8e89-57a97a603be7",
   "metadata": {},
   "outputs": [
    {
     "name": "stdout",
     "output_type": "stream",
     "text": [
      "[('AVG', 42), ('SLG', 34)]\n"
     ]
    }
   ],
   "source": [
    "# Count the frequency of each feature in the triplets\n",
    "feature_counter = Counter()\n",
    "for triplet in lowest_mse_combinations:\n",
    "    feature_counter.update(triplet)\n",
    "\n",
    "# Get the two most frequent features\n",
    "most_common_features = feature_counter.most_common(2)\n",
    "print(most_common_features)"
   ]
  },
  {
   "cell_type": "markdown",
   "id": "b4b1e36a-7a4b-447f-9d01-f285377552a5",
   "metadata": {},
   "source": [
    "Create a pie chart to show the trend of each feature"
   ]
  },
  {
   "cell_type": "code",
   "execution_count": 346,
   "id": "ccdd8917-88f6-4385-987a-abddb3ab7bbd",
   "metadata": {},
   "outputs": [
    {
     "data": {
      "image/png": "[encoded data removed]",
      "text/plain": [
       "<Figure size 640x480 with 1 Axes>"
      ]
     },
     "metadata": {},
     "output_type": "display_data"
    }
   ],
   "source": [
    "for triplet in lowest_mse_combinations:\n",
    "    feature_counter.update(triplet)\n",
    "\n",
    "# Extract the features and their counts\n",
    "features = list(feature_counter.keys())\n",
    "counts = list(feature_counter.values())\n",
    "\n",
    "# Create a bar chart for the frequencies of all features\n",
    "fig, ax = plt.subplots()\n",
    "ax.bar(features, counts, color='skyblue')\n",
    "ax.set_xlabel('Features')\n",
    "ax.set_ylabel('Frequency')\n",
    "ax.set_title('Frequency of Features in Lowest MSE Combinations')\n",
    "ax.set_xticks(features)\n",
    "ax.set_xticklabels(features)\n",
    "\n",
    "plt.show()"
   ]
  },
  {
   "cell_type": "markdown",
   "id": "4f2bd47a-1038-40bf-985a-e8640dc5f8fc",
   "metadata": {},
   "source": [
    "Therefore these are the features with the most significant contributions"
   ]
  },
  {
   "cell_type": "markdown",
   "id": "b1d8e202-fa89-4efb-b797-03b919eb675e",
   "metadata": {},
   "source": [
    "Graphing the data distribution"
   ]
  },
  {
   "cell_type": "code",
   "execution_count": 359,
   "id": "065fa404-3640-4a0e-baf0-834f9b837170",
   "metadata": {},
   "outputs": [
    {
     "data": {
      "application/vnd.plotly.v1+json": {
       "config": {
        "plotlyServerURL": "https://plot.ly"
       },
       "data": [
        {
         "hovertemplate": "AVG=%{x}<br>SLG=%{y}<br>OBP=%{marker.color}<extra></extra>",
         "legendgroup": "",
         "marker": {
          "color": [
           0.33,
           0.365,
           0.315,
           0.367,
           0.416,
           0.333,
           0.329,
           0.344,
           0.372,
           0.267,
           0.353,
           0.364,
           0.317,
           0.35,
           0.41,
           0.356,
           0.335,
           0.346,
           0.327,
           0.353,
           0.393,
           0.363,
           0.339,
           0.362,
           0.325,
           0.333,
           0.363,
           0.303,
           0.328,
           0.305,
           0.373,
           0.305,
           0.348,
           0.328,
           0.339,
           0.33,
           0.329,
           0.389,
           0.31,
           0.353,
           0.325,
           0.319,
           0.41,
           0.328,
           0.289,
           0.324,
           0.334,
           0.328,
           0.339,
           0.306,
           0.318,
           0.356,
           0.315,
           0.336,
           0.301,
           0.367,
           0.307,
           0.324,
           0.374,
           0.346,
           0.36,
           0.412,
           0.314,
           0.297,
           0.369,
           0.345,
           0.352,
           0.33,
           0.309,
           0.328,
           0.34,
           0.41,
           0.352,
           0.345,
           0.254,
           0.283,
           0.333,
           0.294,
           0.363,
           0.304,
           0.318,
           0.324,
           0.364,
           0.39,
           0.315,
           0.311,
           0.38,
           0.307,
           0.278,
           0.321,
           0.318,
           0.286,
           0.353,
           0.338,
           0.407,
           0.291,
           0.316,
           0.406,
           0.333,
           0.293,
           0.297,
           0.322,
           0.321,
           0.309,
           0.322,
           0.359,
           0.271,
           0.408,
           0.312,
           0.304,
           0.34,
           0.319,
           0.301,
           0.358,
           0.296,
           0.36,
           0.351,
           0.357,
           0.315,
           0.302,
           0.309,
           0.367,
           0.327,
           0.339,
           0.258,
           0.302,
           0.295,
           0.315,
           0.31,
           0.303,
           0.332,
           0.268,
           0.347,
           0.283,
           0.336,
           0.283,
           0.257,
           0.325,
           0.306,
           0.327,
           0.306,
           0.3,
           0.317,
           0.309,
           0.336,
           0.358,
           0.323,
           0.319,
           0.329,
           0.321,
           0.319,
           0.301,
           0.335,
           0.314,
           0.28,
           0.326,
           0.309,
           0.322,
           0.349,
           0.281,
           0.296,
           0.292,
           0.314,
           0.285,
           0.282,
           0.3,
           0.344,
           0.275,
           0.308,
           0.378,
           0.317,
           0.304,
           0.369,
           0.338,
           0.275,
           0.343,
           0.31,
           0.32,
           0.293,
           0.304,
           0.333,
           0.263,
           0.266,
           0.273,
           0.355,
           0.305,
           0.297,
           0.31,
           0.348,
           0.311,
           0.322,
           0.234,
           0.311,
           0.349,
           0.257,
           0.315,
           0.327,
           0.348,
           0.305,
           0.267,
           0.37,
           0.324,
           0.303,
           0.309,
           0.276,
           0.297,
           0.316,
           0.267,
           0.385,
           0.334,
           0.328,
           0.37,
           0.319,
           0.34,
           0.321,
           0.285,
           0.355,
           0.339,
           0.312,
           0.343,
           0.361,
           0.375,
           0.23,
           0.272,
           0.342,
           0.248,
           0.372,
           0.268,
           0.263,
           0.292,
           0.296,
           0.288,
           0.31,
           0.351,
           0.274,
           0.286,
           0.259,
           0.381,
           0.308,
           0.289,
           0.35,
           0.315,
           0.329,
           0.158,
           0.286,
           0.317,
           0.246,
           0.267,
           0.295,
           0.232,
           0.328,
           0.369,
           0.277,
           0.339,
           0.338,
           0.236,
           0.335,
           0.333,
           0.357,
           0.317,
           0.333,
           0.328,
           0.25,
           0.311,
           0.326,
           0.296,
           0.322,
           0.31,
           0.28,
           0.281,
           0.247,
           0.327,
           0.305,
           0.312,
           0.308,
           0.309,
           0.305,
           0.307,
           0.365,
           0.279,
           0.283,
           0.273,
           0.264,
           0.308,
           0.186,
           0.268,
           0.233,
           0.308,
           0.278,
           0.667,
           0.288,
           0.365,
           0.283,
           0.231,
           0.206,
           0.295,
           0.269,
           0.284,
           0.152,
           0.383,
           0.29,
           0.317,
           0.347,
           0.356,
           0.111,
           0.339,
           0.235,
           0.267,
           0.292,
           0.2,
           0.345,
           0.288,
           0.29,
           0.339,
           0.259,
           0.34,
           0.312,
           0.349,
           0.299,
           0.343,
           0.304,
           0.308,
           0.331,
           0.321,
           0.312,
           0.32,
           0.331,
           0.196,
           0.249,
           0.278,
           0.341,
           0.337,
           0.275,
           0.2,
           0.304,
           0.285,
           0.287,
           0.363,
           0.3,
           0.326,
           0.318,
           0.154,
           0.241,
           0.3,
           0.263,
           0.304,
           0.248,
           0.229,
           0.235,
           0.285,
           0.261,
           0.188,
           0.313,
           0.233,
           0.235,
           0.268,
           0.333,
           0.322,
           0.125,
           0.111,
           0.273,
           0.244,
           0.25,
           0.3,
           0.354,
           0.37,
           0.258,
           0.241,
           0.295,
           0.256,
           0.204,
           0.304,
           0.304,
           0.053,
           0.325,
           0.293,
           0.317,
           0.247,
           0.304,
           0.237,
           0.244,
           0.325,
           0.315,
           0.356,
           0.312,
           0.325,
           0.286,
           0.091,
           0.274,
           0.282,
           0.269,
           0.315,
           0.299,
           0.306,
           0.288,
           0.301,
           0.321,
           0.211,
           0.31,
           0.299,
           0.302,
           0.263,
           0.238,
           0.13,
           0.26,
           0.263,
           0.29,
           0.311,
           0.305,
           0.192,
           0.309,
           0.22,
           0.306,
           0.257,
           0.231,
           0.288,
           0.328,
           0.364,
           0.365,
           0.288,
           0.313,
           0.239,
           0.278,
           0.2,
           0.275,
           0.335,
           0.318,
           0.275,
           0.316,
           0.369,
           0.253,
           0.257,
           0.304,
           0.216,
           0.258,
           0.29,
           0.313,
           0.256,
           0.34,
           0.327,
           0.153,
           0.215,
           0.231,
           0.367,
           0.284,
           0.326,
           0.224,
           0.256,
           0.208,
           0.353,
           0.322,
           0.125,
           0.303,
           0.185,
           0.277,
           0.321,
           0.213,
           0.295,
           0.346,
           0.296,
           0.274,
           0.28,
           0.239,
           0.294
          ],
          "coloraxis": "coloraxis",
          "symbol": "circle"
         },
         "mode": "markers",
         "name": "",
         "orientation": "v",
         "showlegend": false,
         "type": "scatter",
         "x": [
          0.372,
          0.274,
          0.34,
          0.317,
          0.353,
          0.257,
          0.358,
          0.292,
          0.321,
          0.333,
          0.289,
          0.33,
          0.292,
          0.29,
          0.326,
          0.307,
          0.342,
          0.33,
          0.31,
          0.39,
          0.439,
          0.341,
          0.297,
          0.311,
          0.33,
          0.302,
          0.298,
          0.483,
          0.266,
          0.306,
          0.254,
          0.255,
          0.262,
          0.238,
          0.288,
          0.323,
          0.319,
          0.245,
          0.237,
          0.338,
          0.296,
          0.39,
          0.298,
          0.283,
          0.258,
          0.238,
          0.281,
          0.257,
          0.298,
          0.231,
          0.268,
          0.286,
          0.278,
          0.221,
          0.226,
          0.297,
          0.259,
          0.304,
          0.255,
          0.396,
          0.287,
          0.292,
          0.25,
          0.269,
          0.29,
          0.302,
          0.315,
          0.298,
          0.242,
          0.264,
          0.282,
          0.217,
          0.27,
          0.258,
          0.259,
          0.222,
          0.24,
          0.25,
          0.235,
          0.255,
          0.287,
          0.287,
          0.239,
          0.361,
          0.317,
          0.308,
          0.241,
          0.256,
          0.244,
          0.341,
          0.333,
          0.213,
          0.275,
          0.278,
          0.267,
          0.256,
          0.342,
          0.25,
          0.217,
          0.305,
          0.286,
          0.271,
          0.263,
          0.312,
          0.265,
          0.256,
          0.25,
          0.242,
          0.237,
          0.259,
          0.24,
          0.226,
          0.277,
          0.261,
          0.29,
          0.255,
          0.224,
          0.302,
          0.2,
          0.276,
          0.24,
          0.239,
          0.31,
          0.313,
          0.348,
          0.35,
          0.296,
          0.278,
          0.25,
          0.298,
          0.263,
          0.227,
          0.242,
          0.323,
          0.245,
          0.226,
          0.232,
          0.197,
          0.244,
          0.25,
          0.357,
          0.5,
          0.296,
          0.252,
          0.245,
          0.264,
          0.24,
          0.36,
          0.295,
          0.217,
          0.233,
          0.241,
          0.333,
          0.255,
          0.246,
          0.2,
          0.24,
          0.242,
          0.409,
          0.282,
          0.28,
          0.667,
          0.5,
          0.194,
          0.545,
          0.235,
          0.244,
          0.333,
          0.25,
          0.25,
          0.279,
          0.304,
          0.27,
          0.265,
          0.271,
          0.308,
          0.264,
          0.261,
          0.333,
          0.208,
          0.245,
          0.27,
          0.313,
          0.176,
          0.274,
          0.267,
          0.3,
          0.302,
          0.265,
          0.231,
          0.268,
          0.158,
          0.289,
          0.267,
          0.26,
          0.202,
          0.227,
          0.5,
          0.225,
          0.302,
          0.263,
          0.302,
          0.273,
          0.275,
          0.273,
          0.278,
          0.276,
          0.219,
          0.273,
          0.203,
          0.261,
          0.228,
          0.207,
          0.217,
          0.5,
          0.156,
          0.241,
          0.261,
          0.202,
          0.214,
          0.258,
          0.233,
          0.182,
          0.237,
          0.279,
          0.239,
          0.279,
          0.154,
          0.191,
          0.268,
          0.234,
          0.25,
          0.25,
          0.177,
          0.195,
          0.256,
          0.211,
          0.222,
          0.25,
          0.253,
          0.5,
          0.264,
          0.29,
          0.286,
          0.25,
          0.287,
          0.333,
          0.23,
          0.286,
          0.222,
          0.243,
          0.286,
          0.172,
          0.176,
          0,
          0.158,
          0.206,
          0.333,
          0.254,
          0.231,
          0.261,
          0.214,
          0.176,
          0.3,
          0.287,
          0.259,
          0.294,
          0.222,
          0.265,
          0.263,
          0.267,
          0.257,
          0.23,
          0.179,
          0.25,
          0.077,
          0.208,
          0.368,
          0.26,
          0,
          0.273,
          0.198,
          0.222,
          0,
          0.214,
          0,
          0.143,
          0.271,
          0.27,
          0,
          0.25,
          0.196,
          0,
          0,
          0.25,
          0.216,
          0.194,
          0.194,
          0.125,
          0.111,
          0.208,
          0.2,
          0.25,
          0.238,
          0.2,
          0.209,
          0.111,
          0.172,
          0.222,
          0.25,
          0.25,
          0.25,
          0,
          0.219,
          0.214,
          0.25,
          0.241,
          0.231,
          0.204,
          0.15,
          0.146,
          0.235,
          0.19,
          0.143,
          0.204,
          0.245,
          0.25,
          0.286,
          0.083,
          0.227,
          0.207,
          0.221,
          0.179,
          0.136,
          0.261,
          0.2,
          0.213,
          0.247,
          0.25,
          0.167,
          0.254,
          0.083,
          0.206,
          0.231,
          0.25,
          0.234,
          0,
          0.15,
          0.071,
          0.208,
          0.211,
          0.159,
          0.283,
          0.192,
          0.077,
          0.246,
          0.294,
          0,
          0.1,
          0.133,
          0.242,
          0.167,
          0,
          0.205,
          0.208,
          0,
          0.2,
          0.25,
          0.239,
          0.224,
          0.154,
          0.202,
          0.083,
          0.1,
          0.211,
          0.222,
          0.225,
          0.1,
          0.25,
          0.212,
          0.1,
          0.205,
          0.231,
          0.247,
          0,
          0.083,
          0.154,
          0,
          0.118,
          0.179,
          0.16,
          0.231,
          0.259,
          0.2,
          0.173,
          0.195,
          0.28,
          0.151,
          0.186,
          0.1,
          0.125,
          0.063,
          0.118,
          0.143,
          0.155,
          0.209,
          0.083,
          0.23,
          0.218,
          0.1,
          0.237,
          0.197,
          0.091,
          0.218,
          0.059,
          0.16,
          0.171,
          0.091,
          0.063,
          0.214,
          0.298,
          0.125,
          0.122,
          0.155,
          0.242,
          0.182,
          0.161,
          0.21,
          0.18,
          0.164,
          0.169,
          0.211,
          0.266,
          0.111,
          0.155,
          0.214,
          0.215,
          0.175,
          0.111,
          0.19,
          0.122,
          0.118,
          0.2,
          0.137,
          0.216,
          0.217,
          0.151,
          0.093,
          0.118,
          0.159,
          0.184,
          0.04,
          0.157,
          0.132,
          0.217,
          0.219,
          0.113,
          0.207,
          0.091,
          0.231,
          0.176,
          0.134,
          0.159,
          0.136
         ],
         "xaxis": "x",
         "y": [
          0.691,
          0.616,
          0.53,
          0.606,
          0.559,
          0.743,
          0.791,
          0.519,
          0.617,
          0.667,
          0.6,
          0.585,
          0.583,
          0.49,
          0.598,
          0.625,
          0.632,
          0.443,
          0.631,
          0.627,
          0.549,
          0.466,
          0.656,
          0.544,
          0.568,
          0.43,
          0.5,
          1.138,
          0.33,
          0.581,
          0.552,
          0.436,
          0.458,
          0.536,
          0.575,
          0.586,
          0.429,
          0.561,
          0.433,
          0.634,
          0.543,
          0.61,
          0.471,
          0.485,
          0.663,
          0.476,
          0.404,
          0.535,
          0.491,
          0.5,
          0.567,
          0.469,
          0.515,
          0.463,
          0.717,
          0.405,
          0.481,
          0.464,
          0.378,
          0.646,
          0.447,
          0.547,
          0.391,
          0.538,
          0.452,
          0.491,
          0.449,
          0.532,
          0.661,
          0.529,
          0.33,
          0.413,
          0.461,
          0.454,
          0.586,
          0.344,
          0.442,
          0.543,
          0.367,
          0.418,
          0.447,
          0.515,
          0.433,
          0.556,
          0.571,
          0.505,
          0.367,
          0.354,
          0.427,
          0.537,
          0.431,
          0.447,
          0.5,
          0.381,
          0.507,
          0.573,
          0.5,
          0.477,
          0.617,
          0.542,
          0.468,
          0.583,
          0.575,
          0.398,
          0.412,
          0.535,
          0.5,
          0.421,
          0.462,
          0.483,
          0.48,
          0.4,
          0.313,
          0.478,
          0.435,
          0.462,
          0.561,
          0.396,
          0.411,
          0.466,
          0.385,
          0.391,
          0.414,
          0.418,
          0.696,
          0.9,
          0.537,
          0.5,
          0.458,
          0.393,
          0.491,
          0.477,
          0.396,
          0.565,
          0.5,
          0.369,
          0.375,
          0.324,
          0.489,
          0.452,
          0.5,
          1.25,
          0.494,
          0.301,
          0.415,
          0.402,
          0.33,
          0.6,
          0.41,
          0.391,
          0.398,
          0.5,
          0.59,
          0.431,
          0.295,
          0.291,
          0.427,
          0.451,
          0.5,
          0.521,
          0.56,
          1.167,
          0.625,
          0.29,
          0.636,
          0.4,
          0.372,
          0.467,
          0.327,
          0.477,
          0.488,
          0.457,
          0.459,
          0.458,
          0.583,
          0.462,
          0.429,
          0.361,
          0.462,
          0.306,
          0.436,
          0.324,
          0.75,
          0.368,
          0.479,
          0.567,
          0.443,
          0.395,
          0.49,
          0.385,
          0.463,
          0.184,
          0.378,
          0.467,
          0.36,
          0.414,
          0.364,
          0.625,
          0.461,
          0.442,
          0.579,
          0.444,
          0.341,
          0.407,
          0.394,
          0.426,
          0.483,
          0.406,
          0.351,
          0.378,
          0.348,
          0.347,
          0.379,
          0.464,
          0.75,
          0.422,
          0.392,
          0.348,
          0.36,
          0.439,
          0.303,
          0.267,
          0.303,
          0.356,
          0.412,
          0.37,
          0.344,
          0.231,
          0.255,
          0.433,
          0.325,
          0.375,
          0.375,
          0.278,
          0.341,
          0.359,
          0.526,
          0.444,
          0.4,
          0.411,
          1,
          0.308,
          0.344,
          0.286,
          1,
          0.351,
          0.583,
          0.287,
          0.429,
          0.333,
          0.443,
          0.365,
          0.483,
          0.324,
          0,
          0.355,
          0.314,
          0.5,
          0.373,
          0.385,
          0.348,
          0.381,
          0.235,
          0.45,
          0.333,
          0.333,
          0.353,
          0.278,
          0.397,
          0.263,
          0.317,
          0.371,
          0.419,
          0.375,
          0.333,
          0.077,
          0.325,
          0.368,
          0.338,
          0,
          0.273,
          0.346,
          0.222,
          0,
          0.286,
          0,
          0.571,
          0.376,
          0.324,
          0,
          0.275,
          0.283,
          0,
          0,
          0.25,
          0.412,
          0.419,
          0.278,
          0.125,
          0.111,
          0.208,
          0.333,
          0.25,
          0.429,
          0.8,
          0.269,
          0.333,
          0.207,
          0.278,
          0.25,
          0.356,
          0.321,
          0,
          0.356,
          0.31,
          0.375,
          0.329,
          0.327,
          0.333,
          0.2,
          0.208,
          0.294,
          0.238,
          0.143,
          0.315,
          0.306,
          0.313,
          0.357,
          0.333,
          0.273,
          0.425,
          0.305,
          0.282,
          0.341,
          0.386,
          0.2,
          0.313,
          0.348,
          0.3,
          0.409,
          0.322,
          0.125,
          0.365,
          0.436,
          0.365,
          0.364,
          0,
          0.3,
          0.071,
          0.319,
          0.368,
          0.205,
          0.413,
          0.269,
          0.077,
          0.295,
          0.324,
          0,
          0.1,
          0.133,
          0.364,
          0.167,
          0,
          0.333,
          0.351,
          0,
          0.311,
          0.25,
          0.343,
          0.449,
          0.231,
          0.245,
          0.083,
          0.1,
          0.4,
          0.378,
          0.338,
          0.1,
          0.345,
          0.394,
          0.1,
          0.352,
          0.231,
          0.371,
          0,
          0.083,
          0.308,
          0,
          0.118,
          0.282,
          0.36,
          0.306,
          0.376,
          0.2,
          0.37,
          0.286,
          0.364,
          0.396,
          0.256,
          0.167,
          0.125,
          0.063,
          0.118,
          0.19,
          0.241,
          0.302,
          0.083,
          0.344,
          0.333,
          0.15,
          0.263,
          0.311,
          0.227,
          0.321,
          0.059,
          0.16,
          0.2,
          0.091,
          0.063,
          0.268,
          0.319,
          0.344,
          0.171,
          0.345,
          0.273,
          0.242,
          0.268,
          0.296,
          0.326,
          0.273,
          0.237,
          0.282,
          0.359,
          0.222,
          0.241,
          0.286,
          0.323,
          0.19,
          0.244,
          0.286,
          0.122,
          0.275,
          0.309,
          0.301,
          0.255,
          0.261,
          0.245,
          0.093,
          0.176,
          0.159,
          0.224,
          0.04,
          0.205,
          0.208,
          0.241,
          0.344,
          0.132,
          0.38,
          0.218,
          0.269,
          0.189,
          0.195,
          0.27,
          0.203
         ],
         "yaxis": "y"
        }
       ],
       "layout": {
        "autosize": true,
        "coloraxis": {
         "colorbar": {
          "title": {
           "text": "OBP"
          }
         },
         "colorscale": [
          [
           0,
           "#0508b8"
          ],
          [
           0.08333333333333333,
           "#1910d8"
          ],
          [
           0.16666666666666666,
           "#3c19f0"
          ],
          [
           0.25,
           "#6b1cfb"
          ],
          [
           0.3333333333333333,
           "#981cfd"
          ],
          [
           0.4166666666666667,
           "#bf1cfd"
          ],
          [
           0.5,
           "#dd2bfd"
          ],
          [
           0.5833333333333334,
           "#f246fe"
          ],
          [
           0.6666666666666666,
           "#fc67fd"
          ],
          [
           0.75,
           "#fe88fc"
          ],
          [
           0.8333333333333334,
           "#fea5fd"
          ],
          [
           0.9166666666666666,
           "#febefe"
          ],
          [
           1,
           "#fec3fe"
          ]
         ]
        },
        "legend": {
         "tracegroupgap": 0
        },
        "template": {
         "data": {
          "bar": [
           {
            "error_x": {
             "color": "#2a3f5f"
            },
            "error_y": {
             "color": "#2a3f5f"
            },
            "marker": {
             "line": {
              "color": "#E5ECF6",
              "width": 0.5
             },
             "pattern": {
              "fillmode": "overlay",
              "size": 10,
              "solidity": 0.2
             }
            },
            "type": "bar"
           }
          ],
          "barpolar": [
           {
            "marker": {
             "line": {
              "color": "#E5ECF6",
              "width": 0.5
             },
             "pattern": {
              "fillmode": "overlay",
              "size": 10,
              "solidity": 0.2
             }
            },
            "type": "barpolar"
           }
          ],
          "carpet": [
           {
            "aaxis": {
             "endlinecolor": "#2a3f5f",
             "gridcolor": "white",
             "linecolor": "white",
             "minorgridcolor": "white",
             "startlinecolor": "#2a3f5f"
            },
            "baxis": {
             "endlinecolor": "#2a3f5f",
             "gridcolor": "white",
             "linecolor": "white",
             "minorgridcolor": "white",
             "startlinecolor": "#2a3f5f"
            },
            "type": "carpet"
           }
          ],
          "choropleth": [
           {
            "colorbar": {
             "outlinewidth": 0,
             "ticks": ""
            },
            "type": "choropleth"
           }
          ],
          "contour": [
           {
            "colorbar": {
             "outlinewidth": 0,
             "ticks": ""
            },
            "colorscale": [
             [
              0,
              "#0d0887"
             ],
             [
              0.1111111111111111,
              "#46039f"
             ],
             [
              0.2222222222222222,
              "#7201a8"
             ],
             [
              0.3333333333333333,
              "#9c179e"
             ],
             [
              0.4444444444444444,
              "#bd3786"
             ],
             [
              0.5555555555555556,
              "#d8576b"
             ],
             [
              0.6666666666666666,
              "#ed7953"
             ],
             [
              0.7777777777777778,
              "#fb9f3a"
             ],
             [
              0.8888888888888888,
              "#fdca26"
             ],
             [
              1,
              "#f0f921"
             ]
            ],
            "type": "contour"
           }
          ],
          "contourcarpet": [
           {
            "colorbar": {
             "outlinewidth": 0,
             "ticks": ""
            },
            "type": "contourcarpet"
           }
          ],
          "heatmap": [
           {
            "colorbar": {
             "outlinewidth": 0,
             "ticks": ""
            },
            "colorscale": [
             [
              0,
              "#0d0887"
             ],
             [
              0.1111111111111111,
              "#46039f"
             ],
             [
              0.2222222222222222,
              "#7201a8"
             ],
             [
              0.3333333333333333,
              "#9c179e"
             ],
             [
              0.4444444444444444,
              "#bd3786"
             ],
             [
              0.5555555555555556,
              "#d8576b"
             ],
             [
              0.6666666666666666,
              "#ed7953"
             ],
             [
              0.7777777777777778,
              "#fb9f3a"
             ],
             [
              0.8888888888888888,
              "#fdca26"
             ],
             [
              1,
              "#f0f921"
             ]
            ],
            "type": "heatmap"
           }
          ],
          "heatmapgl": [
           {
            "colorbar": {
             "outlinewidth": 0,
             "ticks": ""
            },
            "colorscale": [
             [
              0,
              "#0d0887"
             ],
             [
              0.1111111111111111,
              "#46039f"
             ],
             [
              0.2222222222222222,
              "#7201a8"
             ],
             [
              0.3333333333333333,
              "#9c179e"
             ],
             [
              0.4444444444444444,
              "#bd3786"
             ],
             [
              0.5555555555555556,
              "#d8576b"
             ],
             [
              0.6666666666666666,
              "#ed7953"
             ],
             [
              0.7777777777777778,
              "#fb9f3a"
             ],
             [
              0.8888888888888888,
              "#fdca26"
             ],
             [
              1,
              "#f0f921"
             ]
            ],
            "type": "heatmapgl"
           }
          ],
          "histogram": [
           {
            "marker": {
             "pattern": {
              "fillmode": "overlay",
              "size": 10,
              "solidity": 0.2
             }
            },
            "type": "histogram"
           }
          ],
          "histogram2d": [
           {
            "colorbar": {
             "outlinewidth": 0,
             "ticks": ""
            },
            "colorscale": [
             [
              0,
              "#0d0887"
             ],
             [
              0.1111111111111111,
              "#46039f"
             ],
             [
              0.2222222222222222,
              "#7201a8"
             ],
             [
              0.3333333333333333,
              "#9c179e"
             ],
             [
              0.4444444444444444,
              "#bd3786"
             ],
             [
              0.5555555555555556,
              "#d8576b"
             ],
             [
              0.6666666666666666,
              "#ed7953"
             ],
             [
              0.7777777777777778,
              "#fb9f3a"
             ],
             [
              0.8888888888888888,
              "#fdca26"
             ],
             [
              1,
              "#f0f921"
             ]
            ],
            "type": "histogram2d"
           }
          ],
          "histogram2dcontour": [
           {
            "colorbar": {
             "outlinewidth": 0,
             "ticks": ""
            },
            "colorscale": [
             [
              0,
              "#0d0887"
             ],
             [
              0.1111111111111111,
              "#46039f"
             ],
             [
              0.2222222222222222,
              "#7201a8"
             ],
             [
              0.3333333333333333,
              "#9c179e"
             ],
             [
              0.4444444444444444,
              "#bd3786"
             ],
             [
              0.5555555555555556,
              "#d8576b"
             ],
             [
              0.6666666666666666,
              "#ed7953"
             ],
             [
              0.7777777777777778,
              "#fb9f3a"
             ],
             [
              0.8888888888888888,
              "#fdca26"
             ],
             [
              1,
              "#f0f921"
             ]
            ],
            "type": "histogram2dcontour"
           }
          ],
          "mesh3d": [
           {
            "colorbar": {
             "outlinewidth": 0,
             "ticks": ""
            },
            "type": "mesh3d"
           }
          ],
          "parcoords": [
           {
            "line": {
             "colorbar": {
              "outlinewidth": 0,
              "ticks": ""
             }
            },
            "type": "parcoords"
           }
          ],
          "pie": [
           {
            "automargin": true,
            "type": "pie"
           }
          ],
          "scatter": [
           {
            "fillpattern": {
             "fillmode": "overlay",
             "size": 10,
             "solidity": 0.2
            },
            "type": "scatter"
           }
          ],
          "scatter3d": [
           {
            "line": {
             "colorbar": {
              "outlinewidth": 0,
              "ticks": ""
             }
            },
            "marker": {
             "colorbar": {
              "outlinewidth": 0,
              "ticks": ""
             }
            },
            "type": "scatter3d"
           }
          ],
          "scattercarpet": [
           {
            "marker": {
             "colorbar": {
              "outlinewidth": 0,
              "ticks": ""
             }
            },
            "type": "scattercarpet"
           }
          ],
          "scattergeo": [
           {
            "marker": {
             "colorbar": {
              "outlinewidth": 0,
              "ticks": ""
             }
            },
            "type": "scattergeo"
           }
          ],
          "scattergl": [
           {
            "marker": {
             "colorbar": {
              "outlinewidth": 0,
              "ticks": ""
             }
            },
            "type": "scattergl"
           }
          ],
          "scattermapbox": [
           {
            "marker": {
             "colorbar": {
              "outlinewidth": 0,
              "ticks": ""
             }
            },
            "type": "scattermapbox"
           }
          ],
          "scatterpolar": [
           {
            "marker": {
             "colorbar": {
              "outlinewidth": 0,
              "ticks": ""
             }
            },
            "type": "scatterpolar"
           }
          ],
          "scatterpolargl": [
           {
            "marker": {
             "colorbar": {
              "outlinewidth": 0,
              "ticks": ""
             }
            },
            "type": "scatterpolargl"
           }
          ],
          "scatterternary": [
           {
            "marker": {
             "colorbar": {
              "outlinewidth": 0,
              "ticks": ""
             }
            },
            "type": "scatterternary"
           }
          ],
          "surface": [
           {
            "colorbar": {
             "outlinewidth": 0,
             "ticks": ""
            },
            "colorscale": [
             [
              0,
              "#0d0887"
             ],
             [
              0.1111111111111111,
              "#46039f"
             ],
             [
              0.2222222222222222,
              "#7201a8"
             ],
             [
              0.3333333333333333,
              "#9c179e"
             ],
             [
              0.4444444444444444,
              "#bd3786"
             ],
             [
              0.5555555555555556,
              "#d8576b"
             ],
             [
              0.6666666666666666,
              "#ed7953"
             ],
             [
              0.7777777777777778,
              "#fb9f3a"
             ],
             [
              0.8888888888888888,
              "#fdca26"
             ],
             [
              1,
              "#f0f921"
             ]
            ],
            "type": "surface"
           }
          ],
          "table": [
           {
            "cells": {
             "fill": {
              "color": "#EBF0F8"
             },
             "line": {
              "color": "white"
             }
            },
            "header": {
             "fill": {
              "color": "#C8D4E3"
             },
             "line": {
              "color": "white"
             }
            },
            "type": "table"
           }
          ]
         },
         "layout": {
          "annotationdefaults": {
           "arrowcolor": "#2a3f5f",
           "arrowhead": 0,
           "arrowwidth": 1
          },
          "autotypenumbers": "strict",
          "coloraxis": {
           "colorbar": {
            "outlinewidth": 0,
            "ticks": ""
           }
          },
          "colorscale": {
           "diverging": [
            [
             0,
             "#8e0152"
            ],
            [
             0.1,
             "#c51b7d"
            ],
            [
             0.2,
             "#de77ae"
            ],
            [
             0.3,
             "#f1b6da"
            ],
            [
             0.4,
             "#fde0ef"
            ],
            [
             0.5,
             "#f7f7f7"
            ],
            [
             0.6,
             "#e6f5d0"
            ],
            [
             0.7,
             "#b8e186"
            ],
            [
             0.8,
             "#7fbc41"
            ],
            [
             0.9,
             "#4d9221"
            ],
            [
             1,
             "#276419"
            ]
           ],
           "sequential": [
            [
             0,
             "#0d0887"
            ],
            [
             0.1111111111111111,
             "#46039f"
            ],
            [
             0.2222222222222222,
             "#7201a8"
            ],
            [
             0.3333333333333333,
             "#9c179e"
            ],
            [
             0.4444444444444444,
             "#bd3786"
            ],
            [
             0.5555555555555556,
             "#d8576b"
            ],
            [
             0.6666666666666666,
             "#ed7953"
            ],
            [
             0.7777777777777778,
             "#fb9f3a"
            ],
            [
             0.8888888888888888,
             "#fdca26"
            ],
            [
             1,
             "#f0f921"
            ]
           ],
           "sequentialminus": [
            [
             0,
             "#0d0887"
            ],
            [
             0.1111111111111111,
             "#46039f"
            ],
            [
             0.2222222222222222,
             "#7201a8"
            ],
            [
             0.3333333333333333,
             "#9c179e"
            ],
            [
             0.4444444444444444,
             "#bd3786"
            ],
            [
             0.5555555555555556,
             "#d8576b"
            ],
            [
             0.6666666666666666,
             "#ed7953"
            ],
            [
             0.7777777777777778,
             "#fb9f3a"
            ],
            [
             0.8888888888888888,
             "#fdca26"
            ],
            [
             1,
             "#f0f921"
            ]
           ]
          },
          "colorway": [
           "#636efa",
           "#EF553B",
           "#00cc96",
           "#ab63fa",
           "#FFA15A",
           "#19d3f3",
           "#FF6692",
           "#B6E880",
           "#FF97FF",
           "#FECB52"
          ],
          "font": {
           "color": "#2a3f5f"
          },
          "geo": {
           "bgcolor": "white",
           "lakecolor": "white",
           "landcolor": "#E5ECF6",
           "showlakes": true,
           "showland": true,
           "subunitcolor": "white"
          },
          "hoverlabel": {
           "align": "left"
          },
          "hovermode": "closest",
          "mapbox": {
           "style": "light"
          },
          "paper_bgcolor": "white",
          "plot_bgcolor": "#E5ECF6",
          "polar": {
           "angularaxis": {
            "gridcolor": "white",
            "linecolor": "white",
            "ticks": ""
           },
           "bgcolor": "#E5ECF6",
           "radialaxis": {
            "gridcolor": "white",
            "linecolor": "white",
            "ticks": ""
           }
          },
          "scene": {
           "xaxis": {
            "backgroundcolor": "#E5ECF6",
            "gridcolor": "white",
            "gridwidth": 2,
            "linecolor": "white",
            "showbackground": true,
            "ticks": "",
            "zerolinecolor": "white"
           },
           "yaxis": {
            "backgroundcolor": "#E5ECF6",
            "gridcolor": "white",
            "gridwidth": 2,
            "linecolor": "white",
            "showbackground": true,
            "ticks": "",
            "zerolinecolor": "white"
           },
           "zaxis": {
            "backgroundcolor": "#E5ECF6",
            "gridcolor": "white",
            "gridwidth": 2,
            "linecolor": "white",
            "showbackground": true,
            "ticks": "",
            "zerolinecolor": "white"
           }
          },
          "shapedefaults": {
           "line": {
            "color": "#2a3f5f"
           }
          },
          "ternary": {
           "aaxis": {
            "gridcolor": "white",
            "linecolor": "white",
            "ticks": ""
           },
           "baxis": {
            "gridcolor": "white",
            "linecolor": "white",
            "ticks": ""
           },
           "bgcolor": "#E5ECF6",
           "caxis": {
            "gridcolor": "white",
            "linecolor": "white",
            "ticks": ""
           }
          },
          "title": {
           "x": 0.05
          },
          "xaxis": {
           "automargin": true,
           "gridcolor": "white",
           "linecolor": "white",
           "ticks": "",
           "title": {
            "standoff": 15
           },
           "zerolinecolor": "white",
           "zerolinewidth": 2
          },
          "yaxis": {
           "automargin": true,
           "gridcolor": "white",
           "linecolor": "white",
           "ticks": "",
           "title": {
            "standoff": 15
           },
           "zerolinecolor": "white",
           "zerolinewidth": 2
          }
         }
        },
        "title": {
         "text": "SLG against AVG"
        },
        "xaxis": {
         "anchor": "y",
         "autorange": true,
         "domain": [
          0,
          1
         ],
         "range": [
          -0.040424242424242425,
          0.7074242424242425
         ],
         "title": {
          "text": "AVG"
         },
         "type": "linear"
        },
        "yaxis": {
         "anchor": "x",
         "autorange": true,
         "domain": [
          0,
          1
         ],
         "range": [
          -0.10315533980582524,
          1.3531553398058251
         ],
         "title": {
          "text": "SLG"
         },
         "type": "linear"
        }
       }
      },
      "image/png": "[encoded data removed]",
      "text/html": [
       "<div>                            <div id=\"07d85e11-6e05-4c3d-b764-9d8ab1334c74\" class=\"plotly-graph-div\" style=\"height:525px; width:100%;\"></div>            <script type=\"text/javascript\">                require([\"plotly\"], function(Plotly) {                    window.PLOTLYENV=window.PLOTLYENV || {};                                    if (document.getElementById(\"07d85e11-6e05-4c3d-b764-9d8ab1334c74\")) {                    Plotly.newPlot(                        \"07d85e11-6e05-4c3d-b764-9d8ab1334c74\",                        [{\"hovertemplate\":\"AVG=%{x}<br>SLG=%{y}<br>OBP=%{marker.color}<extra></extra>\",\"legendgroup\":\"\",\"marker\":{\"color\":[0.33,0.365,0.315,0.367,0.416,0.333,0.329,0.344,0.372,0.267,0.353,0.364,0.317,0.35,0.41,0.356,0.335,0.346,0.327,0.353,0.393,0.363,0.339,0.362,0.325,0.333,0.363,0.303,0.328,0.305,0.373,0.305,0.348,0.328,0.339,0.33,0.329,0.389,0.31,0.353,0.325,0.319,0.41,0.328,0.289,0.324,0.334,0.328,0.339,0.306,0.318,0.356,0.315,0.336,0.301,0.367,0.307,0.324,0.374,0.346,0.36,0.412,0.314,0.297,0.369,0.345,0.352,0.33,0.309,0.328,0.34,0.41,0.352,0.345,0.254,0.283,0.333,0.294,0.363,0.304,0.318,0.324,0.364,0.39,0.315,0.311,0.38,0.307,0.278,0.321,0.318,0.286,0.353,0.338,0.407,0.291,0.316,0.406,0.333,0.293,0.297,0.322,0.321,0.309,0.322,0.359,0.271,0.408,0.312,0.304,0.34,0.319,0.301,0.358,0.296,0.36,0.351,0.357,0.315,0.302,0.309,0.367,0.327,0.339,0.258,0.302,0.295,0.315,0.31,0.303,0.332,0.268,0.347,0.283,0.336,0.283,0.257,0.325,0.306,0.327,0.306,0.3,0.317,0.309,0.336,0.358,0.323,0.319,0.329,0.321,0.319,0.301,0.335,0.314,0.28,0.326,0.309,0.322,0.349,0.281,0.296,0.292,0.314,0.285,0.282,0.3,0.344,0.275,0.308,0.378,0.317,0.304,0.369,0.338,0.275,0.343,0.31,0.32,0.293,0.304,0.333,0.263,0.266,0.273,0.355,0.305,0.297,0.31,0.348,0.311,0.322,0.234,0.311,0.349,0.257,0.315,0.327,0.348,0.305,0.267,0.37,0.324,0.303,0.309,0.276,0.297,0.316,0.267,0.385,0.334,0.328,0.37,0.319,0.34,0.321,0.285,0.355,0.339,0.312,0.343,0.361,0.375,0.23,0.272,0.342,0.248,0.372,0.268,0.263,0.292,0.296,0.288,0.31,0.351,0.274,0.286,0.259,0.381,0.308,0.289,0.35,0.315,0.329,0.158,0.286,0.317,0.246,0.267,0.295,0.232,0.328,0.369,0.277,0.339,0.338,0.236,0.335,0.333,0.357,0.317,0.333,0.328,0.25,0.311,0.326,0.296,0.322,0.31,0.28,0.281,0.247,0.327,0.305,0.312,0.308,0.309,0.305,0.307,0.365,0.279,0.283,0.273,0.264,0.308,0.186,0.268,0.233,0.308,0.278,0.667,0.288,0.365,0.283,0.231,0.206,0.295,0.269,0.284,0.152,0.383,0.29,0.317,0.347,0.356,0.111,0.339,0.235,0.267,0.292,0.2,0.345,0.288,0.29,0.339,0.259,0.34,0.312,0.349,0.299,0.343,0.304,0.308,0.331,0.321,0.312,0.32,0.331,0.196,0.249,0.278,0.341,0.337,0.275,0.2,0.304,0.285,0.287,0.363,0.3,0.326,0.318,0.154,0.241,0.3,0.263,0.304,0.248,0.229,0.235,0.285,0.261,0.188,0.313,0.233,0.235,0.268,0.333,0.322,0.125,0.111,0.273,0.244,0.25,0.3,0.354,0.37,0.258,0.241,0.295,0.256,0.204,0.304,0.304,0.053,0.325,0.293,0.317,0.247,0.304,0.237,0.244,0.325,0.315,0.356,0.312,0.325,0.286,0.091,0.274,0.282,0.269,0.315,0.299,0.306,0.288,0.301,0.321,0.211,0.31,0.299,0.302,0.263,0.238,0.13,0.26,0.263,0.29,0.311,0.305,0.192,0.309,0.22,0.306,0.257,0.231,0.288,0.328,0.364,0.365,0.288,0.313,0.239,0.278,0.2,0.275,0.335,0.318,0.275,0.316,0.369,0.253,0.257,0.304,0.216,0.258,0.29,0.313,0.256,0.34,0.327,0.153,0.215,0.231,0.367,0.284,0.326,0.224,0.256,0.208,0.353,0.322,0.125,0.303,0.185,0.277,0.321,0.213,0.295,0.346,0.296,0.274,0.28,0.239,0.294],\"coloraxis\":\"coloraxis\",\"symbol\":\"circle\"},\"mode\":\"markers\",\"name\":\"\",\"orientation\":\"v\",\"showlegend\":false,\"x\":[0.372,0.274,0.34,0.317,0.353,0.257,0.358,0.292,0.321,0.333,0.289,0.33,0.292,0.29,0.326,0.307,0.342,0.33,0.31,0.39,0.439,0.341,0.297,0.311,0.33,0.302,0.298,0.483,0.266,0.306,0.254,0.255,0.262,0.238,0.288,0.323,0.319,0.245,0.237,0.338,0.296,0.39,0.298,0.283,0.258,0.238,0.281,0.257,0.298,0.231,0.268,0.286,0.278,0.221,0.226,0.297,0.259,0.304,0.255,0.396,0.287,0.292,0.25,0.269,0.29,0.302,0.315,0.298,0.242,0.264,0.282,0.217,0.27,0.258,0.259,0.222,0.24,0.25,0.235,0.255,0.287,0.287,0.239,0.361,0.317,0.308,0.241,0.256,0.244,0.341,0.333,0.213,0.275,0.278,0.267,0.256,0.342,0.25,0.217,0.305,0.286,0.271,0.263,0.312,0.265,0.256,0.25,0.242,0.237,0.259,0.24,0.226,0.277,0.261,0.29,0.255,0.224,0.302,0.2,0.276,0.24,0.239,0.31,0.313,0.348,0.35,0.296,0.278,0.25,0.298,0.263,0.227,0.242,0.323,0.245,0.226,0.232,0.197,0.244,0.25,0.357,0.5,0.296,0.252,0.245,0.264,0.24,0.36,0.295,0.217,0.233,0.241,0.333,0.255,0.246,0.2,0.24,0.242,0.409,0.282,0.28,0.667,0.5,0.194,0.545,0.235,0.244,0.333,0.25,0.25,0.279,0.304,0.27,0.265,0.271,0.308,0.264,0.261,0.333,0.208,0.245,0.27,0.313,0.176,0.274,0.267,0.3,0.302,0.265,0.231,0.268,0.158,0.289,0.267,0.26,0.202,0.227,0.5,0.225,0.302,0.263,0.302,0.273,0.275,0.273,0.278,0.276,0.219,0.273,0.203,0.261,0.228,0.207,0.217,0.5,0.156,0.241,0.261,0.202,0.214,0.258,0.233,0.182,0.237,0.279,0.239,0.279,0.154,0.191,0.268,0.234,0.25,0.25,0.177,0.195,0.256,0.211,0.222,0.25,0.253,0.5,0.264,0.29,0.286,0.25,0.287,0.333,0.23,0.286,0.222,0.243,0.286,0.172,0.176,0.0,0.158,0.206,0.333,0.254,0.231,0.261,0.214,0.176,0.3,0.287,0.259,0.294,0.222,0.265,0.263,0.267,0.257,0.23,0.179,0.25,0.077,0.208,0.368,0.26,0.0,0.273,0.198,0.222,0.0,0.214,0.0,0.143,0.271,0.27,0.0,0.25,0.196,0.0,0.0,0.25,0.216,0.194,0.194,0.125,0.111,0.208,0.2,0.25,0.238,0.2,0.209,0.111,0.172,0.222,0.25,0.25,0.25,0.0,0.219,0.214,0.25,0.241,0.231,0.204,0.15,0.146,0.235,0.19,0.143,0.204,0.245,0.25,0.286,0.083,0.227,0.207,0.221,0.179,0.136,0.261,0.2,0.213,0.247,0.25,0.167,0.254,0.083,0.206,0.231,0.25,0.234,0.0,0.15,0.071,0.208,0.211,0.159,0.283,0.192,0.077,0.246,0.294,0.0,0.1,0.133,0.242,0.167,0.0,0.205,0.208,0.0,0.2,0.25,0.239,0.224,0.154,0.202,0.083,0.1,0.211,0.222,0.225,0.1,0.25,0.212,0.1,0.205,0.231,0.247,0.0,0.083,0.154,0.0,0.118,0.179,0.16,0.231,0.259,0.2,0.173,0.195,0.28,0.151,0.186,0.1,0.125,0.063,0.118,0.143,0.155,0.209,0.083,0.23,0.218,0.1,0.237,0.197,0.091,0.218,0.059,0.16,0.171,0.091,0.063,0.214,0.298,0.125,0.122,0.155,0.242,0.182,0.161,0.21,0.18,0.164,0.169,0.211,0.266,0.111,0.155,0.214,0.215,0.175,0.111,0.19,0.122,0.118,0.2,0.137,0.216,0.217,0.151,0.093,0.118,0.159,0.184,0.04,0.157,0.132,0.217,0.219,0.113,0.207,0.091,0.231,0.176,0.134,0.159,0.136],\"xaxis\":\"x\",\"y\":[0.691,0.616,0.53,0.606,0.559,0.743,0.791,0.519,0.617,0.667,0.6,0.585,0.583,0.49,0.598,0.625,0.632,0.443,0.631,0.627,0.549,0.466,0.656,0.544,0.568,0.43,0.5,1.138,0.33,0.581,0.552,0.436,0.458,0.536,0.575,0.586,0.429,0.561,0.433,0.634,0.543,0.61,0.471,0.485,0.663,0.476,0.404,0.535,0.491,0.5,0.567,0.469,0.515,0.463,0.717,0.405,0.481,0.464,0.378,0.646,0.447,0.547,0.391,0.538,0.452,0.491,0.449,0.532,0.661,0.529,0.33,0.413,0.461,0.454,0.586,0.344,0.442,0.543,0.367,0.418,0.447,0.515,0.433,0.556,0.571,0.505,0.367,0.354,0.427,0.537,0.431,0.447,0.5,0.381,0.507,0.573,0.5,0.477,0.617,0.542,0.468,0.583,0.575,0.398,0.412,0.535,0.5,0.421,0.462,0.483,0.48,0.4,0.313,0.478,0.435,0.462,0.561,0.396,0.411,0.466,0.385,0.391,0.414,0.418,0.696,0.9,0.537,0.5,0.458,0.393,0.491,0.477,0.396,0.565,0.5,0.369,0.375,0.324,0.489,0.452,0.5,1.25,0.494,0.301,0.415,0.402,0.33,0.6,0.41,0.391,0.398,0.5,0.59,0.431,0.295,0.291,0.427,0.451,0.5,0.521,0.56,1.167,0.625,0.29,0.636,0.4,0.372,0.467,0.327,0.477,0.488,0.457,0.459,0.458,0.583,0.462,0.429,0.361,0.462,0.306,0.436,0.324,0.75,0.368,0.479,0.567,0.443,0.395,0.49,0.385,0.463,0.184,0.378,0.467,0.36,0.414,0.364,0.625,0.461,0.442,0.579,0.444,0.341,0.407,0.394,0.426,0.483,0.406,0.351,0.378,0.348,0.347,0.379,0.464,0.75,0.422,0.392,0.348,0.36,0.439,0.303,0.267,0.303,0.356,0.412,0.37,0.344,0.231,0.255,0.433,0.325,0.375,0.375,0.278,0.341,0.359,0.526,0.444,0.4,0.411,1.0,0.308,0.344,0.286,1.0,0.351,0.583,0.287,0.429,0.333,0.443,0.365,0.483,0.324,0.0,0.355,0.314,0.5,0.373,0.385,0.348,0.381,0.235,0.45,0.333,0.333,0.353,0.278,0.397,0.263,0.317,0.371,0.419,0.375,0.333,0.077,0.325,0.368,0.338,0.0,0.273,0.346,0.222,0.0,0.286,0.0,0.571,0.376,0.324,0.0,0.275,0.283,0.0,0.0,0.25,0.412,0.419,0.278,0.125,0.111,0.208,0.333,0.25,0.429,0.8,0.269,0.333,0.207,0.278,0.25,0.356,0.321,0.0,0.356,0.31,0.375,0.329,0.327,0.333,0.2,0.208,0.294,0.238,0.143,0.315,0.306,0.313,0.357,0.333,0.273,0.425,0.305,0.282,0.341,0.386,0.2,0.313,0.348,0.3,0.409,0.322,0.125,0.365,0.436,0.365,0.364,0.0,0.3,0.071,0.319,0.368,0.205,0.413,0.269,0.077,0.295,0.324,0.0,0.1,0.133,0.364,0.167,0.0,0.333,0.351,0.0,0.311,0.25,0.343,0.449,0.231,0.245,0.083,0.1,0.4,0.378,0.338,0.1,0.345,0.394,0.1,0.352,0.231,0.371,0.0,0.083,0.308,0.0,0.118,0.282,0.36,0.306,0.376,0.2,0.37,0.286,0.364,0.396,0.256,0.167,0.125,0.063,0.118,0.19,0.241,0.302,0.083,0.344,0.333,0.15,0.263,0.311,0.227,0.321,0.059,0.16,0.2,0.091,0.063,0.268,0.319,0.344,0.171,0.345,0.273,0.242,0.268,0.296,0.326,0.273,0.237,0.282,0.359,0.222,0.241,0.286,0.323,0.19,0.244,0.286,0.122,0.275,0.309,0.301,0.255,0.261,0.245,0.093,0.176,0.159,0.224,0.04,0.205,0.208,0.241,0.344,0.132,0.38,0.218,0.269,0.189,0.195,0.27,0.203],\"yaxis\":\"y\",\"type\":\"scatter\"}],                        {\"template\":{\"data\":{\"histogram2dcontour\":[{\"type\":\"histogram2dcontour\",\"colorbar\":{\"outlinewidth\":0,\"ticks\":\"\"},\"colorscale\":[[0.0,\"#0d0887\"],[0.1111111111111111,\"#46039f\"],[0.2222222222222222,\"#7201a8\"],[0.3333333333333333,\"#9c179e\"],[0.4444444444444444,\"#bd3786\"],[0.5555555555555556,\"#d8576b\"],[0.6666666666666666,\"#ed7953\"],[0.7777777777777778,\"#fb9f3a\"],[0.8888888888888888,\"#fdca26\"],[1.0,\"#f0f921\"]]}],\"choropleth\":[{\"type\":\"choropleth\",\"colorbar\":{\"outlinewidth\":0,\"ticks\":\"\"}}],\"histogram2d\":[{\"type\":\"histogram2d\",\"colorbar\":{\"outlinewidth\":0,\"ticks\":\"\"},\"colorscale\":[[0.0,\"#0d0887\"],[0.1111111111111111,\"#46039f\"],[0.2222222222222222,\"#7201a8\"],[0.3333333333333333,\"#9c179e\"],[0.4444444444444444,\"#bd3786\"],[0.5555555555555556,\"#d8576b\"],[0.6666666666666666,\"#ed7953\"],[0.7777777777777778,\"#fb9f3a\"],[0.8888888888888888,\"#fdca26\"],[1.0,\"#f0f921\"]]}],\"heatmap\":[{\"type\":\"heatmap\",\"colorbar\":{\"outlinewidth\":0,\"ticks\":\"\"},\"colorscale\":[[0.0,\"#0d0887\"],[0.1111111111111111,\"#46039f\"],[0.2222222222222222,\"#7201a8\"],[0.3333333333333333,\"#9c179e\"],[0.4444444444444444,\"#bd3786\"],[0.5555555555555556,\"#d8576b\"],[0.6666666666666666,\"#ed7953\"],[0.7777777777777778,\"#fb9f3a\"],[0.8888888888888888,\"#fdca26\"],[1.0,\"#f0f921\"]]}],\"heatmapgl\":[{\"type\":\"heatmapgl\",\"colorbar\":{\"outlinewidth\":0,\"ticks\":\"\"},\"colorscale\":[[0.0,\"#0d0887\"],[0.1111111111111111,\"#46039f\"],[0.2222222222222222,\"#7201a8\"],[0.3333333333333333,\"#9c179e\"],[0.4444444444444444,\"#bd3786\"],[0.5555555555555556,\"#d8576b\"],[0.6666666666666666,\"#ed7953\"],[0.7777777777777778,\"#fb9f3a\"],[0.8888888888888888,\"#fdca26\"],[1.0,\"#f0f921\"]]}],\"contourcarpet\":[{\"type\":\"contourcarpet\",\"colorbar\":{\"outlinewidth\":0,\"ticks\":\"\"}}],\"contour\":[{\"type\":\"contour\",\"colorbar\":{\"outlinewidth\":0,\"ticks\":\"\"},\"colorscale\":[[0.0,\"#0d0887\"],[0.1111111111111111,\"#46039f\"],[0.2222222222222222,\"#7201a8\"],[0.3333333333333333,\"#9c179e\"],[0.4444444444444444,\"#bd3786\"],[0.5555555555555556,\"#d8576b\"],[0.6666666666666666,\"#ed7953\"],[0.7777777777777778,\"#fb9f3a\"],[0.8888888888888888,\"#fdca26\"],[1.0,\"#f0f921\"]]}],\"surface\":[{\"type\":\"surface\",\"colorbar\":{\"outlinewidth\":0,\"ticks\":\"\"},\"colorscale\":[[0.0,\"#0d0887\"],[0.1111111111111111,\"#46039f\"],[0.2222222222222222,\"#7201a8\"],[0.3333333333333333,\"#9c179e\"],[0.4444444444444444,\"#bd3786\"],[0.5555555555555556,\"#d8576b\"],[0.6666666666666666,\"#ed7953\"],[0.7777777777777778,\"#fb9f3a\"],[0.8888888888888888,\"#fdca26\"],[1.0,\"#f0f921\"]]}],\"mesh3d\":[{\"type\":\"mesh3d\",\"colorbar\":{\"outlinewidth\":0,\"ticks\":\"\"}}],\"scatter\":[{\"fillpattern\":{\"fillmode\":\"overlay\",\"size\":10,\"solidity\":0.2},\"type\":\"scatter\"}],\"parcoords\":[{\"type\":\"parcoords\",\"line\":{\"colorbar\":{\"outlinewidth\":0,\"ticks\":\"\"}}}],\"scatterpolargl\":[{\"type\":\"scatterpolargl\",\"marker\":{\"colorbar\":{\"outlinewidth\":0,\"ticks\":\"\"}}}],\"bar\":[{\"error_x\":{\"color\":\"#2a3f5f\"},\"error_y\":{\"color\":\"#2a3f5f\"},\"marker\":{\"line\":{\"color\":\"#E5ECF6\",\"width\":0.5},\"pattern\":{\"fillmode\":\"overlay\",\"size\":10,\"solidity\":0.2}},\"type\":\"bar\"}],\"scattergeo\":[{\"type\":\"scattergeo\",\"marker\":{\"colorbar\":{\"outlinewidth\":0,\"ticks\":\"\"}}}],\"scatterpolar\":[{\"type\":\"scatterpolar\",\"marker\":{\"colorbar\":{\"outlinewidth\":0,\"ticks\":\"\"}}}],\"histogram\":[{\"marker\":{\"pattern\":{\"fillmode\":\"overlay\",\"size\":10,\"solidity\":0.2}},\"type\":\"histogram\"}],\"scattergl\":[{\"type\":\"scattergl\",\"marker\":{\"colorbar\":{\"outlinewidth\":0,\"ticks\":\"\"}}}],\"scatter3d\":[{\"type\":\"scatter3d\",\"line\":{\"colorbar\":{\"outlinewidth\":0,\"ticks\":\"\"}},\"marker\":{\"colorbar\":{\"outlinewidth\":0,\"ticks\":\"\"}}}],\"scattermapbox\":[{\"type\":\"scattermapbox\",\"marker\":{\"colorbar\":{\"outlinewidth\":0,\"ticks\":\"\"}}}],\"scatterternary\":[{\"type\":\"scatterternary\",\"marker\":{\"colorbar\":{\"outlinewidth\":0,\"ticks\":\"\"}}}],\"scattercarpet\":[{\"type\":\"scattercarpet\",\"marker\":{\"colorbar\":{\"outlinewidth\":0,\"ticks\":\"\"}}}],\"carpet\":[{\"aaxis\":{\"endlinecolor\":\"#2a3f5f\",\"gridcolor\":\"white\",\"linecolor\":\"white\",\"minorgridcolor\":\"white\",\"startlinecolor\":\"#2a3f5f\"},\"baxis\":{\"endlinecolor\":\"#2a3f5f\",\"gridcolor\":\"white\",\"linecolor\":\"white\",\"minorgridcolor\":\"white\",\"startlinecolor\":\"#2a3f5f\"},\"type\":\"carpet\"}],\"table\":[{\"cells\":{\"fill\":{\"color\":\"#EBF0F8\"},\"line\":{\"color\":\"white\"}},\"header\":{\"fill\":{\"color\":\"#C8D4E3\"},\"line\":{\"color\":\"white\"}},\"type\":\"table\"}],\"barpolar\":[{\"marker\":{\"line\":{\"color\":\"#E5ECF6\",\"width\":0.5},\"pattern\":{\"fillmode\":\"overlay\",\"size\":10,\"solidity\":0.2}},\"type\":\"barpolar\"}],\"pie\":[{\"automargin\":true,\"type\":\"pie\"}]},\"layout\":{\"autotypenumbers\":\"strict\",\"colorway\":[\"#636efa\",\"#EF553B\",\"#00cc96\",\"#ab63fa\",\"#FFA15A\",\"#19d3f3\",\"#FF6692\",\"#B6E880\",\"#FF97FF\",\"#FECB52\"],\"font\":{\"color\":\"#2a3f5f\"},\"hovermode\":\"closest\",\"hoverlabel\":{\"align\":\"left\"},\"paper_bgcolor\":\"white\",\"plot_bgcolor\":\"#E5ECF6\",\"polar\":{\"bgcolor\":\"#E5ECF6\",\"angularaxis\":{\"gridcolor\":\"white\",\"linecolor\":\"white\",\"ticks\":\"\"},\"radialaxis\":{\"gridcolor\":\"white\",\"linecolor\":\"white\",\"ticks\":\"\"}},\"ternary\":{\"bgcolor\":\"#E5ECF6\",\"aaxis\":{\"gridcolor\":\"white\",\"linecolor\":\"white\",\"ticks\":\"\"},\"baxis\":{\"gridcolor\":\"white\",\"linecolor\":\"white\",\"ticks\":\"\"},\"caxis\":{\"gridcolor\":\"white\",\"linecolor\":\"white\",\"ticks\":\"\"}},\"coloraxis\":{\"colorbar\":{\"outlinewidth\":0,\"ticks\":\"\"}},\"colorscale\":{\"sequential\":[[0.0,\"#0d0887\"],[0.1111111111111111,\"#46039f\"],[0.2222222222222222,\"#7201a8\"],[0.3333333333333333,\"#9c179e\"],[0.4444444444444444,\"#bd3786\"],[0.5555555555555556,\"#d8576b\"],[0.6666666666666666,\"#ed7953\"],[0.7777777777777778,\"#fb9f3a\"],[0.8888888888888888,\"#fdca26\"],[1.0,\"#f0f921\"]],\"sequentialminus\":[[0.0,\"#0d0887\"],[0.1111111111111111,\"#46039f\"],[0.2222222222222222,\"#7201a8\"],[0.3333333333333333,\"#9c179e\"],[0.4444444444444444,\"#bd3786\"],[0.5555555555555556,\"#d8576b\"],[0.6666666666666666,\"#ed7953\"],[0.7777777777777778,\"#fb9f3a\"],[0.8888888888888888,\"#fdca26\"],[1.0,\"#f0f921\"]],\"diverging\":[[0,\"#8e0152\"],[0.1,\"#c51b7d\"],[0.2,\"#de77ae\"],[0.3,\"#f1b6da\"],[0.4,\"#fde0ef\"],[0.5,\"#f7f7f7\"],[0.6,\"#e6f5d0\"],[0.7,\"#b8e186\"],[0.8,\"#7fbc41\"],[0.9,\"#4d9221\"],[1,\"#276419\"]]},\"xaxis\":{\"gridcolor\":\"white\",\"linecolor\":\"white\",\"ticks\":\"\",\"title\":{\"standoff\":15},\"zerolinecolor\":\"white\",\"automargin\":true,\"zerolinewidth\":2},\"yaxis\":{\"gridcolor\":\"white\",\"linecolor\":\"white\",\"ticks\":\"\",\"title\":{\"standoff\":15},\"zerolinecolor\":\"white\",\"automargin\":true,\"zerolinewidth\":2},\"scene\":{\"xaxis\":{\"backgroundcolor\":\"#E5ECF6\",\"gridcolor\":\"white\",\"linecolor\":\"white\",\"showbackground\":true,\"ticks\":\"\",\"zerolinecolor\":\"white\",\"gridwidth\":2},\"yaxis\":{\"backgroundcolor\":\"#E5ECF6\",\"gridcolor\":\"white\",\"linecolor\":\"white\",\"showbackground\":true,\"ticks\":\"\",\"zerolinecolor\":\"white\",\"gridwidth\":2},\"zaxis\":{\"backgroundcolor\":\"#E5ECF6\",\"gridcolor\":\"white\",\"linecolor\":\"white\",\"showbackground\":true,\"ticks\":\"\",\"zerolinecolor\":\"white\",\"gridwidth\":2}},\"shapedefaults\":{\"line\":{\"color\":\"#2a3f5f\"}},\"annotationdefaults\":{\"arrowcolor\":\"#2a3f5f\",\"arrowhead\":0,\"arrowwidth\":1},\"geo\":{\"bgcolor\":\"white\",\"landcolor\":\"#E5ECF6\",\"subunitcolor\":\"white\",\"showland\":true,\"showlakes\":true,\"lakecolor\":\"white\"},\"title\":{\"x\":0.05},\"mapbox\":{\"style\":\"light\"}}},\"xaxis\":{\"anchor\":\"y\",\"domain\":[0.0,1.0],\"title\":{\"text\":\"AVG\"}},\"yaxis\":{\"anchor\":\"x\",\"domain\":[0.0,1.0],\"title\":{\"text\":\"SLG\"}},\"coloraxis\":{\"colorbar\":{\"title\":{\"text\":\"OBP\"}},\"colorscale\":[[0.0,\"#0508b8\"],[0.08333333333333333,\"#1910d8\"],[0.16666666666666666,\"#3c19f0\"],[0.25,\"#6b1cfb\"],[0.3333333333333333,\"#981cfd\"],[0.4166666666666667,\"#bf1cfd\"],[0.5,\"#dd2bfd\"],[0.5833333333333334,\"#f246fe\"],[0.6666666666666666,\"#fc67fd\"],[0.75,\"#fe88fc\"],[0.8333333333333334,\"#fea5fd\"],[0.9166666666666666,\"#febefe\"],[1.0,\"#fec3fe\"]]},\"legend\":{\"tracegroupgap\":0},\"title\":{\"text\":\"SLG against AVG\"}},                        {\"responsive\": true}                    ).then(function(){\n",
       "                            \n",
       "var gd = document.getElementById('07d85e11-6e05-4c3d-b764-9d8ab1334c74');\n",
       "var x = new MutationObserver(function (mutations, observer) {{\n",
       "        var display = window.getComputedStyle(gd).display;\n",
       "        if (!display || display === 'none') {{\n",
       "            console.log([gd, 'removed!']);\n",
       "            Plotly.purge(gd);\n",
       "            observer.disconnect();\n",
       "        }}\n",
       "}});\n",
       "\n",
       "// Listen for the removal of the full notebook cells\n",
       "var notebookContainer = gd.closest('#notebook-container');\n",
       "if (notebookContainer) {{\n",
       "    x.observe(notebookContainer, {childList: true});\n",
       "}}\n",
       "\n",
       "// Listen for the clearing of the current output cell\n",
       "var outputEl = gd.closest('.output');\n",
       "if (outputEl) {{\n",
       "    x.observe(outputEl, {childList: true});\n",
       "}}\n",
       "\n",
       "                        })                };                });            </script>        </div>"
      ]
     },
     "metadata": {},
     "output_type": "display_data"
    }
   ],
   "source": [
    "x_data = merged_stats['AVG']\n",
    "y_data = merged_stats['SLG']\n",
    "color = merged_stats['OBP']\n",
    "\n",
    "slope, intercept = np.polyfit(x_data, y_data, 1)\n",
    "line_of_best_fit = slope * x_data + intercept\n",
    "\n",
    "# Create the 2D scatter plot\n",
    "fig = px.scatter(\n",
    "    merged_stats, \n",
    "    x='AVG', \n",
    "    y='SLG',\n",
    "    color='OBP', \n",
    "    color_continuous_scale='Plotly3',\n",
    "    title='SLG against AVG',\n",
    "    labels={'AVG': 'AVG', 'SLG': 'SLG'}\n",
    ")\n",
    "\n",
    "fig.show()"
   ]
  },
  {
   "cell_type": "markdown",
   "id": "90a381fc-3921-482b-99e8-60af87288067",
   "metadata": {},
   "source": [
    "Now, what happens to the model's MSE when we only use these 2 features?"
   ]
  },
  {
   "cell_type": "code",
   "execution_count": 361,
   "id": "830197c7-238c-4852-9362-7fecdb462a51",
   "metadata": {},
   "outputs": [
    {
     "name": "stdout",
     "output_type": "stream",
     "text": [
      "2 features: 0.001947350955794504\n",
      "3 features: 0.002478767025089606\n"
     ]
    }
   ],
   "source": [
    "#Split dataset\n",
    "X = merged_stats[['AVG', 'SLG']]\n",
    "y = merged_stats['OBP']\n",
    "X_train, X_test, y_train, y_test = train_test_split(X, y, random_state=0, test_size=0.2)\n",
    "\n",
    "#Scaling\n",
    "scaler_X = StandardScaler()\n",
    "X_train = scaler_X.fit_transform(X_train)\n",
    "X_test = scaler_X.transform(X_test)\n",
    "\n",
    "#Defining the model\n",
    "regressor = KNeighborsRegressor(n_neighbors=6, p=2, metric ='euclidean') #p=2 is using euclidean distance\n",
    "regressor.fit(X_train, y_train)\n",
    "\n",
    "#Making predictions\n",
    "y_pred_test = regressor.predict(X_test)\n",
    "mse_2 = mean_squared_error(y_test, y_pred_test)\n",
    "\n",
    "print(\"2 features:\", mse_2)\n",
    "print(\"3 features:\", mse_3)"
   ]
  },
  {
   "cell_type": "markdown",
   "id": "dbfe18e3-4a5a-41ed-be6f-f15556a2a2aa",
   "metadata": {},
   "source": [
    "MSE for 3 features is higher than the MSE for 2 features. This confirms the theory of the curse of dimensionality."
   ]
  },
  {
   "cell_type": "markdown",
   "id": "e3c6912b-5c82-4f04-ae47-39c217b24335",
   "metadata": {},
   "source": [
    "R vs OBP scatter plot"
   ]
  },
  {
   "cell_type": "code",
   "execution_count": null,
   "id": "2c5671d6-17b1-4823-af22-d4f16cc26b97",
   "metadata": {},
   "outputs": [
    {
     "data": {
      "application/vnd.plotly.v1+json": {
       "config": {
        "plotlyServerURL": "https://plot.ly"
       },
       "data": [
        {
         "hovertemplate": "R=%{x}<br>OBP=%{y}<extra></extra>",
         "legendgroup": "",
         "marker": {
          "color": "#636efa",
          "size": 3,
          "symbol": "circle"
         },
         "mode": "markers",
         "name": "",
         "orientation": "v",
         "showlegend": false,
         "type": "scatter",
         "x": [
          17,
          16,
          19,
          20,
          23,
          18,
          14,
          16,
          16,
          19,
          14,
          21,
          14,
          20,
          23,
          22,
          17,
          20,
          14,
          14,
          11,
          15,
          10,
          19,
          17,
          11,
          16,
          10,
          16,
          17,
          10,
          11,
          24,
          20,
          18,
          17,
          9,
          19,
          16,
          12,
          10,
          7,
          20,
          13,
          20,
          20,
          8,
          23,
          16,
          14,
          19,
          13,
          17,
          18,
          12,
          8,
          13,
          20,
          11,
          8,
          11,
          18,
          18,
          20,
          8,
          20,
          9,
          16,
          11,
          7,
          14,
          19,
          16,
          17,
          12,
          11,
          17,
          18,
          15,
          10,
          14,
          13,
          16,
          5,
          10,
          21,
          13,
          12,
          11,
          9,
          9,
          6,
          7,
          20,
          12,
          14,
          10,
          17,
          9,
          6,
          10,
          6,
          13,
          18,
          7,
          11,
          5,
          15,
          15,
          6,
          11,
          17,
          10,
          15,
          6,
          19,
          18,
          10,
          11,
          8,
          18,
          7,
          4,
          5,
          4,
          7,
          9,
          9,
          16,
          15,
          11,
          13,
          13,
          7,
          12,
          9,
          4,
          14,
          12,
          13,
          4,
          2,
          12,
          10,
          12,
          10,
          10,
          2,
          7,
          11,
          12,
          9,
          4,
          12,
          9,
          5,
          7,
          12,
          6,
          7,
          5,
          2,
          3,
          12,
          4,
          9,
          12,
          2,
          4,
          15,
          9,
          6,
          6,
          14,
          7,
          8,
          9,
          15,
          5,
          9,
          11,
          4,
          5,
          6,
          11,
          4,
          11,
          4,
          6,
          11,
          5,
          4,
          6,
          8,
          5,
          13,
          5,
          0,
          12,
          5,
          4,
          6,
          6,
          12,
          5,
          13,
          5,
          5,
          11,
          15,
          11,
          22,
          6,
          8,
          2,
          8,
          12,
          4,
          8,
          17,
          12,
          5,
          4,
          3,
          8,
          5,
          4,
          0,
          4,
          9,
          15,
          9,
          9,
          6,
          4,
          7,
          3,
          4,
          2,
          19,
          1,
          13,
          12,
          1,
          1,
          11,
          1,
          9,
          1,
          0,
          17,
          6,
          4,
          5,
          3,
          10,
          18,
          1,
          7,
          4,
          1,
          3,
          2,
          2,
          13,
          4,
          1,
          7,
          7,
          1,
          3,
          10,
          10,
          6,
          5,
          1,
          10,
          0,
          8,
          0,
          0,
          13,
          0,
          0,
          2,
          1,
          1,
          6,
          6,
          0,
          7,
          7,
          0,
          0,
          1,
          7,
          4,
          3,
          0,
          1,
          1,
          6,
          1,
          3,
          1,
          12,
          3,
          4,
          2,
          0,
          11,
          1,
          0,
          8,
          4,
          15,
          10,
          13,
          8,
          3,
          8,
          0,
          2,
          0,
          10,
          7,
          1,
          1,
          1,
          3,
          10,
          15,
          2,
          5,
          8,
          1,
          9,
          10,
          1,
          9,
          7,
          0,
          6,
          10,
          11,
          10,
          0,
          2,
          1,
          8,
          3,
          5,
          9,
          1,
          0,
          9,
          3,
          1,
          0,
          2,
          3,
          1,
          0,
          13,
          5,
          1,
          9,
          5,
          8,
          3,
          0,
          9,
          2,
          0,
          7,
          9,
          7,
          1,
          4,
          6,
          0,
          8,
          5,
          11,
          0,
          1,
          2,
          0,
          2,
          6,
          6,
          11,
          11,
          4,
          10,
          9,
          8,
          6,
          6,
          3,
          0,
          2,
          0,
          0,
          3,
          4,
          0,
          7,
          12,
          1,
          2,
          6,
          1,
          8,
          0,
          2,
          4,
          1,
          0,
          3,
          2,
          3,
          2,
          6,
          4,
          0,
          8,
          8,
          9,
          5,
          6,
          8,
          6,
          3,
          3,
          6,
          9,
          7,
          5,
          10,
          4,
          3,
          5,
          13,
          5,
          9,
          3,
          3,
          2,
          4,
          0,
          1,
          6,
          8,
          8,
          10,
          8,
          12,
          4,
          6,
          4,
          7,
          4,
          4
         ],
         "xaxis": "x",
         "y": [
          0.33,
          0.365,
          0.315,
          0.367,
          0.416,
          0.333,
          0.329,
          0.344,
          0.372,
          0.267,
          0.353,
          0.364,
          0.317,
          0.35,
          0.41,
          0.356,
          0.335,
          0.346,
          0.327,
          0.353,
          0.393,
          0.363,
          0.339,
          0.362,
          0.325,
          0.333,
          0.363,
          0.303,
          0.328,
          0.305,
          0.373,
          0.305,
          0.348,
          0.328,
          0.339,
          0.33,
          0.329,
          0.389,
          0.31,
          0.353,
          0.325,
          0.319,
          0.41,
          0.328,
          0.289,
          0.324,
          0.334,
          0.328,
          0.339,
          0.306,
          0.318,
          0.356,
          0.315,
          0.336,
          0.301,
          0.367,
          0.307,
          0.324,
          0.374,
          0.346,
          0.36,
          0.412,
          0.314,
          0.297,
          0.369,
          0.345,
          0.352,
          0.33,
          0.309,
          0.328,
          0.34,
          0.41,
          0.352,
          0.345,
          0.254,
          0.283,
          0.333,
          0.294,
          0.363,
          0.304,
          0.318,
          0.324,
          0.364,
          0.39,
          0.315,
          0.311,
          0.38,
          0.307,
          0.278,
          0.321,
          0.318,
          0.286,
          0.353,
          0.338,
          0.407,
          0.291,
          0.316,
          0.406,
          0.333,
          0.293,
          0.297,
          0.322,
          0.321,
          0.309,
          0.322,
          0.359,
          0.271,
          0.408,
          0.312,
          0.304,
          0.34,
          0.319,
          0.301,
          0.358,
          0.296,
          0.36,
          0.351,
          0.357,
          0.315,
          0.302,
          0.309,
          0.367,
          0.327,
          0.339,
          0.258,
          0.302,
          0.295,
          0.315,
          0.31,
          0.303,
          0.332,
          0.268,
          0.347,
          0.283,
          0.336,
          0.283,
          0.257,
          0.325,
          0.306,
          0.327,
          0.306,
          0.3,
          0.317,
          0.309,
          0.336,
          0.358,
          0.323,
          0.319,
          0.329,
          0.321,
          0.319,
          0.301,
          0.335,
          0.314,
          0.28,
          0.326,
          0.309,
          0.322,
          0.349,
          0.281,
          0.296,
          0.292,
          0.314,
          0.285,
          0.282,
          0.3,
          0.344,
          0.275,
          0.308,
          0.378,
          0.317,
          0.304,
          0.369,
          0.338,
          0.275,
          0.343,
          0.31,
          0.32,
          0.293,
          0.304,
          0.333,
          0.263,
          0.266,
          0.273,
          0.355,
          0.305,
          0.297,
          0.31,
          0.348,
          0.311,
          0.322,
          0.234,
          0.311,
          0.349,
          0.257,
          0.315,
          0.327,
          0.348,
          0.305,
          0.267,
          0.37,
          0.324,
          0.303,
          0.309,
          0.276,
          0.297,
          0.316,
          0.267,
          0.385,
          0.334,
          0.328,
          0.37,
          0.319,
          0.34,
          0.321,
          0.285,
          0.355,
          0.339,
          0.312,
          0.343,
          0.361,
          0.375,
          0.23,
          0.272,
          0.342,
          0.248,
          0.372,
          0.268,
          0.263,
          0.292,
          0.296,
          0.288,
          0.31,
          0.351,
          0.274,
          0.286,
          0.259,
          0.381,
          0.308,
          0.289,
          0.35,
          0.315,
          0.329,
          0.158,
          0.286,
          0.317,
          0.246,
          0.267,
          0.295,
          0.232,
          0.328,
          0.369,
          0.277,
          0.339,
          0.338,
          0.236,
          0.335,
          0.333,
          0.357,
          0.317,
          0.333,
          0.328,
          0.25,
          0.311,
          0.326,
          0.296,
          0.322,
          0.31,
          0.28,
          0.281,
          0.247,
          0.327,
          0.305,
          0.312,
          0.308,
          0.309,
          0.305,
          0.307,
          0.365,
          0.279,
          0.283,
          0.273,
          0.264,
          0.308,
          0.186,
          0.268,
          0.233,
          0.308,
          0.278,
          0.667,
          0.288,
          0.365,
          0.283,
          0.231,
          0.206,
          0.295,
          0.269,
          0.284,
          0.152,
          0.383,
          0.29,
          0.317,
          0.347,
          0.356,
          0.111,
          0.339,
          0.235,
          0.267,
          0.292,
          0.2,
          0.345,
          0.288,
          0.29,
          0.339,
          0.259,
          0.34,
          0.312,
          0.349,
          0.299,
          0.343,
          0.304,
          0.308,
          0.331,
          0.321,
          0.312,
          0.32,
          0.331,
          0.196,
          0.249,
          0.278,
          0.341,
          0.337,
          0.275,
          0.2,
          0.304,
          0.285,
          0.287,
          0.363,
          0.3,
          0.326,
          0.318,
          0.154,
          0.241,
          0.3,
          0.263,
          0.304,
          0.248,
          0.229,
          0.235,
          0.285,
          0.261,
          0.188,
          0.313,
          0.233,
          0.235,
          0.268,
          0.333,
          0.322,
          0.125,
          0.111,
          0.273,
          0.244,
          0.25,
          0.3,
          0.354,
          0.37,
          0.258,
          0.241,
          0.295,
          0.256,
          0.204,
          0.304,
          0.304,
          0.053,
          0.325,
          0.293,
          0.317,
          0.247,
          0.304,
          0.237,
          0.244,
          0.325,
          0.315,
          0.356,
          0.312,
          0.325,
          0.286,
          0.091,
          0.274,
          0.282,
          0.269,
          0.315,
          0.299,
          0.306,
          0.288,
          0.301,
          0.321,
          0.211,
          0.31,
          0.299,
          0.302,
          0.263,
          0.238,
          0.13,
          0.26,
          0.263,
          0.29,
          0.311,
          0.305,
          0.192,
          0.309,
          0.22,
          0.306,
          0.257,
          0.231,
          0.288,
          0.328,
          0.364,
          0.365,
          0.288,
          0.313,
          0.239,
          0.278,
          0.2,
          0.275,
          0.335,
          0.318,
          0.275,
          0.316,
          0.369,
          0.253,
          0.257,
          0.304,
          0.216,
          0.258,
          0.29,
          0.313,
          0.256,
          0.34,
          0.327,
          0.153,
          0.215,
          0.231,
          0.367,
          0.284,
          0.326,
          0.224,
          0.256,
          0.208,
          0.353,
          0.322,
          0.125,
          0.303,
          0.185,
          0.277,
          0.321,
          0.213,
          0.295,
          0.346,
          0.296,
          0.274,
          0.28,
          0.239,
          0.294
         ],
         "yaxis": "y"
        }
       ],
       "layout": {
        "autosize": true,
        "legend": {
         "tracegroupgap": 0
        },
        "template": {
         "data": {
          "bar": [
           {
            "error_x": {
             "color": "#2a3f5f"
            },
            "error_y": {
             "color": "#2a3f5f"
            },
            "marker": {
             "line": {
              "color": "#E5ECF6",
              "width": 0.5
             },
             "pattern": {
              "fillmode": "overlay",
              "size": 10,
              "solidity": 0.2
             }
            },
            "type": "bar"
           }
          ],
          "barpolar": [
           {
            "marker": {
             "line": {
              "color": "#E5ECF6",
              "width": 0.5
             },
             "pattern": {
              "fillmode": "overlay",
              "size": 10,
              "solidity": 0.2
             }
            },
            "type": "barpolar"
           }
          ],
          "carpet": [
           {
            "aaxis": {
             "endlinecolor": "#2a3f5f",
             "gridcolor": "white",
             "linecolor": "white",
             "minorgridcolor": "white",
             "startlinecolor": "#2a3f5f"
            },
            "baxis": {
             "endlinecolor": "#2a3f5f",
             "gridcolor": "white",
             "linecolor": "white",
             "minorgridcolor": "white",
             "startlinecolor": "#2a3f5f"
            },
            "type": "carpet"
           }
          ],
          "choropleth": [
           {
            "colorbar": {
             "outlinewidth": 0,
             "ticks": ""
            },
            "type": "choropleth"
           }
          ],
          "contour": [
           {
            "colorbar": {
             "outlinewidth": 0,
             "ticks": ""
            },
            "colorscale": [
             [
              0,
              "#0d0887"
             ],
             [
              0.1111111111111111,
              "#46039f"
             ],
             [
              0.2222222222222222,
              "#7201a8"
             ],
             [
              0.3333333333333333,
              "#9c179e"
             ],
             [
              0.4444444444444444,
              "#bd3786"
             ],
             [
              0.5555555555555556,
              "#d8576b"
             ],
             [
              0.6666666666666666,
              "#ed7953"
             ],
             [
              0.7777777777777778,
              "#fb9f3a"
             ],
             [
              0.8888888888888888,
              "#fdca26"
             ],
             [
              1,
              "#f0f921"
             ]
            ],
            "type": "contour"
           }
          ],
          "contourcarpet": [
           {
            "colorbar": {
             "outlinewidth": 0,
             "ticks": ""
            },
            "type": "contourcarpet"
           }
          ],
          "heatmap": [
           {
            "colorbar": {
             "outlinewidth": 0,
             "ticks": ""
            },
            "colorscale": [
             [
              0,
              "#0d0887"
             ],
             [
              0.1111111111111111,
              "#46039f"
             ],
             [
              0.2222222222222222,
              "#7201a8"
             ],
             [
              0.3333333333333333,
              "#9c179e"
             ],
             [
              0.4444444444444444,
              "#bd3786"
             ],
             [
              0.5555555555555556,
              "#d8576b"
             ],
             [
              0.6666666666666666,
              "#ed7953"
             ],
             [
              0.7777777777777778,
              "#fb9f3a"
             ],
             [
              0.8888888888888888,
              "#fdca26"
             ],
             [
              1,
              "#f0f921"
             ]
            ],
            "type": "heatmap"
           }
          ],
          "heatmapgl": [
           {
            "colorbar": {
             "outlinewidth": 0,
             "ticks": ""
            },
            "colorscale": [
             [
              0,
              "#0d0887"
             ],
             [
              0.1111111111111111,
              "#46039f"
             ],
             [
              0.2222222222222222,
              "#7201a8"
             ],
             [
              0.3333333333333333,
              "#9c179e"
             ],
             [
              0.4444444444444444,
              "#bd3786"
             ],
             [
              0.5555555555555556,
              "#d8576b"
             ],
             [
              0.6666666666666666,
              "#ed7953"
             ],
             [
              0.7777777777777778,
              "#fb9f3a"
             ],
             [
              0.8888888888888888,
              "#fdca26"
             ],
             [
              1,
              "#f0f921"
             ]
            ],
            "type": "heatmapgl"
           }
          ],
          "histogram": [
           {
            "marker": {
             "pattern": {
              "fillmode": "overlay",
              "size": 10,
              "solidity": 0.2
             }
            },
            "type": "histogram"
           }
          ],
          "histogram2d": [
           {
            "colorbar": {
             "outlinewidth": 0,
             "ticks": ""
            },
            "colorscale": [
             [
              0,
              "#0d0887"
             ],
             [
              0.1111111111111111,
              "#46039f"
             ],
             [
              0.2222222222222222,
              "#7201a8"
             ],
             [
              0.3333333333333333,
              "#9c179e"
             ],
             [
              0.4444444444444444,
              "#bd3786"
             ],
             [
              0.5555555555555556,
              "#d8576b"
             ],
             [
              0.6666666666666666,
              "#ed7953"
             ],
             [
              0.7777777777777778,
              "#fb9f3a"
             ],
             [
              0.8888888888888888,
              "#fdca26"
             ],
             [
              1,
              "#f0f921"
             ]
            ],
            "type": "histogram2d"
           }
          ],
          "histogram2dcontour": [
           {
            "colorbar": {
             "outlinewidth": 0,
             "ticks": ""
            },
            "colorscale": [
             [
              0,
              "#0d0887"
             ],
             [
              0.1111111111111111,
              "#46039f"
             ],
             [
              0.2222222222222222,
              "#7201a8"
             ],
             [
              0.3333333333333333,
              "#9c179e"
             ],
             [
              0.4444444444444444,
              "#bd3786"
             ],
             [
              0.5555555555555556,
              "#d8576b"
             ],
             [
              0.6666666666666666,
              "#ed7953"
             ],
             [
              0.7777777777777778,
              "#fb9f3a"
             ],
             [
              0.8888888888888888,
              "#fdca26"
             ],
             [
              1,
              "#f0f921"
             ]
            ],
            "type": "histogram2dcontour"
           }
          ],
          "mesh3d": [
           {
            "colorbar": {
             "outlinewidth": 0,
             "ticks": ""
            },
            "type": "mesh3d"
           }
          ],
          "parcoords": [
           {
            "line": {
             "colorbar": {
              "outlinewidth": 0,
              "ticks": ""
             }
            },
            "type": "parcoords"
           }
          ],
          "pie": [
           {
            "automargin": true,
            "type": "pie"
           }
          ],
          "scatter": [
           {
            "fillpattern": {
             "fillmode": "overlay",
             "size": 10,
             "solidity": 0.2
            },
            "type": "scatter"
           }
          ],
          "scatter3d": [
           {
            "line": {
             "colorbar": {
              "outlinewidth": 0,
              "ticks": ""
             }
            },
            "marker": {
             "colorbar": {
              "outlinewidth": 0,
              "ticks": ""
             }
            },
            "type": "scatter3d"
           }
          ],
          "scattercarpet": [
           {
            "marker": {
             "colorbar": {
              "outlinewidth": 0,
              "ticks": ""
             }
            },
            "type": "scattercarpet"
           }
          ],
          "scattergeo": [
           {
            "marker": {
             "colorbar": {
              "outlinewidth": 0,
              "ticks": ""
             }
            },
            "type": "scattergeo"
           }
          ],
          "scattergl": [
           {
            "marker": {
             "colorbar": {
              "outlinewidth": 0,
              "ticks": ""
             }
            },
            "type": "scattergl"
           }
          ],
          "scattermapbox": [
           {
            "marker": {
             "colorbar": {
              "outlinewidth": 0,
              "ticks": ""
             }
            },
            "type": "scattermapbox"
           }
          ],
          "scatterpolar": [
           {
            "marker": {
             "colorbar": {
              "outlinewidth": 0,
              "ticks": ""
             }
            },
            "type": "scatterpolar"
           }
          ],
          "scatterpolargl": [
           {
            "marker": {
             "colorbar": {
              "outlinewidth": 0,
              "ticks": ""
             }
            },
            "type": "scatterpolargl"
           }
          ],
          "scatterternary": [
           {
            "marker": {
             "colorbar": {
              "outlinewidth": 0,
              "ticks": ""
             }
            },
            "type": "scatterternary"
           }
          ],
          "surface": [
           {
            "colorbar": {
             "outlinewidth": 0,
             "ticks": ""
            },
            "colorscale": [
             [
              0,
              "#0d0887"
             ],
             [
              0.1111111111111111,
              "#46039f"
             ],
             [
              0.2222222222222222,
              "#7201a8"
             ],
             [
              0.3333333333333333,
              "#9c179e"
             ],
             [
              0.4444444444444444,
              "#bd3786"
             ],
             [
              0.5555555555555556,
              "#d8576b"
             ],
             [
              0.6666666666666666,
              "#ed7953"
             ],
             [
              0.7777777777777778,
              "#fb9f3a"
             ],
             [
              0.8888888888888888,
              "#fdca26"
             ],
             [
              1,
              "#f0f921"
             ]
            ],
            "type": "surface"
           }
          ],
          "table": [
           {
            "cells": {
             "fill": {
              "color": "#EBF0F8"
             },
             "line": {
              "color": "white"
             }
            },
            "header": {
             "fill": {
              "color": "#C8D4E3"
             },
             "line": {
              "color": "white"
             }
            },
            "type": "table"
           }
          ]
         },
         "layout": {
          "annotationdefaults": {
           "arrowcolor": "#2a3f5f",
           "arrowhead": 0,
           "arrowwidth": 1
          },
          "autotypenumbers": "strict",
          "coloraxis": {
           "colorbar": {
            "outlinewidth": 0,
            "ticks": ""
           }
          },
          "colorscale": {
           "diverging": [
            [
             0,
             "#8e0152"
            ],
            [
             0.1,
             "#c51b7d"
            ],
            [
             0.2,
             "#de77ae"
            ],
            [
             0.3,
             "#f1b6da"
            ],
            [
             0.4,
             "#fde0ef"
            ],
            [
             0.5,
             "#f7f7f7"
            ],
            [
             0.6,
             "#e6f5d0"
            ],
            [
             0.7,
             "#b8e186"
            ],
            [
             0.8,
             "#7fbc41"
            ],
            [
             0.9,
             "#4d9221"
            ],
            [
             1,
             "#276419"
            ]
           ],
           "sequential": [
            [
             0,
             "#0d0887"
            ],
            [
             0.1111111111111111,
             "#46039f"
            ],
            [
             0.2222222222222222,
             "#7201a8"
            ],
            [
             0.3333333333333333,
             "#9c179e"
            ],
            [
             0.4444444444444444,
             "#bd3786"
            ],
            [
             0.5555555555555556,
             "#d8576b"
            ],
            [
             0.6666666666666666,
             "#ed7953"
            ],
            [
             0.7777777777777778,
             "#fb9f3a"
            ],
            [
             0.8888888888888888,
             "#fdca26"
            ],
            [
             1,
             "#f0f921"
            ]
           ],
           "sequentialminus": [
            [
             0,
             "#0d0887"
            ],
            [
             0.1111111111111111,
             "#46039f"
            ],
            [
             0.2222222222222222,
             "#7201a8"
            ],
            [
             0.3333333333333333,
             "#9c179e"
            ],
            [
             0.4444444444444444,
             "#bd3786"
            ],
            [
             0.5555555555555556,
             "#d8576b"
            ],
            [
             0.6666666666666666,
             "#ed7953"
            ],
            [
             0.7777777777777778,
             "#fb9f3a"
            ],
            [
             0.8888888888888888,
             "#fdca26"
            ],
            [
             1,
             "#f0f921"
            ]
           ]
          },
          "colorway": [
           "#636efa",
           "#EF553B",
           "#00cc96",
           "#ab63fa",
           "#FFA15A",
           "#19d3f3",
           "#FF6692",
           "#B6E880",
           "#FF97FF",
           "#FECB52"
          ],
          "font": {
           "color": "#2a3f5f"
          },
          "geo": {
           "bgcolor": "white",
           "lakecolor": "white",
           "landcolor": "#E5ECF6",
           "showlakes": true,
           "showland": true,
           "subunitcolor": "white"
          },
          "hoverlabel": {
           "align": "left"
          },
          "hovermode": "closest",
          "mapbox": {
           "style": "light"
          },
          "paper_bgcolor": "white",
          "plot_bgcolor": "#E5ECF6",
          "polar": {
           "angularaxis": {
            "gridcolor": "white",
            "linecolor": "white",
            "ticks": ""
           },
           "bgcolor": "#E5ECF6",
           "radialaxis": {
            "gridcolor": "white",
            "linecolor": "white",
            "ticks": ""
           }
          },
          "scene": {
           "xaxis": {
            "backgroundcolor": "#E5ECF6",
            "gridcolor": "white",
            "gridwidth": 2,
            "linecolor": "white",
            "showbackground": true,
            "ticks": "",
            "zerolinecolor": "white"
           },
           "yaxis": {
            "backgroundcolor": "#E5ECF6",
            "gridcolor": "white",
            "gridwidth": 2,
            "linecolor": "white",
            "showbackground": true,
            "ticks": "",
            "zerolinecolor": "white"
           },
           "zaxis": {
            "backgroundcolor": "#E5ECF6",
            "gridcolor": "white",
            "gridwidth": 2,
            "linecolor": "white",
            "showbackground": true,
            "ticks": "",
            "zerolinecolor": "white"
           }
          },
          "shapedefaults": {
           "line": {
            "color": "#2a3f5f"
           }
          },
          "ternary": {
           "aaxis": {
            "gridcolor": "white",
            "linecolor": "white",
            "ticks": ""
           },
           "baxis": {
            "gridcolor": "white",
            "linecolor": "white",
            "ticks": ""
           },
           "bgcolor": "#E5ECF6",
           "caxis": {
            "gridcolor": "white",
            "linecolor": "white",
            "ticks": ""
           }
          },
          "title": {
           "x": 0.05
          },
          "xaxis": {
           "automargin": true,
           "gridcolor": "white",
           "linecolor": "white",
           "ticks": "",
           "title": {
            "standoff": 15
           },
           "zerolinecolor": "white",
           "zerolinewidth": 2
          },
          "yaxis": {
           "automargin": true,
           "gridcolor": "white",
           "linecolor": "white",
           "ticks": "",
           "title": {
            "standoff": 15
           },
           "zerolinecolor": "white",
           "zerolinewidth": 2
          }
         }
        },
        "title": {
         "text": "R against OBP"
        },
        "xaxis": {
         "anchor": "y",
         "autorange": true,
         "domain": [
          0,
          1
         ],
         "range": [
          -1.4282662869348524,
          25.428266286934853
         ],
         "title": {
          "text": "R"
         },
         "type": "linear"
        },
        "yaxis": {
         "anchor": "x",
         "autorange": true,
         "domain": [
          0,
          1
         ],
         "range": [
          0.0057692307692307696,
          0.7142307692307692
         ],
         "title": {
          "text": "OBP"
         },
         "type": "linear"
        }
       }
      },
      "image/png": "[encoded data removed]",
      "text/html": [
       "<div>                            <div id=\"6a149493-d388-4ed7-918f-1b6aeb68223b\" class=\"plotly-graph-div\" style=\"height:525px; width:100%;\"></div>            <script type=\"text/javascript\">                require([\"plotly\"], function(Plotly) {                    window.PLOTLYENV=window.PLOTLYENV || {};                                    if (document.getElementById(\"6a149493-d388-4ed7-918f-1b6aeb68223b\")) {                    Plotly.newPlot(                        \"6a149493-d388-4ed7-918f-1b6aeb68223b\",                        [{\"hovertemplate\":\"R=%{x}<br>OBP=%{y}<extra></extra>\",\"legendgroup\":\"\",\"marker\":{\"color\":\"#636efa\",\"symbol\":\"circle\",\"size\":3},\"mode\":\"markers\",\"name\":\"\",\"orientation\":\"v\",\"showlegend\":false,\"x\":[17,16,19,20,23,18,14,16,16,19,14,21,14,20,23,22,17,20,14,14,11,15,10,19,17,11,16,10,16,17,10,11,24,20,18,17,9,19,16,12,10,7,20,13,20,20,8,23,16,14,19,13,17,18,12,8,13,20,11,8,11,18,18,20,8,20,9,16,11,7,14,19,16,17,12,11,17,18,15,10,14,13,16,5,10,21,13,12,11,9,9,6,7,20,12,14,10,17,9,6,10,6,13,18,7,11,5,15,15,6,11,17,10,15,6,19,18,10,11,8,18,7,4,5,4,7,9,9,16,15,11,13,13,7,12,9,4,14,12,13,4,2,12,10,12,10,10,2,7,11,12,9,4,12,9,5,7,12,6,7,5,2,3,12,4,9,12,2,4,15,9,6,6,14,7,8,9,15,5,9,11,4,5,6,11,4,11,4,6,11,5,4,6,8,5,13,5,0,12,5,4,6,6,12,5,13,5,5,11,15,11,22,6,8,2,8,12,4,8,17,12,5,4,3,8,5,4,0,4,9,15,9,9,6,4,7,3,4,2,19,1,13,12,1,1,11,1,9,1,0,17,6,4,5,3,10,18,1,7,4,1,3,2,2,13,4,1,7,7,1,3,10,10,6,5,1,10,0,8,0,0,13,0,0,2,1,1,6,6,0,7,7,0,0,1,7,4,3,0,1,1,6,1,3,1,12,3,4,2,0,11,1,0,8,4,15,10,13,8,3,8,0,2,0,10,7,1,1,1,3,10,15,2,5,8,1,9,10,1,9,7,0,6,10,11,10,0,2,1,8,3,5,9,1,0,9,3,1,0,2,3,1,0,13,5,1,9,5,8,3,0,9,2,0,7,9,7,1,4,6,0,8,5,11,0,1,2,0,2,6,6,11,11,4,10,9,8,6,6,3,0,2,0,0,3,4,0,7,12,1,2,6,1,8,0,2,4,1,0,3,2,3,2,6,4,0,8,8,9,5,6,8,6,3,3,6,9,7,5,10,4,3,5,13,5,9,3,3,2,4,0,1,6,8,8,10,8,12,4,6,4,7,4,4],\"xaxis\":\"x\",\"y\":[0.33,0.365,0.315,0.367,0.416,0.333,0.329,0.344,0.372,0.267,0.353,0.364,0.317,0.35,0.41,0.356,0.335,0.346,0.327,0.353,0.393,0.363,0.339,0.362,0.325,0.333,0.363,0.303,0.328,0.305,0.373,0.305,0.348,0.328,0.339,0.33,0.329,0.389,0.31,0.353,0.325,0.319,0.41,0.328,0.289,0.324,0.334,0.328,0.339,0.306,0.318,0.356,0.315,0.336,0.301,0.367,0.307,0.324,0.374,0.346,0.36,0.412,0.314,0.297,0.369,0.345,0.352,0.33,0.309,0.328,0.34,0.41,0.352,0.345,0.254,0.283,0.333,0.294,0.363,0.304,0.318,0.324,0.364,0.39,0.315,0.311,0.38,0.307,0.278,0.321,0.318,0.286,0.353,0.338,0.407,0.291,0.316,0.406,0.333,0.293,0.297,0.322,0.321,0.309,0.322,0.359,0.271,0.408,0.312,0.304,0.34,0.319,0.301,0.358,0.296,0.36,0.351,0.357,0.315,0.302,0.309,0.367,0.327,0.339,0.258,0.302,0.295,0.315,0.31,0.303,0.332,0.268,0.347,0.283,0.336,0.283,0.257,0.325,0.306,0.327,0.306,0.3,0.317,0.309,0.336,0.358,0.323,0.319,0.329,0.321,0.319,0.301,0.335,0.314,0.28,0.326,0.309,0.322,0.349,0.281,0.296,0.292,0.314,0.285,0.282,0.3,0.344,0.275,0.308,0.378,0.317,0.304,0.369,0.338,0.275,0.343,0.31,0.32,0.293,0.304,0.333,0.263,0.266,0.273,0.355,0.305,0.297,0.31,0.348,0.311,0.322,0.234,0.311,0.349,0.257,0.315,0.327,0.348,0.305,0.267,0.37,0.324,0.303,0.309,0.276,0.297,0.316,0.267,0.385,0.334,0.328,0.37,0.319,0.34,0.321,0.285,0.355,0.339,0.312,0.343,0.361,0.375,0.23,0.272,0.342,0.248,0.372,0.268,0.263,0.292,0.296,0.288,0.31,0.351,0.274,0.286,0.259,0.381,0.308,0.289,0.35,0.315,0.329,0.158,0.286,0.317,0.246,0.267,0.295,0.232,0.328,0.369,0.277,0.339,0.338,0.236,0.335,0.333,0.357,0.317,0.333,0.328,0.25,0.311,0.326,0.296,0.322,0.31,0.28,0.281,0.247,0.327,0.305,0.312,0.308,0.309,0.305,0.307,0.365,0.279,0.283,0.273,0.264,0.308,0.186,0.268,0.233,0.308,0.278,0.667,0.288,0.365,0.283,0.231,0.206,0.295,0.269,0.284,0.152,0.383,0.29,0.317,0.347,0.356,0.111,0.339,0.235,0.267,0.292,0.2,0.345,0.288,0.29,0.339,0.259,0.34,0.312,0.349,0.299,0.343,0.304,0.308,0.331,0.321,0.312,0.32,0.331,0.196,0.249,0.278,0.341,0.337,0.275,0.2,0.304,0.285,0.287,0.363,0.3,0.326,0.318,0.154,0.241,0.3,0.263,0.304,0.248,0.229,0.235,0.285,0.261,0.188,0.313,0.233,0.235,0.268,0.333,0.322,0.125,0.111,0.273,0.244,0.25,0.3,0.354,0.37,0.258,0.241,0.295,0.256,0.204,0.304,0.304,0.053,0.325,0.293,0.317,0.247,0.304,0.237,0.244,0.325,0.315,0.356,0.312,0.325,0.286,0.091,0.274,0.282,0.269,0.315,0.299,0.306,0.288,0.301,0.321,0.211,0.31,0.299,0.302,0.263,0.238,0.13,0.26,0.263,0.29,0.311,0.305,0.192,0.309,0.22,0.306,0.257,0.231,0.288,0.328,0.364,0.365,0.288,0.313,0.239,0.278,0.2,0.275,0.335,0.318,0.275,0.316,0.369,0.253,0.257,0.304,0.216,0.258,0.29,0.313,0.256,0.34,0.327,0.153,0.215,0.231,0.367,0.284,0.326,0.224,0.256,0.208,0.353,0.322,0.125,0.303,0.185,0.277,0.321,0.213,0.295,0.346,0.296,0.274,0.28,0.239,0.294],\"yaxis\":\"y\",\"type\":\"scatter\"}],                        {\"template\":{\"data\":{\"histogram2dcontour\":[{\"type\":\"histogram2dcontour\",\"colorbar\":{\"outlinewidth\":0,\"ticks\":\"\"},\"colorscale\":[[0.0,\"#0d0887\"],[0.1111111111111111,\"#46039f\"],[0.2222222222222222,\"#7201a8\"],[0.3333333333333333,\"#9c179e\"],[0.4444444444444444,\"#bd3786\"],[0.5555555555555556,\"#d8576b\"],[0.6666666666666666,\"#ed7953\"],[0.7777777777777778,\"#fb9f3a\"],[0.8888888888888888,\"#fdca26\"],[1.0,\"#f0f921\"]]}],\"choropleth\":[{\"type\":\"choropleth\",\"colorbar\":{\"outlinewidth\":0,\"ticks\":\"\"}}],\"histogram2d\":[{\"type\":\"histogram2d\",\"colorbar\":{\"outlinewidth\":0,\"ticks\":\"\"},\"colorscale\":[[0.0,\"#0d0887\"],[0.1111111111111111,\"#46039f\"],[0.2222222222222222,\"#7201a8\"],[0.3333333333333333,\"#9c179e\"],[0.4444444444444444,\"#bd3786\"],[0.5555555555555556,\"#d8576b\"],[0.6666666666666666,\"#ed7953\"],[0.7777777777777778,\"#fb9f3a\"],[0.8888888888888888,\"#fdca26\"],[1.0,\"#f0f921\"]]}],\"heatmap\":[{\"type\":\"heatmap\",\"colorbar\":{\"outlinewidth\":0,\"ticks\":\"\"},\"colorscale\":[[0.0,\"#0d0887\"],[0.1111111111111111,\"#46039f\"],[0.2222222222222222,\"#7201a8\"],[0.3333333333333333,\"#9c179e\"],[0.4444444444444444,\"#bd3786\"],[0.5555555555555556,\"#d8576b\"],[0.6666666666666666,\"#ed7953\"],[0.7777777777777778,\"#fb9f3a\"],[0.8888888888888888,\"#fdca26\"],[1.0,\"#f0f921\"]]}],\"heatmapgl\":[{\"type\":\"heatmapgl\",\"colorbar\":{\"outlinewidth\":0,\"ticks\":\"\"},\"colorscale\":[[0.0,\"#0d0887\"],[0.1111111111111111,\"#46039f\"],[0.2222222222222222,\"#7201a8\"],[0.3333333333333333,\"#9c179e\"],[0.4444444444444444,\"#bd3786\"],[0.5555555555555556,\"#d8576b\"],[0.6666666666666666,\"#ed7953\"],[0.7777777777777778,\"#fb9f3a\"],[0.8888888888888888,\"#fdca26\"],[1.0,\"#f0f921\"]]}],\"contourcarpet\":[{\"type\":\"contourcarpet\",\"colorbar\":{\"outlinewidth\":0,\"ticks\":\"\"}}],\"contour\":[{\"type\":\"contour\",\"colorbar\":{\"outlinewidth\":0,\"ticks\":\"\"},\"colorscale\":[[0.0,\"#0d0887\"],[0.1111111111111111,\"#46039f\"],[0.2222222222222222,\"#7201a8\"],[0.3333333333333333,\"#9c179e\"],[0.4444444444444444,\"#bd3786\"],[0.5555555555555556,\"#d8576b\"],[0.6666666666666666,\"#ed7953\"],[0.7777777777777778,\"#fb9f3a\"],[0.8888888888888888,\"#fdca26\"],[1.0,\"#f0f921\"]]}],\"surface\":[{\"type\":\"surface\",\"colorbar\":{\"outlinewidth\":0,\"ticks\":\"\"},\"colorscale\":[[0.0,\"#0d0887\"],[0.1111111111111111,\"#46039f\"],[0.2222222222222222,\"#7201a8\"],[0.3333333333333333,\"#9c179e\"],[0.4444444444444444,\"#bd3786\"],[0.5555555555555556,\"#d8576b\"],[0.6666666666666666,\"#ed7953\"],[0.7777777777777778,\"#fb9f3a\"],[0.8888888888888888,\"#fdca26\"],[1.0,\"#f0f921\"]]}],\"mesh3d\":[{\"type\":\"mesh3d\",\"colorbar\":{\"outlinewidth\":0,\"ticks\":\"\"}}],\"scatter\":[{\"fillpattern\":{\"fillmode\":\"overlay\",\"size\":10,\"solidity\":0.2},\"type\":\"scatter\"}],\"parcoords\":[{\"type\":\"parcoords\",\"line\":{\"colorbar\":{\"outlinewidth\":0,\"ticks\":\"\"}}}],\"scatterpolargl\":[{\"type\":\"scatterpolargl\",\"marker\":{\"colorbar\":{\"outlinewidth\":0,\"ticks\":\"\"}}}],\"bar\":[{\"error_x\":{\"color\":\"#2a3f5f\"},\"error_y\":{\"color\":\"#2a3f5f\"},\"marker\":{\"line\":{\"color\":\"#E5ECF6\",\"width\":0.5},\"pattern\":{\"fillmode\":\"overlay\",\"size\":10,\"solidity\":0.2}},\"type\":\"bar\"}],\"scattergeo\":[{\"type\":\"scattergeo\",\"marker\":{\"colorbar\":{\"outlinewidth\":0,\"ticks\":\"\"}}}],\"scatterpolar\":[{\"type\":\"scatterpolar\",\"marker\":{\"colorbar\":{\"outlinewidth\":0,\"ticks\":\"\"}}}],\"histogram\":[{\"marker\":{\"pattern\":{\"fillmode\":\"overlay\",\"size\":10,\"solidity\":0.2}},\"type\":\"histogram\"}],\"scattergl\":[{\"type\":\"scattergl\",\"marker\":{\"colorbar\":{\"outlinewidth\":0,\"ticks\":\"\"}}}],\"scatter3d\":[{\"type\":\"scatter3d\",\"line\":{\"colorbar\":{\"outlinewidth\":0,\"ticks\":\"\"}},\"marker\":{\"colorbar\":{\"outlinewidth\":0,\"ticks\":\"\"}}}],\"scattermapbox\":[{\"type\":\"scattermapbox\",\"marker\":{\"colorbar\":{\"outlinewidth\":0,\"ticks\":\"\"}}}],\"scatterternary\":[{\"type\":\"scatterternary\",\"marker\":{\"colorbar\":{\"outlinewidth\":0,\"ticks\":\"\"}}}],\"scattercarpet\":[{\"type\":\"scattercarpet\",\"marker\":{\"colorbar\":{\"outlinewidth\":0,\"ticks\":\"\"}}}],\"carpet\":[{\"aaxis\":{\"endlinecolor\":\"#2a3f5f\",\"gridcolor\":\"white\",\"linecolor\":\"white\",\"minorgridcolor\":\"white\",\"startlinecolor\":\"#2a3f5f\"},\"baxis\":{\"endlinecolor\":\"#2a3f5f\",\"gridcolor\":\"white\",\"linecolor\":\"white\",\"minorgridcolor\":\"white\",\"startlinecolor\":\"#2a3f5f\"},\"type\":\"carpet\"}],\"table\":[{\"cells\":{\"fill\":{\"color\":\"#EBF0F8\"},\"line\":{\"color\":\"white\"}},\"header\":{\"fill\":{\"color\":\"#C8D4E3\"},\"line\":{\"color\":\"white\"}},\"type\":\"table\"}],\"barpolar\":[{\"marker\":{\"line\":{\"color\":\"#E5ECF6\",\"width\":0.5},\"pattern\":{\"fillmode\":\"overlay\",\"size\":10,\"solidity\":0.2}},\"type\":\"barpolar\"}],\"pie\":[{\"automargin\":true,\"type\":\"pie\"}]},\"layout\":{\"autotypenumbers\":\"strict\",\"colorway\":[\"#636efa\",\"#EF553B\",\"#00cc96\",\"#ab63fa\",\"#FFA15A\",\"#19d3f3\",\"#FF6692\",\"#B6E880\",\"#FF97FF\",\"#FECB52\"],\"font\":{\"color\":\"#2a3f5f\"},\"hovermode\":\"closest\",\"hoverlabel\":{\"align\":\"left\"},\"paper_bgcolor\":\"white\",\"plot_bgcolor\":\"#E5ECF6\",\"polar\":{\"bgcolor\":\"#E5ECF6\",\"angularaxis\":{\"gridcolor\":\"white\",\"linecolor\":\"white\",\"ticks\":\"\"},\"radialaxis\":{\"gridcolor\":\"white\",\"linecolor\":\"white\",\"ticks\":\"\"}},\"ternary\":{\"bgcolor\":\"#E5ECF6\",\"aaxis\":{\"gridcolor\":\"white\",\"linecolor\":\"white\",\"ticks\":\"\"},\"baxis\":{\"gridcolor\":\"white\",\"linecolor\":\"white\",\"ticks\":\"\"},\"caxis\":{\"gridcolor\":\"white\",\"linecolor\":\"white\",\"ticks\":\"\"}},\"coloraxis\":{\"colorbar\":{\"outlinewidth\":0,\"ticks\":\"\"}},\"colorscale\":{\"sequential\":[[0.0,\"#0d0887\"],[0.1111111111111111,\"#46039f\"],[0.2222222222222222,\"#7201a8\"],[0.3333333333333333,\"#9c179e\"],[0.4444444444444444,\"#bd3786\"],[0.5555555555555556,\"#d8576b\"],[0.6666666666666666,\"#ed7953\"],[0.7777777777777778,\"#fb9f3a\"],[0.8888888888888888,\"#fdca26\"],[1.0,\"#f0f921\"]],\"sequentialminus\":[[0.0,\"#0d0887\"],[0.1111111111111111,\"#46039f\"],[0.2222222222222222,\"#7201a8\"],[0.3333333333333333,\"#9c179e\"],[0.4444444444444444,\"#bd3786\"],[0.5555555555555556,\"#d8576b\"],[0.6666666666666666,\"#ed7953\"],[0.7777777777777778,\"#fb9f3a\"],[0.8888888888888888,\"#fdca26\"],[1.0,\"#f0f921\"]],\"diverging\":[[0,\"#8e0152\"],[0.1,\"#c51b7d\"],[0.2,\"#de77ae\"],[0.3,\"#f1b6da\"],[0.4,\"#fde0ef\"],[0.5,\"#f7f7f7\"],[0.6,\"#e6f5d0\"],[0.7,\"#b8e186\"],[0.8,\"#7fbc41\"],[0.9,\"#4d9221\"],[1,\"#276419\"]]},\"xaxis\":{\"gridcolor\":\"white\",\"linecolor\":\"white\",\"ticks\":\"\",\"title\":{\"standoff\":15},\"zerolinecolor\":\"white\",\"automargin\":true,\"zerolinewidth\":2},\"yaxis\":{\"gridcolor\":\"white\",\"linecolor\":\"white\",\"ticks\":\"\",\"title\":{\"standoff\":15},\"zerolinecolor\":\"white\",\"automargin\":true,\"zerolinewidth\":2},\"scene\":{\"xaxis\":{\"backgroundcolor\":\"#E5ECF6\",\"gridcolor\":\"white\",\"linecolor\":\"white\",\"showbackground\":true,\"ticks\":\"\",\"zerolinecolor\":\"white\",\"gridwidth\":2},\"yaxis\":{\"backgroundcolor\":\"#E5ECF6\",\"gridcolor\":\"white\",\"linecolor\":\"white\",\"showbackground\":true,\"ticks\":\"\",\"zerolinecolor\":\"white\",\"gridwidth\":2},\"zaxis\":{\"backgroundcolor\":\"#E5ECF6\",\"gridcolor\":\"white\",\"linecolor\":\"white\",\"showbackground\":true,\"ticks\":\"\",\"zerolinecolor\":\"white\",\"gridwidth\":2}},\"shapedefaults\":{\"line\":{\"color\":\"#2a3f5f\"}},\"annotationdefaults\":{\"arrowcolor\":\"#2a3f5f\",\"arrowhead\":0,\"arrowwidth\":1},\"geo\":{\"bgcolor\":\"white\",\"landcolor\":\"#E5ECF6\",\"subunitcolor\":\"white\",\"showland\":true,\"showlakes\":true,\"lakecolor\":\"white\"},\"title\":{\"x\":0.05},\"mapbox\":{\"style\":\"light\"}}},\"xaxis\":{\"anchor\":\"y\",\"domain\":[0.0,1.0],\"title\":{\"text\":\"R\"}},\"yaxis\":{\"anchor\":\"x\",\"domain\":[0.0,1.0],\"title\":{\"text\":\"OBP\"}},\"legend\":{\"tracegroupgap\":0},\"title\":{\"text\":\"R against OBP\"}},                        {\"responsive\": true}                    ).then(function(){\n",
       "                            \n",
       "var gd = document.getElementById('6a149493-d388-4ed7-918f-1b6aeb68223b');\n",
       "var x = new MutationObserver(function (mutations, observer) {{\n",
       "        var display = window.getComputedStyle(gd).display;\n",
       "        if (!display || display === 'none') {{\n",
       "            console.log([gd, 'removed!']);\n",
       "            Plotly.purge(gd);\n",
       "            observer.disconnect();\n",
       "        }}\n",
       "}});\n",
       "\n",
       "// Listen for the removal of the full notebook cells\n",
       "var notebookContainer = gd.closest('#notebook-container');\n",
       "if (notebookContainer) {{\n",
       "    x.observe(notebookContainer, {childList: true});\n",
       "}}\n",
       "\n",
       "// Listen for the clearing of the current output cell\n",
       "var outputEl = gd.closest('.output');\n",
       "if (outputEl) {{\n",
       "    x.observe(outputEl, {childList: true});\n",
       "}}\n",
       "\n",
       "                        })                };                });            </script>        </div>"
      ]
     },
     "metadata": {},
     "output_type": "display_data"
    }
   ],
   "source": [
    "x_data = merged_stats['R']\n",
    "y_data = merged_stats['OBP']\n",
    "\n",
    "slope, intercept = np.polyfit(x_data, y_data, 1)\n",
    "line_of_best_fit = slope * x_data + intercept\n",
    "\n",
    "# Create the 2D scatter plot\n",
    "fig = px.scatter(\n",
    "    merged_stats, \n",
    "    x='R', \n",
    "    y='OBP',\n",
    "    title='R against OBP',\n",
    "    labels={'R': 'R', 'OBP': 'OBP'}\n",
    ")\n",
    "\n",
    "fig.update_traces(marker=dict(size=3),\n",
    "                  selector=dict(mode='markers'))\n",
    "\n",
    "fig.show()"
   ]
  }
 ],
 "metadata": {
  "kernelspec": {
   "display_name": "Python 3 (ipykernel)",
   "language": "python",
   "name": "python3"
  },
  "language_info": {
   "codemirror_mode": {
    "name": "ipython",
    "version": 3
   },
   "file_extension": ".py",
   "mimetype": "text/x-python",
   "name": "python",
   "nbconvert_exporter": "python",
   "pygments_lexer": "ipython3",
   "version": "3.11.7"
  }
 },
 "nbformat": 4,
 "nbformat_minor": 5
}
